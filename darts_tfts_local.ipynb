{
  "cells": [
    {
      "cell_type": "code",
      "execution_count": 1,
      "metadata": {
        "colab": {
          "base_uri": "https://localhost:8080/"
        },
        "id": "yCT22ob272P6",
        "outputId": "67d108a4-0414-46c2-f31b-48f4d5fac5b6"
      },
      "outputs": [
        {
          "name": "stderr",
          "output_type": "stream",
          "text": [
            "ERROR: Failed to build installable wheels for some pyproject.toml based projects (statsforecast)\n"
          ]
        }
      ],
      "source": [
        "!pip install lightning -qqq\n",
        "!pip install pytorch-lightning -qqq\n",
        "!pip install pytorch-forecasting -qqq\n",
        "!pip install optuna statsmodels -qqq\n",
        "!pip install optuna-integration[pytorch_lightning] -qqq\n",
        "!pip install tensorboard tensorboardX -qqq\n",
        "!pip install darts[torch] -qqq"
      ]
    },
    {
      "cell_type": "markdown",
      "metadata": {
        "id": "oX0Xd-XnO16G"
      },
      "source": [
        "### Lectura de archivos y preparación para entrenar"
      ]
    },
    {
      "cell_type": "code",
      "execution_count": 2,
      "metadata": {
        "id": "toMjNWX275qS"
      },
      "outputs": [
        {
          "name": "stderr",
          "output_type": "stream",
          "text": [
            "The StatsForecast module could not be imported. To enable support for the AutoARIMA, AutoETS and Croston models, please consider installing it.\n"
          ]
        }
      ],
      "source": [
        "import os\n",
        "from tqdm import tqdm\n",
        "import torch, itertools, random\n",
        "import pandas as pd\n",
        "import numpy as np\n",
        "from datetime import datetime\n",
        "import urllib.request\n",
        "import warnings\n",
        "from pathlib import Path\n",
        "\n",
        "import darts\n",
        "from darts import TimeSeries\n",
        "from darts.models import TFTModel\n",
        "from darts.metrics import mae\n",
        "from pytorch_lightning.callbacks import EarlyStopping\n",
        "from darts.utils.losses import MAELoss\n",
        "from sklearn.preprocessing import StandardScaler\n",
        "from darts.dataprocessing.transformers import Scaler\n",
        "from darts.utils.likelihood_models import QuantileRegression\n",
        "\n",
        "import pickle\n",
        "import glob\n",
        "import multiprocessing"
      ]
    },
    {
      "cell_type": "code",
      "execution_count": 3,
      "metadata": {
        "id": "x2kj1Z-n8Fo6"
      },
      "outputs": [],
      "source": [
        "# DEFINIR NUMERO DE EXPERIMENTO\n",
        "experimento = 'darts_tfts'"
      ]
    },
    {
      "cell_type": "code",
      "execution_count": 4,
      "metadata": {
        "id": "1ttlqUdR8LOZ"
      },
      "outputs": [],
      "source": [
        "# Configuración de rutas\n",
        "#DRIVE_PATH = \"/content/drive/MyDrive/tft_experiment\"\n",
        "#OPTUNA_PATH = f\"{DRIVE_PATH}/optuna_results\"\n",
        "#MODEL_PATH = f\"{DRIVE_PATH}/final_model\"\n",
        "\n",
        "# Crear directorios\n",
        "#os.makedirs(OPTUNA_PATH, exist_ok=True)\n",
        "#os.makedirs(MODEL_PATH, exist_ok=True)"
      ]
    },
    {
      "cell_type": "code",
      "execution_count": 44,
      "metadata": {
        "id": "PolmJSyT8Nth"
      },
      "outputs": [],
      "source": [
        "df_tft_corto = pd.read_parquet('data/tft_ventana_corta.parquet')\n",
        "df_tft_largo = pd.read_parquet('data/tft_completo.parquet')\n",
        "df_tft_agg = pd.read_parquet('data/tft_agg.parquet')\n",
        "\n",
        "baseline = pd.read_parquet('data/baseline.parquet')"
      ]
    },
    {
      "cell_type": "code",
      "execution_count": 45,
      "metadata": {
        "colab": {
          "base_uri": "https://localhost:8080/",
          "height": 206
        },
        "id": "z3jSe-bkMDXi",
        "outputId": "89a1b0a1-2aa3-479e-9508-3c0469c8ff51"
      },
      "outputs": [
        {
          "data": {
            "text/html": [
              "<div>\n",
              "<style scoped>\n",
              "    .dataframe tbody tr th:only-of-type {\n",
              "        vertical-align: middle;\n",
              "    }\n",
              "\n",
              "    .dataframe tbody tr th {\n",
              "        vertical-align: top;\n",
              "    }\n",
              "\n",
              "    .dataframe thead th {\n",
              "        text-align: right;\n",
              "    }\n",
              "</style>\n",
              "<table border=\"1\" class=\"dataframe\">\n",
              "  <thead>\n",
              "    <tr style=\"text-align: right;\">\n",
              "      <th></th>\n",
              "      <th>periodo</th>\n",
              "      <th>customer_id</th>\n",
              "      <th>product_id</th>\n",
              "      <th>plan_precios_cuidados</th>\n",
              "      <th>cust_request_qty</th>\n",
              "      <th>cust_request_tn</th>\n",
              "      <th>tn</th>\n",
              "      <th>cat1</th>\n",
              "      <th>cat2</th>\n",
              "      <th>cat3</th>\n",
              "      <th>brand</th>\n",
              "      <th>sku_size</th>\n",
              "      <th>descripcion</th>\n",
              "      <th>timestamp</th>\n",
              "      <th>month</th>\n",
              "    </tr>\n",
              "  </thead>\n",
              "  <tbody>\n",
              "    <tr>\n",
              "      <th>0</th>\n",
              "      <td>201701</td>\n",
              "      <td>10234</td>\n",
              "      <td>20524</td>\n",
              "      <td>0</td>\n",
              "      <td>2</td>\n",
              "      <td>0.05300</td>\n",
              "      <td>0.05300</td>\n",
              "      <td>HC</td>\n",
              "      <td>VAJILLA</td>\n",
              "      <td>Cristalino</td>\n",
              "      <td>Importado</td>\n",
              "      <td>500.0</td>\n",
              "      <td>Abrillantador</td>\n",
              "      <td>2017-01-01</td>\n",
              "      <td>1</td>\n",
              "    </tr>\n",
              "    <tr>\n",
              "      <th>1</th>\n",
              "      <td>201701</td>\n",
              "      <td>10032</td>\n",
              "      <td>20524</td>\n",
              "      <td>0</td>\n",
              "      <td>1</td>\n",
              "      <td>0.13628</td>\n",
              "      <td>0.13628</td>\n",
              "      <td>HC</td>\n",
              "      <td>VAJILLA</td>\n",
              "      <td>Cristalino</td>\n",
              "      <td>Importado</td>\n",
              "      <td>500.0</td>\n",
              "      <td>Abrillantador</td>\n",
              "      <td>2017-01-01</td>\n",
              "      <td>1</td>\n",
              "    </tr>\n",
              "    <tr>\n",
              "      <th>2</th>\n",
              "      <td>201701</td>\n",
              "      <td>10217</td>\n",
              "      <td>20524</td>\n",
              "      <td>0</td>\n",
              "      <td>1</td>\n",
              "      <td>0.03028</td>\n",
              "      <td>0.03028</td>\n",
              "      <td>HC</td>\n",
              "      <td>VAJILLA</td>\n",
              "      <td>Cristalino</td>\n",
              "      <td>Importado</td>\n",
              "      <td>500.0</td>\n",
              "      <td>Abrillantador</td>\n",
              "      <td>2017-01-01</td>\n",
              "      <td>1</td>\n",
              "    </tr>\n",
              "    <tr>\n",
              "      <th>3</th>\n",
              "      <td>201701</td>\n",
              "      <td>10125</td>\n",
              "      <td>20524</td>\n",
              "      <td>0</td>\n",
              "      <td>1</td>\n",
              "      <td>0.02271</td>\n",
              "      <td>0.02271</td>\n",
              "      <td>HC</td>\n",
              "      <td>VAJILLA</td>\n",
              "      <td>Cristalino</td>\n",
              "      <td>Importado</td>\n",
              "      <td>500.0</td>\n",
              "      <td>Abrillantador</td>\n",
              "      <td>2017-01-01</td>\n",
              "      <td>1</td>\n",
              "    </tr>\n",
              "    <tr>\n",
              "      <th>4</th>\n",
              "      <td>201701</td>\n",
              "      <td>10012</td>\n",
              "      <td>20524</td>\n",
              "      <td>0</td>\n",
              "      <td>11</td>\n",
              "      <td>1.54452</td>\n",
              "      <td>1.54452</td>\n",
              "      <td>HC</td>\n",
              "      <td>VAJILLA</td>\n",
              "      <td>Cristalino</td>\n",
              "      <td>Importado</td>\n",
              "      <td>500.0</td>\n",
              "      <td>Abrillantador</td>\n",
              "      <td>2017-01-01</td>\n",
              "      <td>1</td>\n",
              "    </tr>\n",
              "  </tbody>\n",
              "</table>\n",
              "</div>"
            ],
            "text/plain": [
              "   periodo  customer_id  product_id  plan_precios_cuidados  cust_request_qty  \\\n",
              "0   201701        10234       20524                      0                 2   \n",
              "1   201701        10032       20524                      0                 1   \n",
              "2   201701        10217       20524                      0                 1   \n",
              "3   201701        10125       20524                      0                 1   \n",
              "4   201701        10012       20524                      0                11   \n",
              "\n",
              "   cust_request_tn       tn cat1     cat2        cat3      brand  sku_size  \\\n",
              "0          0.05300  0.05300   HC  VAJILLA  Cristalino  Importado     500.0   \n",
              "1          0.13628  0.13628   HC  VAJILLA  Cristalino  Importado     500.0   \n",
              "2          0.03028  0.03028   HC  VAJILLA  Cristalino  Importado     500.0   \n",
              "3          0.02271  0.02271   HC  VAJILLA  Cristalino  Importado     500.0   \n",
              "4          1.54452  1.54452   HC  VAJILLA  Cristalino  Importado     500.0   \n",
              "\n",
              "     descripcion  timestamp  month  \n",
              "0  Abrillantador 2017-01-01      1  \n",
              "1  Abrillantador 2017-01-01      1  \n",
              "2  Abrillantador 2017-01-01      1  \n",
              "3  Abrillantador 2017-01-01      1  \n",
              "4  Abrillantador 2017-01-01      1  "
            ]
          },
          "execution_count": 45,
          "metadata": {},
          "output_type": "execute_result"
        }
      ],
      "source": [
        "df_tft_corto.head()"
      ]
    },
    {
      "cell_type": "code",
      "execution_count": 46,
      "metadata": {
        "colab": {
          "base_uri": "https://localhost:8080/",
          "height": 206
        },
        "id": "I58Wn-f7MFh_",
        "outputId": "f829f0ae-02c4-4d71-ec8c-acfb2da01657"
      },
      "outputs": [
        {
          "data": {
            "text/html": [
              "<div>\n",
              "<style scoped>\n",
              "    .dataframe tbody tr th:only-of-type {\n",
              "        vertical-align: middle;\n",
              "    }\n",
              "\n",
              "    .dataframe tbody tr th {\n",
              "        vertical-align: top;\n",
              "    }\n",
              "\n",
              "    .dataframe thead th {\n",
              "        text-align: right;\n",
              "    }\n",
              "</style>\n",
              "<table border=\"1\" class=\"dataframe\">\n",
              "  <thead>\n",
              "    <tr style=\"text-align: right;\">\n",
              "      <th></th>\n",
              "      <th>customer_id</th>\n",
              "      <th>product_id</th>\n",
              "      <th>timestamp</th>\n",
              "      <th>tn</th>\n",
              "      <th>cat1</th>\n",
              "      <th>cat2</th>\n",
              "      <th>cat3</th>\n",
              "      <th>brand</th>\n",
              "      <th>is_synth</th>\n",
              "    </tr>\n",
              "  </thead>\n",
              "  <tbody>\n",
              "    <tr>\n",
              "      <th>0</th>\n",
              "      <td>10234</td>\n",
              "      <td>20524</td>\n",
              "      <td>2017-01-01</td>\n",
              "      <td>0.05300</td>\n",
              "      <td>HC</td>\n",
              "      <td>VAJILLA</td>\n",
              "      <td>Cristalino</td>\n",
              "      <td>Importado</td>\n",
              "      <td>False</td>\n",
              "    </tr>\n",
              "    <tr>\n",
              "      <th>1</th>\n",
              "      <td>10234</td>\n",
              "      <td>20524</td>\n",
              "      <td>2017-02-01</td>\n",
              "      <td>0.00000</td>\n",
              "      <td>None</td>\n",
              "      <td>None</td>\n",
              "      <td>None</td>\n",
              "      <td>None</td>\n",
              "      <td>True</td>\n",
              "    </tr>\n",
              "    <tr>\n",
              "      <th>2</th>\n",
              "      <td>10234</td>\n",
              "      <td>20524</td>\n",
              "      <td>2017-03-01</td>\n",
              "      <td>0.01514</td>\n",
              "      <td>HC</td>\n",
              "      <td>VAJILLA</td>\n",
              "      <td>Cristalino</td>\n",
              "      <td>Importado</td>\n",
              "      <td>False</td>\n",
              "    </tr>\n",
              "    <tr>\n",
              "      <th>3</th>\n",
              "      <td>10234</td>\n",
              "      <td>20524</td>\n",
              "      <td>2017-04-01</td>\n",
              "      <td>0.00000</td>\n",
              "      <td>None</td>\n",
              "      <td>None</td>\n",
              "      <td>None</td>\n",
              "      <td>None</td>\n",
              "      <td>True</td>\n",
              "    </tr>\n",
              "    <tr>\n",
              "      <th>4</th>\n",
              "      <td>10234</td>\n",
              "      <td>20524</td>\n",
              "      <td>2017-05-01</td>\n",
              "      <td>0.00000</td>\n",
              "      <td>None</td>\n",
              "      <td>None</td>\n",
              "      <td>None</td>\n",
              "      <td>None</td>\n",
              "      <td>True</td>\n",
              "    </tr>\n",
              "  </tbody>\n",
              "</table>\n",
              "</div>"
            ],
            "text/plain": [
              "   customer_id  product_id  timestamp       tn  cat1     cat2        cat3  \\\n",
              "0        10234       20524 2017-01-01  0.05300    HC  VAJILLA  Cristalino   \n",
              "1        10234       20524 2017-02-01  0.00000  None     None        None   \n",
              "2        10234       20524 2017-03-01  0.01514    HC  VAJILLA  Cristalino   \n",
              "3        10234       20524 2017-04-01  0.00000  None     None        None   \n",
              "4        10234       20524 2017-05-01  0.00000  None     None        None   \n",
              "\n",
              "       brand  is_synth  \n",
              "0  Importado     False  \n",
              "1       None      True  \n",
              "2  Importado     False  \n",
              "3       None      True  \n",
              "4       None      True  "
            ]
          },
          "execution_count": 46,
          "metadata": {},
          "output_type": "execute_result"
        }
      ],
      "source": [
        "df_tft_largo.head()"
      ]
    },
    {
      "cell_type": "code",
      "execution_count": 47,
      "metadata": {
        "colab": {
          "base_uri": "https://localhost:8080/",
          "height": 206
        },
        "id": "JYe6vOzTMHma",
        "outputId": "86afc117-07c9-4dbf-8af3-104dc5257109"
      },
      "outputs": [
        {
          "data": {
            "text/html": [
              "<div>\n",
              "<style scoped>\n",
              "    .dataframe tbody tr th:only-of-type {\n",
              "        vertical-align: middle;\n",
              "    }\n",
              "\n",
              "    .dataframe tbody tr th {\n",
              "        vertical-align: top;\n",
              "    }\n",
              "\n",
              "    .dataframe thead th {\n",
              "        text-align: right;\n",
              "    }\n",
              "</style>\n",
              "<table border=\"1\" class=\"dataframe\">\n",
              "  <thead>\n",
              "    <tr style=\"text-align: right;\">\n",
              "      <th></th>\n",
              "      <th>product_id</th>\n",
              "      <th>timestamp</th>\n",
              "      <th>tn</th>\n",
              "      <th>cat1</th>\n",
              "      <th>cat2</th>\n",
              "      <th>cat3</th>\n",
              "      <th>brand</th>\n",
              "      <th>sku_size</th>\n",
              "      <th>descripcion</th>\n",
              "      <th>plan_precios_cuidados</th>\n",
              "      <th>periodo</th>\n",
              "      <th>month</th>\n",
              "      <th>is_synth</th>\n",
              "    </tr>\n",
              "  </thead>\n",
              "  <tbody>\n",
              "    <tr>\n",
              "      <th>0</th>\n",
              "      <td>20001</td>\n",
              "      <td>2017-01-01</td>\n",
              "      <td>934.772217</td>\n",
              "      <td>HC</td>\n",
              "      <td>ROPA LAVADO</td>\n",
              "      <td>Liquido</td>\n",
              "      <td>ARIEL</td>\n",
              "      <td>3000.0</td>\n",
              "      <td>genoma</td>\n",
              "      <td>0.0</td>\n",
              "      <td>201701.0</td>\n",
              "      <td>1.0</td>\n",
              "      <td>False</td>\n",
              "    </tr>\n",
              "    <tr>\n",
              "      <th>1</th>\n",
              "      <td>20001</td>\n",
              "      <td>2017-02-01</td>\n",
              "      <td>798.016174</td>\n",
              "      <td>HC</td>\n",
              "      <td>ROPA LAVADO</td>\n",
              "      <td>Liquido</td>\n",
              "      <td>ARIEL</td>\n",
              "      <td>3000.0</td>\n",
              "      <td>genoma</td>\n",
              "      <td>0.0</td>\n",
              "      <td>201702.0</td>\n",
              "      <td>2.0</td>\n",
              "      <td>False</td>\n",
              "    </tr>\n",
              "    <tr>\n",
              "      <th>2</th>\n",
              "      <td>20001</td>\n",
              "      <td>2017-03-01</td>\n",
              "      <td>1303.357666</td>\n",
              "      <td>HC</td>\n",
              "      <td>ROPA LAVADO</td>\n",
              "      <td>Liquido</td>\n",
              "      <td>ARIEL</td>\n",
              "      <td>3000.0</td>\n",
              "      <td>genoma</td>\n",
              "      <td>0.0</td>\n",
              "      <td>201703.0</td>\n",
              "      <td>3.0</td>\n",
              "      <td>False</td>\n",
              "    </tr>\n",
              "    <tr>\n",
              "      <th>3</th>\n",
              "      <td>20001</td>\n",
              "      <td>2017-04-01</td>\n",
              "      <td>1069.961304</td>\n",
              "      <td>HC</td>\n",
              "      <td>ROPA LAVADO</td>\n",
              "      <td>Liquido</td>\n",
              "      <td>ARIEL</td>\n",
              "      <td>3000.0</td>\n",
              "      <td>genoma</td>\n",
              "      <td>0.0</td>\n",
              "      <td>201704.0</td>\n",
              "      <td>4.0</td>\n",
              "      <td>False</td>\n",
              "    </tr>\n",
              "    <tr>\n",
              "      <th>4</th>\n",
              "      <td>20001</td>\n",
              "      <td>2017-05-01</td>\n",
              "      <td>1502.201294</td>\n",
              "      <td>HC</td>\n",
              "      <td>ROPA LAVADO</td>\n",
              "      <td>Liquido</td>\n",
              "      <td>ARIEL</td>\n",
              "      <td>3000.0</td>\n",
              "      <td>genoma</td>\n",
              "      <td>0.0</td>\n",
              "      <td>201705.0</td>\n",
              "      <td>5.0</td>\n",
              "      <td>False</td>\n",
              "    </tr>\n",
              "  </tbody>\n",
              "</table>\n",
              "</div>"
            ],
            "text/plain": [
              "   product_id  timestamp           tn cat1         cat2     cat3  brand  \\\n",
              "0       20001 2017-01-01   934.772217   HC  ROPA LAVADO  Liquido  ARIEL   \n",
              "1       20001 2017-02-01   798.016174   HC  ROPA LAVADO  Liquido  ARIEL   \n",
              "2       20001 2017-03-01  1303.357666   HC  ROPA LAVADO  Liquido  ARIEL   \n",
              "3       20001 2017-04-01  1069.961304   HC  ROPA LAVADO  Liquido  ARIEL   \n",
              "4       20001 2017-05-01  1502.201294   HC  ROPA LAVADO  Liquido  ARIEL   \n",
              "\n",
              "   sku_size descripcion  plan_precios_cuidados   periodo  month  is_synth  \n",
              "0    3000.0      genoma                    0.0  201701.0    1.0     False  \n",
              "1    3000.0      genoma                    0.0  201702.0    2.0     False  \n",
              "2    3000.0      genoma                    0.0  201703.0    3.0     False  \n",
              "3    3000.0      genoma                    0.0  201704.0    4.0     False  \n",
              "4    3000.0      genoma                    0.0  201705.0    5.0     False  "
            ]
          },
          "execution_count": 47,
          "metadata": {},
          "output_type": "execute_result"
        }
      ],
      "source": [
        "df_tft_agg.head()"
      ]
    },
    {
      "cell_type": "code",
      "execution_count": 48,
      "metadata": {},
      "outputs": [
        {
          "data": {
            "text/html": [
              "<div>\n",
              "<style scoped>\n",
              "    .dataframe tbody tr th:only-of-type {\n",
              "        vertical-align: middle;\n",
              "    }\n",
              "\n",
              "    .dataframe tbody tr th {\n",
              "        vertical-align: top;\n",
              "    }\n",
              "\n",
              "    .dataframe thead th {\n",
              "        text-align: right;\n",
              "    }\n",
              "</style>\n",
              "<table border=\"1\" class=\"dataframe\">\n",
              "  <thead>\n",
              "    <tr style=\"text-align: right;\">\n",
              "      <th></th>\n",
              "      <th>product_id</th>\n",
              "      <th>tn</th>\n",
              "    </tr>\n",
              "  </thead>\n",
              "  <tbody>\n",
              "    <tr>\n",
              "      <th>0</th>\n",
              "      <td>20001</td>\n",
              "      <td>1162.705930</td>\n",
              "    </tr>\n",
              "    <tr>\n",
              "      <th>1</th>\n",
              "      <td>20002</td>\n",
              "      <td>1183.639540</td>\n",
              "    </tr>\n",
              "    <tr>\n",
              "      <th>2</th>\n",
              "      <td>20003</td>\n",
              "      <td>684.763159</td>\n",
              "    </tr>\n",
              "    <tr>\n",
              "      <th>3</th>\n",
              "      <td>20004</td>\n",
              "      <td>580.484232</td>\n",
              "    </tr>\n",
              "    <tr>\n",
              "      <th>4</th>\n",
              "      <td>20005</td>\n",
              "      <td>563.559924</td>\n",
              "    </tr>\n",
              "  </tbody>\n",
              "</table>\n",
              "</div>"
            ],
            "text/plain": [
              "   product_id           tn\n",
              "0       20001  1162.705930\n",
              "1       20002  1183.639540\n",
              "2       20003   684.763159\n",
              "3       20004   580.484232\n",
              "4       20005   563.559924"
            ]
          },
          "execution_count": 48,
          "metadata": {},
          "output_type": "execute_result"
        }
      ],
      "source": [
        "baseline.head()"
      ]
    },
    {
      "cell_type": "code",
      "execution_count": 49,
      "metadata": {
        "id": "pMRy8VQ88TpK"
      },
      "outputs": [
        {
          "data": {
            "text/html": [
              "<div>\n",
              "<style scoped>\n",
              "    .dataframe tbody tr th:only-of-type {\n",
              "        vertical-align: middle;\n",
              "    }\n",
              "\n",
              "    .dataframe tbody tr th {\n",
              "        vertical-align: top;\n",
              "    }\n",
              "\n",
              "    .dataframe thead th {\n",
              "        text-align: right;\n",
              "    }\n",
              "</style>\n",
              "<table border=\"1\" class=\"dataframe\">\n",
              "  <thead>\n",
              "    <tr style=\"text-align: right;\">\n",
              "      <th></th>\n",
              "      <th>IPC</th>\n",
              "      <th>inflacion</th>\n",
              "      <th>cambio_dolar</th>\n",
              "      <th>dias_feriados</th>\n",
              "      <th>timestamp</th>\n",
              "    </tr>\n",
              "  </thead>\n",
              "  <tbody>\n",
              "    <tr>\n",
              "      <th>0</th>\n",
              "      <td>100</td>\n",
              "      <td>0.000000</td>\n",
              "      <td>15.890</td>\n",
              "      <td>2</td>\n",
              "      <td>2016-12-01</td>\n",
              "    </tr>\n",
              "    <tr>\n",
              "      <th>1</th>\n",
              "      <td>102</td>\n",
              "      <td>2.000000</td>\n",
              "      <td>16.080</td>\n",
              "      <td>1</td>\n",
              "      <td>2017-01-01</td>\n",
              "    </tr>\n",
              "    <tr>\n",
              "      <th>2</th>\n",
              "      <td>104</td>\n",
              "      <td>1.960784</td>\n",
              "      <td>15.800</td>\n",
              "      <td>2</td>\n",
              "      <td>2017-02-01</td>\n",
              "    </tr>\n",
              "    <tr>\n",
              "      <th>3</th>\n",
              "      <td>107</td>\n",
              "      <td>2.884615</td>\n",
              "      <td>15.645</td>\n",
              "      <td>1</td>\n",
              "      <td>2017-03-01</td>\n",
              "    </tr>\n",
              "    <tr>\n",
              "      <th>4</th>\n",
              "      <td>109</td>\n",
              "      <td>1.869159</td>\n",
              "      <td>15.490</td>\n",
              "      <td>1</td>\n",
              "      <td>2017-04-01</td>\n",
              "    </tr>\n",
              "  </tbody>\n",
              "</table>\n",
              "</div>"
            ],
            "text/plain": [
              "   IPC  inflacion  cambio_dolar  dias_feriados  timestamp\n",
              "0  100   0.000000        15.890              2 2016-12-01\n",
              "1  102   2.000000        16.080              1 2017-01-01\n",
              "2  104   1.960784        15.800              2 2017-02-01\n",
              "3  107   2.884615        15.645              1 2017-03-01\n",
              "4  109   1.869159        15.490              1 2017-04-01"
            ]
          },
          "execution_count": 49,
          "metadata": {},
          "output_type": "execute_result"
        }
      ],
      "source": [
        "# agrego variables económicas\n",
        "df_macro = pd.read_csv('data/datos_contexto_pais.csv')\n",
        "df_macro[\"timestamp\"] = pd.to_datetime(df_macro[\"periodo\"], format=\"%Y%m\").dt.to_period(\"M\").dt.to_timestamp()\n",
        "df_macro_clean = df_macro.drop(columns=[\"periodo\"])\t\t\n",
        "df_macro_clean.head()"
      ]
    },
    {
      "cell_type": "code",
      "execution_count": 50,
      "metadata": {},
      "outputs": [],
      "source": [
        "# extiendo variables macro\n",
        "\n",
        "fechas_extra = pd.date_range(\"2020-01-01\", \"2020-02-01\", freq=\"MS\")\n",
        "ultimo_macro = df_macro_clean[df_macro_clean[\"timestamp\"] == df_macro_clean[\"timestamp\"].max()].copy()\n",
        "macro_extra = pd.concat([ultimo_macro]*len(fechas_extra), ignore_index=True)\n",
        "macro_extra[\"timestamp\"] = fechas_extra\n",
        "\n",
        "df_macro_ext = pd.concat([df_macro_clean, macro_extra], ignore_index=True)\n",
        "df_macro_ext = df_macro_ext.sort_values(\"timestamp\").reset_index(drop=True)"
      ]
    },
    {
      "cell_type": "code",
      "execution_count": 51,
      "metadata": {},
      "outputs": [],
      "source": [
        "num_cols = ['IPC', 'inflacion', 'cambio_dolar', 'dias_feriados']\n",
        "for c in num_cols:\n",
        "    df_macro_ext[c] = pd.to_numeric(df_macro_ext[c], errors='coerce').astype('float32')"
      ]
    },
    {
      "cell_type": "code",
      "execution_count": 52,
      "metadata": {
        "id": "W2B25aJw8VeF"
      },
      "outputs": [],
      "source": [
        "df_tft_corto = df_tft_corto.merge(df_macro_ext, on=\"timestamp\", how=\"left\")\n",
        "df_tft_largo = df_tft_largo.merge(df_macro_ext, on=\"timestamp\", how=\"left\")\n",
        "df_tft_agg = df_tft_agg.merge(df_macro_ext, on=\"timestamp\", how=\"left\")"
      ]
    },
    {
      "cell_type": "markdown",
      "metadata": {},
      "source": [
        "### Creamos series_id"
      ]
    },
    {
      "cell_type": "code",
      "execution_count": 53,
      "metadata": {},
      "outputs": [
        {
          "data": {
            "text/html": [
              "<div>\n",
              "<style scoped>\n",
              "    .dataframe tbody tr th:only-of-type {\n",
              "        vertical-align: middle;\n",
              "    }\n",
              "\n",
              "    .dataframe tbody tr th {\n",
              "        vertical-align: top;\n",
              "    }\n",
              "\n",
              "    .dataframe thead th {\n",
              "        text-align: right;\n",
              "    }\n",
              "</style>\n",
              "<table border=\"1\" class=\"dataframe\">\n",
              "  <thead>\n",
              "    <tr style=\"text-align: right;\">\n",
              "      <th></th>\n",
              "      <th>periodo</th>\n",
              "      <th>customer_id</th>\n",
              "      <th>product_id</th>\n",
              "      <th>plan_precios_cuidados</th>\n",
              "      <th>cust_request_qty</th>\n",
              "      <th>cust_request_tn</th>\n",
              "      <th>tn</th>\n",
              "      <th>cat1</th>\n",
              "      <th>cat2</th>\n",
              "      <th>cat3</th>\n",
              "      <th>brand</th>\n",
              "      <th>sku_size</th>\n",
              "      <th>descripcion</th>\n",
              "      <th>timestamp</th>\n",
              "      <th>month</th>\n",
              "      <th>IPC</th>\n",
              "      <th>inflacion</th>\n",
              "      <th>cambio_dolar</th>\n",
              "      <th>dias_feriados</th>\n",
              "    </tr>\n",
              "  </thead>\n",
              "  <tbody>\n",
              "    <tr>\n",
              "      <th>0</th>\n",
              "      <td>201701</td>\n",
              "      <td>10234</td>\n",
              "      <td>20524</td>\n",
              "      <td>0</td>\n",
              "      <td>2</td>\n",
              "      <td>0.05300</td>\n",
              "      <td>0.05300</td>\n",
              "      <td>HC</td>\n",
              "      <td>VAJILLA</td>\n",
              "      <td>Cristalino</td>\n",
              "      <td>Importado</td>\n",
              "      <td>500.0</td>\n",
              "      <td>Abrillantador</td>\n",
              "      <td>2017-01-01</td>\n",
              "      <td>1</td>\n",
              "      <td>102.0</td>\n",
              "      <td>2.0</td>\n",
              "      <td>16.08</td>\n",
              "      <td>1.0</td>\n",
              "    </tr>\n",
              "    <tr>\n",
              "      <th>1</th>\n",
              "      <td>201701</td>\n",
              "      <td>10032</td>\n",
              "      <td>20524</td>\n",
              "      <td>0</td>\n",
              "      <td>1</td>\n",
              "      <td>0.13628</td>\n",
              "      <td>0.13628</td>\n",
              "      <td>HC</td>\n",
              "      <td>VAJILLA</td>\n",
              "      <td>Cristalino</td>\n",
              "      <td>Importado</td>\n",
              "      <td>500.0</td>\n",
              "      <td>Abrillantador</td>\n",
              "      <td>2017-01-01</td>\n",
              "      <td>1</td>\n",
              "      <td>102.0</td>\n",
              "      <td>2.0</td>\n",
              "      <td>16.08</td>\n",
              "      <td>1.0</td>\n",
              "    </tr>\n",
              "    <tr>\n",
              "      <th>2</th>\n",
              "      <td>201701</td>\n",
              "      <td>10217</td>\n",
              "      <td>20524</td>\n",
              "      <td>0</td>\n",
              "      <td>1</td>\n",
              "      <td>0.03028</td>\n",
              "      <td>0.03028</td>\n",
              "      <td>HC</td>\n",
              "      <td>VAJILLA</td>\n",
              "      <td>Cristalino</td>\n",
              "      <td>Importado</td>\n",
              "      <td>500.0</td>\n",
              "      <td>Abrillantador</td>\n",
              "      <td>2017-01-01</td>\n",
              "      <td>1</td>\n",
              "      <td>102.0</td>\n",
              "      <td>2.0</td>\n",
              "      <td>16.08</td>\n",
              "      <td>1.0</td>\n",
              "    </tr>\n",
              "    <tr>\n",
              "      <th>3</th>\n",
              "      <td>201701</td>\n",
              "      <td>10125</td>\n",
              "      <td>20524</td>\n",
              "      <td>0</td>\n",
              "      <td>1</td>\n",
              "      <td>0.02271</td>\n",
              "      <td>0.02271</td>\n",
              "      <td>HC</td>\n",
              "      <td>VAJILLA</td>\n",
              "      <td>Cristalino</td>\n",
              "      <td>Importado</td>\n",
              "      <td>500.0</td>\n",
              "      <td>Abrillantador</td>\n",
              "      <td>2017-01-01</td>\n",
              "      <td>1</td>\n",
              "      <td>102.0</td>\n",
              "      <td>2.0</td>\n",
              "      <td>16.08</td>\n",
              "      <td>1.0</td>\n",
              "    </tr>\n",
              "    <tr>\n",
              "      <th>4</th>\n",
              "      <td>201701</td>\n",
              "      <td>10012</td>\n",
              "      <td>20524</td>\n",
              "      <td>0</td>\n",
              "      <td>11</td>\n",
              "      <td>1.54452</td>\n",
              "      <td>1.54452</td>\n",
              "      <td>HC</td>\n",
              "      <td>VAJILLA</td>\n",
              "      <td>Cristalino</td>\n",
              "      <td>Importado</td>\n",
              "      <td>500.0</td>\n",
              "      <td>Abrillantador</td>\n",
              "      <td>2017-01-01</td>\n",
              "      <td>1</td>\n",
              "      <td>102.0</td>\n",
              "      <td>2.0</td>\n",
              "      <td>16.08</td>\n",
              "      <td>1.0</td>\n",
              "    </tr>\n",
              "  </tbody>\n",
              "</table>\n",
              "</div>"
            ],
            "text/plain": [
              "   periodo  customer_id  product_id  plan_precios_cuidados  cust_request_qty  \\\n",
              "0   201701        10234       20524                      0                 2   \n",
              "1   201701        10032       20524                      0                 1   \n",
              "2   201701        10217       20524                      0                 1   \n",
              "3   201701        10125       20524                      0                 1   \n",
              "4   201701        10012       20524                      0                11   \n",
              "\n",
              "   cust_request_tn       tn cat1     cat2        cat3      brand  sku_size  \\\n",
              "0          0.05300  0.05300   HC  VAJILLA  Cristalino  Importado     500.0   \n",
              "1          0.13628  0.13628   HC  VAJILLA  Cristalino  Importado     500.0   \n",
              "2          0.03028  0.03028   HC  VAJILLA  Cristalino  Importado     500.0   \n",
              "3          0.02271  0.02271   HC  VAJILLA  Cristalino  Importado     500.0   \n",
              "4          1.54452  1.54452   HC  VAJILLA  Cristalino  Importado     500.0   \n",
              "\n",
              "     descripcion  timestamp  month    IPC  inflacion  cambio_dolar  \\\n",
              "0  Abrillantador 2017-01-01      1  102.0        2.0         16.08   \n",
              "1  Abrillantador 2017-01-01      1  102.0        2.0         16.08   \n",
              "2  Abrillantador 2017-01-01      1  102.0        2.0         16.08   \n",
              "3  Abrillantador 2017-01-01      1  102.0        2.0         16.08   \n",
              "4  Abrillantador 2017-01-01      1  102.0        2.0         16.08   \n",
              "\n",
              "   dias_feriados  \n",
              "0            1.0  \n",
              "1            1.0  \n",
              "2            1.0  \n",
              "3            1.0  \n",
              "4            1.0  "
            ]
          },
          "execution_count": 53,
          "metadata": {},
          "output_type": "execute_result"
        }
      ],
      "source": [
        "df_tft_corto.head()"
      ]
    },
    {
      "cell_type": "code",
      "execution_count": 54,
      "metadata": {
        "colab": {
          "base_uri": "https://localhost:8080/"
        },
        "id": "Oa8wJV668XCU",
        "outputId": "45a6fcf8-fdc6-443f-92eb-a545db427ace"
      },
      "outputs": [
        {
          "name": "stdout",
          "output_type": "stream",
          "text": [
            "Series únicas en 2293481-fila df: 262805\n",
            "Series únicas en 9460980-fila df: 262805\n",
            "Series únicas en df_tft_agg: 780\n"
          ]
        }
      ],
      "source": [
        "# Crear series_id para Darts\n",
        "for df in (df_tft_corto, df_tft_largo):\n",
        "    df[\"series_id\"] = df[\"customer_id\"].astype(str) + \"_\" + df[\"product_id\"].astype(str)\n",
        "    print(f\"Series únicas en {len(df)}-fila df:\", df[\"series_id\"].nunique())\n",
        "\n",
        "df_tft_agg[\"series_id\"] = df_tft_agg[\"product_id\"].astype(str)\n",
        "print(\"Series únicas en df_tft_agg:\", df_tft_agg[\"series_id\"].nunique())"
      ]
    },
    {
      "cell_type": "code",
      "execution_count": 55,
      "metadata": {
        "colab": {
          "base_uri": "https://localhost:8080/"
        },
        "id": "b5-mr89o8aJj",
        "outputId": "06462458-b823-482d-82c5-3519e3ee8deb"
      },
      "outputs": [
        {
          "name": "stdout",
          "output_type": "stream",
          "text": [
            "Mapping creado: 262805 series\n"
          ]
        }
      ],
      "source": [
        "# Mapping directo desde series_id a product_id usando el df de series cortas\n",
        "series_to_product = (\n",
        "    df_tft_corto[[\"series_id\", \"product_id\"]]\n",
        "      .drop_duplicates()\n",
        "      .set_index(\"series_id\")[\"product_id\"]\n",
        "      .to_dict()\n",
        ")\n",
        "\n",
        "print(f\"Mapping creado: {len(series_to_product)} series\")"
      ]
    },
    {
      "cell_type": "markdown",
      "metadata": {
        "id": "quVzK3MZO9_i"
      },
      "source": [
        "### Entrenamiento"
      ]
    },
    {
      "cell_type": "code",
      "execution_count": 59,
      "metadata": {
        "id": "fbt3lX8DS-3Q"
      },
      "outputs": [],
      "source": [
        "tft_largo= {\n",
        "    \"series_list\": None,\n",
        "    \"covariates_list\": None,\n",
        "    \"train_series\": None,\n",
        "    \"val_series\": None,\n",
        "    \"scalers\": None,     \n",
        "    \"model\": None,\n",
        "    \"best_params\": None,\n",
        "    \"metrics\": {},\n",
        "    \"preds_val\": None,\n",
        "    \"preds_feb20\": None,\n",
        "}"
      ]
    },
    {
      "cell_type": "code",
      "execution_count": 60,
      "metadata": {},
      "outputs": [],
      "source": [
        "tft_agg = {\n",
        "    \"series_list\": None,\n",
        "    \"covariates_list\": None,\n",
        "    \"train_series\": None,\n",
        "    \"val_series\": None,\n",
        "    \"scalers\": None,     \n",
        "    \"model\": None,\n",
        "    \"best_params\": None,\n",
        "    \"metrics\": {},\n",
        "    \"preds_val\": None,\n",
        "    \"preds_feb20\": None,\n",
        "}"
      ]
    },
    {
      "cell_type": "code",
      "execution_count": 61,
      "metadata": {},
      "outputs": [],
      "source": [
        "tft_corto = {\n",
        "    \"series_list\": None,\n",
        "    \"covariates_list\": None,\n",
        "    \"train_series\": None,\n",
        "    \"val_series\": None,\n",
        "    \"scalers\": None,     \n",
        "    \"model\": None,\n",
        "    \"best_params\": None,\n",
        "    \"metrics\": {},\n",
        "    \"preds_val\": None,\n",
        "    \"preds_feb20\": None,\n",
        "}"
      ]
    },
    {
      "cell_type": "code",
      "execution_count": 62,
      "metadata": {},
      "outputs": [],
      "source": [
        "# Completo índices de tft_corto\n",
        "# 1) Índices base\n",
        "all_series = df_tft_corto[\"series_id\"].unique()\n",
        "full_range  = pd.date_range(\n",
        "    df_tft_corto[\"timestamp\"].min(),\n",
        "    df_tft_corto[\"timestamp\"].max(),\n",
        "    freq=\"MS\"\n",
        ")\n",
        "\n",
        "# 2) MultiIndex destino: producto cartesiano\n",
        "idx = pd.MultiIndex.from_product(\n",
        "    [all_series, full_range],\n",
        "    names=[\"series_id\", \"timestamp\"]\n",
        ")\n",
        "\n",
        "# 3) Reindexar de una sola vez\n",
        "df_tft_corto = (\n",
        "    df_tft_corto\n",
        "        .set_index([\"series_id\", \"timestamp\"])\n",
        "        .reindex(idx)                 # ← crea filas faltantes en bloque\n",
        "        .reset_index()\n",
        ")"
      ]
    },
    {
      "cell_type": "code",
      "execution_count": 64,
      "metadata": {},
      "outputs": [],
      "source": [
        "# 4) Máscara + fillna\n",
        "df_tft_corto[\"tn\"] = df_tft_corto[\"tn\"].fillna(0)\n",
        "df_tft_corto[\"obs_mask\"] = df_tft_corto[\"tn\"].ne(0).astype(\"float32\")\n",
        "\n",
        "# 5) Covariables macro: propaga hacia delante en vectorizado\n",
        "cov_cols = [\"IPC\", \"inflacion\", \"cambio_dolar\", \"dias_feriados\"]\n",
        "df_tft_corto.sort_values(\"timestamp\", inplace=True)\n",
        "df_tft_corto[cov_cols] = df_tft_corto.groupby(\"series_id\")[cov_cols].ffill()"
      ]
    },
    {
      "cell_type": "code",
      "execution_count": 66,
      "metadata": {},
      "outputs": [],
      "source": [
        "# covariables dinámicas\n",
        "cov_cols_corto = [\"IPC\", \"inflacion\", \"cambio_dolar\", \"dias_feriados\", \"obs_mask\"]\n",
        "cov_cols_largo = [\"IPC\", \"inflacion\", \"cambio_dolar\", \"dias_feriados\", \"is_synth\"]"
      ]
    },
    {
      "cell_type": "code",
      "execution_count": 67,
      "metadata": {},
      "outputs": [],
      "source": [
        "num_cols_corto = cov_cols_corto + [\"tn\"]\n",
        "num_cols_largo = cov_cols_largo + [\"tn\"]\n",
        "\n",
        "df_tft_corto[num_cols_corto] = df_tft_corto[num_cols_corto].astype(\"float32\")\n",
        "df_tft_largo[num_cols_largo] = df_tft_largo[num_cols_largo].astype(\"float32\")"
      ]
    },
    {
      "cell_type": "code",
      "execution_count": 68,
      "metadata": {
        "id": "ZQwwKXWSTCSP"
      },
      "outputs": [],
      "source": [
        "def make_series_and_covs_from_series_id(\n",
        "    df: pd.DataFrame,\n",
        "    cov_cols: list[str],\n",
        "    time_col: str = \"timestamp\",\n",
        "    value_col: str = \"tn\",\n",
        "    freq: str = \"MS\",\n",
        ") -> tuple[list[TimeSeries], list[TimeSeries]]:\n",
        "    grouped = df.groupby(\"series_id\")\n",
        "    print(f\"📊 {len(grouped)} series agrupadas\")\n",
        "\n",
        "    series_list, covariates_list = [], []\n",
        "    print(\"🚀 Procesando grupos...\")\n",
        "    for series_id, group in tqdm(grouped, desc=\"Creando TimeSeries\"):\n",
        "        ts = TimeSeries.from_dataframe(\n",
        "            group,\n",
        "            time_col=time_col,\n",
        "            value_cols=value_col,\n",
        "            freq=freq\n",
        "        )\n",
        "\n",
        "        covs = TimeSeries.from_dataframe(\n",
        "            group,\n",
        "            time_col=time_col,\n",
        "            value_cols=cov_cols,\n",
        "            freq=freq\n",
        "        )\n",
        "\n",
        "        series_list.append(ts)\n",
        "        covariates_list.append(covs)\n",
        "\n",
        "    print(f\"✅ {len(series_list)} series creadas\")\n",
        "    return series_list, covariates_list"
      ]
    },
    {
      "cell_type": "code",
      "execution_count": 24,
      "metadata": {},
      "outputs": [
        {
          "name": "stdout",
          "output_type": "stream",
          "text": [
            "📊 262805 series agrupadas\n",
            "🚀 Procesando grupos...\n"
          ]
        },
        {
          "name": "stderr",
          "output_type": "stream",
          "text": [
            "Creando TimeSeries: 100%|██████████| 262805/262805 [16:50<00:00, 260.03it/s]\n"
          ]
        },
        {
          "name": "stdout",
          "output_type": "stream",
          "text": [
            "✅ 262805 series creadas\n"
          ]
        }
      ],
      "source": [
        "tft_corto[\"series_list\"], tft_corto[\"covariates_list\"] = make_series_and_covs_from_series_id(\n",
        "    df=df_tft_corto,\n",
        "    cov_cols=cov_cols_corto,\n",
        "    time_col=\"timestamp\",\n",
        "    freq=\"MS\"\n",
        ")"
      ]
    },
    {
      "cell_type": "code",
      "execution_count": 69,
      "metadata": {},
      "outputs": [
        {
          "name": "stdout",
          "output_type": "stream",
          "text": [
            "📊 262805 series agrupadas\n",
            "🚀 Procesando grupos...\n"
          ]
        },
        {
          "name": "stderr",
          "output_type": "stream",
          "text": [
            "Creando TimeSeries: 100%|██████████| 262805/262805 [17:15<00:00, 253.68it/s]\n"
          ]
        },
        {
          "name": "stdout",
          "output_type": "stream",
          "text": [
            "✅ 262805 series creadas\n"
          ]
        }
      ],
      "source": [
        "tft_largo[\"series_list\"], tft_largo[\"covariates_list\"] = make_series_and_covs_from_series_id(\n",
        "    df=df_tft_largo,\n",
        "    cov_cols=cov_cols_largo,\n",
        "    time_col=\"timestamp\",\n",
        "    freq=\"MS\"\n",
        ")"
      ]
    },
    {
      "cell_type": "markdown",
      "metadata": {},
      "source": [
        "### Validación tft_corto con 2018"
      ]
    },
    {
      "cell_type": "code",
      "execution_count": 73,
      "metadata": {},
      "outputs": [
        {
          "ename": "TypeError",
          "evalue": "'NoneType' object is not iterable",
          "output_type": "error",
          "traceback": [
            "\u001b[31m---------------------------------------------------------------------------\u001b[39m",
            "\u001b[31mTypeError\u001b[39m                                 Traceback (most recent call last)",
            "\u001b[36mCell\u001b[39m\u001b[36m \u001b[39m\u001b[32mIn[73]\u001b[39m\u001b[32m, line 10\u001b[39m\n\u001b[32m      7\u001b[39m cut_off = pd.Timestamp(\u001b[33m\"\u001b[39m\u001b[33m2018-12-01\u001b[39m\u001b[33m\"\u001b[39m)\n\u001b[32m      8\u001b[39m train_list_18, val_list_18, cov_train_18, cov_val_18 = [], [], [], []\n\u001b[32m---> \u001b[39m\u001b[32m10\u001b[39m \u001b[38;5;28;01mfor\u001b[39;00m ts, cov \u001b[38;5;129;01min\u001b[39;00m \u001b[38;5;28;43mzip\u001b[39;49m\u001b[43m(\u001b[49m\u001b[43mtft_corto\u001b[49m\u001b[43m[\u001b[49m\u001b[33;43m\"\u001b[39;49m\u001b[33;43mseries_list\u001b[39;49m\u001b[33;43m\"\u001b[39;49m\u001b[43m]\u001b[49m\u001b[43m,\u001b[49m\u001b[43m \u001b[49m\u001b[43mtft_corto\u001b[49m\u001b[43m[\u001b[49m\u001b[33;43m\"\u001b[39;49m\u001b[33;43mcovariates_list\u001b[39;49m\u001b[33;43m\"\u001b[39;49m\u001b[43m]\u001b[49m\u001b[43m)\u001b[49m:\n\u001b[32m     11\u001b[39m     tr, va   = split_ts(ts,  cut_off)\n\u001b[32m     12\u001b[39m     ctr, cva = split_ts(cov, cut_off)\n",
            "\u001b[31mTypeError\u001b[39m: 'NoneType' object is not iterable"
          ]
        }
      ],
      "source": [
        "# se intentó correr en colab, el val_loss vienen en nan y se detiene tras primera epcoh\n",
        "# se deja código igualmente\n",
        "\n",
        "def split_ts(ts, cut_off):\n",
        "    return ts.split_before(cut_off)\n",
        "\n",
        "cut_off = pd.Timestamp(\"2018-12-01\")\n",
        "train_list_18, val_list_18, cov_train_18, cov_val_18 = [], [], [], []\n",
        "\n",
        "for ts, cov in zip(tft_corto[\"series_list\"], tft_corto[\"covariates_list\"]):\n",
        "    tr, va   = split_ts(ts,  cut_off)\n",
        "    ctr, cva = split_ts(cov, cut_off)\n",
        "    train_list_18.append(tr)\n",
        "    val_list_18.append(va)\n",
        "    cov_train_18.append(ctr)\n",
        "    cov_val_18.append(cva)"
      ]
    },
    {
      "cell_type": "code",
      "execution_count": 27,
      "metadata": {},
      "outputs": [],
      "source": [
        "# Concatenamos covariables de train + val\n",
        "cov_full_18 = [\n",
        "    ctr.append(cva)          # 5 meses + 1 mes  (jul‑dic 2018)\n",
        "    for ctr, cva in zip(cov_train_18, cov_val_18)\n",
        "]"
      ]
    },
    {
      "cell_type": "code",
      "execution_count": 32,
      "metadata": {},
      "outputs": [],
      "source": [
        "# utils para búsqueda de hp\n",
        "\n",
        "search_space = {\n",
        "    \"hidden_size\"         : [64, 128],\n",
        "    \"n_heads\"             : [4, 8],\n",
        "    \"dropout\"             : [0.1, 0.2],\n",
        "    \"batch_size\"          : [64, 128],\n",
        "    \"optimizer_kwargs\"    : [{\"lr\": 1e-3}, {\"lr\": 5e-4}],\n",
        "}\n",
        "\n",
        "# --------- muestreador aleatorio reproducible --------\n",
        "def sample_params(space, n_samples):\n",
        "    keys, values = zip(*space.items())\n",
        "    combos = list(itertools.product(*values))\n",
        "    random.seed(42); random.shuffle(combos)\n",
        "    for c in combos[:n_samples]:\n",
        "        yield dict(zip(keys, c))\n",
        "\n",
        "# --------- encoders y creador de modelos -------------\n",
        "def build_encoders():\n",
        "    return {\n",
        "        # mes → seno / coseno\n",
        "        \"cyclic\": {\"past\": [\"month\"]},\n",
        "\n",
        "        # escala TODAS las covariables numéricas\n",
        "        # (IPC, inflación, dólar, feriados, obs_mask, …)\n",
        "        \"transformer\": Scaler(StandardScaler())\n",
        "    }"
      ]
    },
    {
      "cell_type": "code",
      "execution_count": null,
      "metadata": {},
      "outputs": [],
      "source": [
        "def create_tft_model_val(params, in_len, out_len):\n",
        "    pl_trainer_kwargs = dict(\n",
        "        accelerator = \"gpu\" if torch.cuda.is_available() else \"cpu\",\n",
        "        devices     = 1     if torch.cuda.is_available() else None,\n",
        "        callbacks   = [EarlyStopping(monitor=\"val_loss\",\n",
        "                                     patience=20, mode=\"min\")],\n",
        "        enable_progress_bar = True,\n",
        "    )\n",
        "    return TFTModel(\n",
        "        input_chunk_length = in_len,\n",
        "        output_chunk_length= out_len,\n",
        "        hidden_size        = params[\"hidden_size\"],\n",
        "        num_attention_heads= params[\"n_heads\"],\n",
        "        dropout            = params[\"dropout\"],\n",
        "        batch_size         = params[\"batch_size\"],\n",
        "        n_epochs           = 150,\n",
        "        lstm_layers        = 2,\n",
        "        likelihood         = QuantileRegression([0.1, 0.5, 0.9]),\n",
        "        use_reversible_instance_norm = True,\n",
        "        optimizer_kwargs   = params[\"optimizer_kwargs\"],\n",
        "        add_encoders       = build_encoders(),\n",
        "        add_relative_index = True,\n",
        "        pl_trainer_kwargs  = pl_trainer_kwargs,\n",
        "        random_state       = 42,\n",
        "        save_checkpoints   = False,\n",
        "    )"
      ]
    },
    {
      "cell_type": "code",
      "execution_count": null,
      "metadata": {},
      "outputs": [
        {
          "name": "stdout",
          "output_type": "stream",
          "text": [
            "🔍 Trial 1/25: {'hidden_size': 128, 'n_heads': 8, 'dropout': 0.1, 'batch_size': 128, 'optimizer_kwargs': {'lr': 0.001}}\n"
          ]
        },
        {
          "name": "stderr",
          "output_type": "stream",
          "text": [
            "GPU available: True (cuda), used: True\n",
            "TPU available: False, using: 0 TPU cores\n",
            "HPU available: False, using: 0 HPUs\n",
            "LOCAL_RANK: 0 - CUDA_VISIBLE_DEVICES: [0]\n",
            "\n",
            "Detected KeyboardInterrupt, attempting graceful shutdown ...\n"
          ]
        },
        {
          "ename": "NameError",
          "evalue": "name 'exit' is not defined",
          "output_type": "error",
          "traceback": [
            "\u001b[31m---------------------------------------------------------------------------\u001b[39m",
            "\u001b[31mKeyboardInterrupt\u001b[39m                         Traceback (most recent call last)",
            "\u001b[36mFile \u001b[39m\u001b[32mc:\\Users\\opera\\AppData\\Local\\Programs\\Python\\Python313\\Lib\\site-packages\\pytorch_lightning\\trainer\\call.py:47\u001b[39m, in \u001b[36m_call_and_handle_interrupt\u001b[39m\u001b[34m(trainer, trainer_fn, *args, **kwargs)\u001b[39m\n\u001b[32m     46\u001b[39m         \u001b[38;5;28;01mreturn\u001b[39;00m trainer.strategy.launcher.launch(trainer_fn, *args, trainer=trainer, **kwargs)\n\u001b[32m---> \u001b[39m\u001b[32m47\u001b[39m     \u001b[38;5;28;01mreturn\u001b[39;00m \u001b[43mtrainer_fn\u001b[49m\u001b[43m(\u001b[49m\u001b[43m*\u001b[49m\u001b[43margs\u001b[49m\u001b[43m,\u001b[49m\u001b[43m \u001b[49m\u001b[43m*\u001b[49m\u001b[43m*\u001b[49m\u001b[43mkwargs\u001b[49m\u001b[43m)\u001b[49m\n\u001b[32m     49\u001b[39m \u001b[38;5;28;01mexcept\u001b[39;00m _TunerExitException:\n",
            "\u001b[36mFile \u001b[39m\u001b[32mc:\\Users\\opera\\AppData\\Local\\Programs\\Python\\Python313\\Lib\\site-packages\\pytorch_lightning\\trainer\\trainer.py:574\u001b[39m, in \u001b[36mTrainer._fit_impl\u001b[39m\u001b[34m(self, model, train_dataloaders, val_dataloaders, datamodule, ckpt_path)\u001b[39m\n\u001b[32m    568\u001b[39m ckpt_path = \u001b[38;5;28mself\u001b[39m._checkpoint_connector._select_ckpt_path(\n\u001b[32m    569\u001b[39m     \u001b[38;5;28mself\u001b[39m.state.fn,\n\u001b[32m    570\u001b[39m     ckpt_path,\n\u001b[32m    571\u001b[39m     model_provided=\u001b[38;5;28;01mTrue\u001b[39;00m,\n\u001b[32m    572\u001b[39m     model_connected=\u001b[38;5;28mself\u001b[39m.lightning_module \u001b[38;5;129;01mis\u001b[39;00m \u001b[38;5;129;01mnot\u001b[39;00m \u001b[38;5;28;01mNone\u001b[39;00m,\n\u001b[32m    573\u001b[39m )\n\u001b[32m--> \u001b[39m\u001b[32m574\u001b[39m \u001b[38;5;28;43mself\u001b[39;49m\u001b[43m.\u001b[49m\u001b[43m_run\u001b[49m\u001b[43m(\u001b[49m\u001b[43mmodel\u001b[49m\u001b[43m,\u001b[49m\u001b[43m \u001b[49m\u001b[43mckpt_path\u001b[49m\u001b[43m=\u001b[49m\u001b[43mckpt_path\u001b[49m\u001b[43m)\u001b[49m\n\u001b[32m    576\u001b[39m \u001b[38;5;28;01massert\u001b[39;00m \u001b[38;5;28mself\u001b[39m.state.stopped\n",
            "\u001b[36mFile \u001b[39m\u001b[32mc:\\Users\\opera\\AppData\\Local\\Programs\\Python\\Python313\\Lib\\site-packages\\pytorch_lightning\\trainer\\trainer.py:981\u001b[39m, in \u001b[36mTrainer._run\u001b[39m\u001b[34m(self, model, ckpt_path)\u001b[39m\n\u001b[32m    978\u001b[39m \u001b[38;5;66;03m# ----------------------------\u001b[39;00m\n\u001b[32m    979\u001b[39m \u001b[38;5;66;03m# RUN THE TRAINER\u001b[39;00m\n\u001b[32m    980\u001b[39m \u001b[38;5;66;03m# ----------------------------\u001b[39;00m\n\u001b[32m--> \u001b[39m\u001b[32m981\u001b[39m results = \u001b[38;5;28;43mself\u001b[39;49m\u001b[43m.\u001b[49m\u001b[43m_run_stage\u001b[49m\u001b[43m(\u001b[49m\u001b[43m)\u001b[49m\n\u001b[32m    983\u001b[39m \u001b[38;5;66;03m# ----------------------------\u001b[39;00m\n\u001b[32m    984\u001b[39m \u001b[38;5;66;03m# POST-Training CLEAN UP\u001b[39;00m\n\u001b[32m    985\u001b[39m \u001b[38;5;66;03m# ----------------------------\u001b[39;00m\n",
            "\u001b[36mFile \u001b[39m\u001b[32mc:\\Users\\opera\\AppData\\Local\\Programs\\Python\\Python313\\Lib\\site-packages\\pytorch_lightning\\trainer\\trainer.py:1025\u001b[39m, in \u001b[36mTrainer._run_stage\u001b[39m\u001b[34m(self)\u001b[39m\n\u001b[32m   1024\u001b[39m \u001b[38;5;28;01mwith\u001b[39;00m torch.autograd.set_detect_anomaly(\u001b[38;5;28mself\u001b[39m._detect_anomaly):\n\u001b[32m-> \u001b[39m\u001b[32m1025\u001b[39m     \u001b[38;5;28;43mself\u001b[39;49m\u001b[43m.\u001b[49m\u001b[43mfit_loop\u001b[49m\u001b[43m.\u001b[49m\u001b[43mrun\u001b[49m\u001b[43m(\u001b[49m\u001b[43m)\u001b[49m\n\u001b[32m   1026\u001b[39m \u001b[38;5;28;01mreturn\u001b[39;00m \u001b[38;5;28;01mNone\u001b[39;00m\n",
            "\u001b[36mFile \u001b[39m\u001b[32mc:\\Users\\opera\\AppData\\Local\\Programs\\Python\\Python313\\Lib\\site-packages\\pytorch_lightning\\loops\\fit_loop.py:205\u001b[39m, in \u001b[36m_FitLoop.run\u001b[39m\u001b[34m(self)\u001b[39m\n\u001b[32m    204\u001b[39m \u001b[38;5;28mself\u001b[39m.on_advance_start()\n\u001b[32m--> \u001b[39m\u001b[32m205\u001b[39m \u001b[38;5;28;43mself\u001b[39;49m\u001b[43m.\u001b[49m\u001b[43madvance\u001b[49m\u001b[43m(\u001b[49m\u001b[43m)\u001b[49m\n\u001b[32m    206\u001b[39m \u001b[38;5;28mself\u001b[39m.on_advance_end()\n",
            "\u001b[36mFile \u001b[39m\u001b[32mc:\\Users\\opera\\AppData\\Local\\Programs\\Python\\Python313\\Lib\\site-packages\\pytorch_lightning\\loops\\fit_loop.py:363\u001b[39m, in \u001b[36m_FitLoop.advance\u001b[39m\u001b[34m(self)\u001b[39m\n\u001b[32m    362\u001b[39m \u001b[38;5;28;01massert\u001b[39;00m \u001b[38;5;28mself\u001b[39m._data_fetcher \u001b[38;5;129;01mis\u001b[39;00m \u001b[38;5;129;01mnot\u001b[39;00m \u001b[38;5;28;01mNone\u001b[39;00m\n\u001b[32m--> \u001b[39m\u001b[32m363\u001b[39m \u001b[38;5;28;43mself\u001b[39;49m\u001b[43m.\u001b[49m\u001b[43mepoch_loop\u001b[49m\u001b[43m.\u001b[49m\u001b[43mrun\u001b[49m\u001b[43m(\u001b[49m\u001b[38;5;28;43mself\u001b[39;49m\u001b[43m.\u001b[49m\u001b[43m_data_fetcher\u001b[49m\u001b[43m)\u001b[49m\n",
            "\u001b[36mFile \u001b[39m\u001b[32mc:\\Users\\opera\\AppData\\Local\\Programs\\Python\\Python313\\Lib\\site-packages\\pytorch_lightning\\loops\\training_epoch_loop.py:140\u001b[39m, in \u001b[36m_TrainingEpochLoop.run\u001b[39m\u001b[34m(self, data_fetcher)\u001b[39m\n\u001b[32m    139\u001b[39m \u001b[38;5;28;01mtry\u001b[39;00m:\n\u001b[32m--> \u001b[39m\u001b[32m140\u001b[39m     \u001b[38;5;28;43mself\u001b[39;49m\u001b[43m.\u001b[49m\u001b[43madvance\u001b[49m\u001b[43m(\u001b[49m\u001b[43mdata_fetcher\u001b[49m\u001b[43m)\u001b[49m\n\u001b[32m    141\u001b[39m     \u001b[38;5;28mself\u001b[39m.on_advance_end(data_fetcher)\n",
            "\u001b[36mFile \u001b[39m\u001b[32mc:\\Users\\opera\\AppData\\Local\\Programs\\Python\\Python313\\Lib\\site-packages\\pytorch_lightning\\loops\\training_epoch_loop.py:250\u001b[39m, in \u001b[36m_TrainingEpochLoop.advance\u001b[39m\u001b[34m(self, data_fetcher)\u001b[39m\n\u001b[32m    248\u001b[39m \u001b[38;5;28;01mif\u001b[39;00m trainer.lightning_module.automatic_optimization:\n\u001b[32m    249\u001b[39m     \u001b[38;5;66;03m# in automatic optimization, there can only be one optimizer\u001b[39;00m\n\u001b[32m--> \u001b[39m\u001b[32m250\u001b[39m     batch_output = \u001b[38;5;28;43mself\u001b[39;49m\u001b[43m.\u001b[49m\u001b[43mautomatic_optimization\u001b[49m\u001b[43m.\u001b[49m\u001b[43mrun\u001b[49m\u001b[43m(\u001b[49m\u001b[43mtrainer\u001b[49m\u001b[43m.\u001b[49m\u001b[43moptimizers\u001b[49m\u001b[43m[\u001b[49m\u001b[32;43m0\u001b[39;49m\u001b[43m]\u001b[49m\u001b[43m,\u001b[49m\u001b[43m \u001b[49m\u001b[43mbatch_idx\u001b[49m\u001b[43m,\u001b[49m\u001b[43m \u001b[49m\u001b[43mkwargs\u001b[49m\u001b[43m)\u001b[49m\n\u001b[32m    251\u001b[39m \u001b[38;5;28;01melse\u001b[39;00m:\n",
            "\u001b[36mFile \u001b[39m\u001b[32mc:\\Users\\opera\\AppData\\Local\\Programs\\Python\\Python313\\Lib\\site-packages\\pytorch_lightning\\loops\\optimization\\automatic.py:190\u001b[39m, in \u001b[36m_AutomaticOptimization.run\u001b[39m\u001b[34m(self, optimizer, batch_idx, kwargs)\u001b[39m\n\u001b[32m    185\u001b[39m \u001b[38;5;66;03m# ------------------------------\u001b[39;00m\n\u001b[32m    186\u001b[39m \u001b[38;5;66;03m# BACKWARD PASS\u001b[39;00m\n\u001b[32m    187\u001b[39m \u001b[38;5;66;03m# ------------------------------\u001b[39;00m\n\u001b[32m    188\u001b[39m \u001b[38;5;66;03m# gradient update with accumulated gradients\u001b[39;00m\n\u001b[32m    189\u001b[39m \u001b[38;5;28;01melse\u001b[39;00m:\n\u001b[32m--> \u001b[39m\u001b[32m190\u001b[39m     \u001b[38;5;28;43mself\u001b[39;49m\u001b[43m.\u001b[49m\u001b[43m_optimizer_step\u001b[49m\u001b[43m(\u001b[49m\u001b[43mbatch_idx\u001b[49m\u001b[43m,\u001b[49m\u001b[43m \u001b[49m\u001b[43mclosure\u001b[49m\u001b[43m)\u001b[49m\n\u001b[32m    192\u001b[39m result = closure.consume_result()\n",
            "\u001b[36mFile \u001b[39m\u001b[32mc:\\Users\\opera\\AppData\\Local\\Programs\\Python\\Python313\\Lib\\site-packages\\pytorch_lightning\\loops\\optimization\\automatic.py:268\u001b[39m, in \u001b[36m_AutomaticOptimization._optimizer_step\u001b[39m\u001b[34m(self, batch_idx, train_step_and_backward_closure)\u001b[39m\n\u001b[32m    267\u001b[39m \u001b[38;5;66;03m# model hook\u001b[39;00m\n\u001b[32m--> \u001b[39m\u001b[32m268\u001b[39m \u001b[43mcall\u001b[49m\u001b[43m.\u001b[49m\u001b[43m_call_lightning_module_hook\u001b[49m\u001b[43m(\u001b[49m\n\u001b[32m    269\u001b[39m \u001b[43m    \u001b[49m\u001b[43mtrainer\u001b[49m\u001b[43m,\u001b[49m\n\u001b[32m    270\u001b[39m \u001b[43m    \u001b[49m\u001b[33;43m\"\u001b[39;49m\u001b[33;43moptimizer_step\u001b[39;49m\u001b[33;43m\"\u001b[39;49m\u001b[43m,\u001b[49m\n\u001b[32m    271\u001b[39m \u001b[43m    \u001b[49m\u001b[43mtrainer\u001b[49m\u001b[43m.\u001b[49m\u001b[43mcurrent_epoch\u001b[49m\u001b[43m,\u001b[49m\n\u001b[32m    272\u001b[39m \u001b[43m    \u001b[49m\u001b[43mbatch_idx\u001b[49m\u001b[43m,\u001b[49m\n\u001b[32m    273\u001b[39m \u001b[43m    \u001b[49m\u001b[43moptimizer\u001b[49m\u001b[43m,\u001b[49m\n\u001b[32m    274\u001b[39m \u001b[43m    \u001b[49m\u001b[43mtrain_step_and_backward_closure\u001b[49m\u001b[43m,\u001b[49m\n\u001b[32m    275\u001b[39m \u001b[43m\u001b[49m\u001b[43m)\u001b[49m\n\u001b[32m    277\u001b[39m \u001b[38;5;28;01mif\u001b[39;00m \u001b[38;5;129;01mnot\u001b[39;00m should_accumulate:\n",
            "\u001b[36mFile \u001b[39m\u001b[32mc:\\Users\\opera\\AppData\\Local\\Programs\\Python\\Python313\\Lib\\site-packages\\pytorch_lightning\\trainer\\call.py:167\u001b[39m, in \u001b[36m_call_lightning_module_hook\u001b[39m\u001b[34m(trainer, hook_name, pl_module, *args, **kwargs)\u001b[39m\n\u001b[32m    166\u001b[39m \u001b[38;5;28;01mwith\u001b[39;00m trainer.profiler.profile(\u001b[33mf\u001b[39m\u001b[33m\"\u001b[39m\u001b[33m[LightningModule]\u001b[39m\u001b[38;5;132;01m{\u001b[39;00mpl_module.\u001b[34m__class__\u001b[39m.\u001b[34m__name__\u001b[39m\u001b[38;5;132;01m}\u001b[39;00m\u001b[33m.\u001b[39m\u001b[38;5;132;01m{\u001b[39;00mhook_name\u001b[38;5;132;01m}\u001b[39;00m\u001b[33m\"\u001b[39m):\n\u001b[32m--> \u001b[39m\u001b[32m167\u001b[39m     output = \u001b[43mfn\u001b[49m\u001b[43m(\u001b[49m\u001b[43m*\u001b[49m\u001b[43margs\u001b[49m\u001b[43m,\u001b[49m\u001b[43m \u001b[49m\u001b[43m*\u001b[49m\u001b[43m*\u001b[49m\u001b[43mkwargs\u001b[49m\u001b[43m)\u001b[49m\n\u001b[32m    169\u001b[39m \u001b[38;5;66;03m# restore current_fx when nested context\u001b[39;00m\n",
            "\u001b[36mFile \u001b[39m\u001b[32mc:\\Users\\opera\\AppData\\Local\\Programs\\Python\\Python313\\Lib\\site-packages\\pytorch_lightning\\core\\module.py:1306\u001b[39m, in \u001b[36mLightningModule.optimizer_step\u001b[39m\u001b[34m(self, epoch, batch_idx, optimizer, optimizer_closure)\u001b[39m\n\u001b[32m   1282\u001b[39m \u001b[38;5;250m\u001b[39m\u001b[33mr\u001b[39m\u001b[33;03m\"\"\"Override this method to adjust the default way the :class:`~pytorch_lightning.trainer.trainer.Trainer` calls\u001b[39;00m\n\u001b[32m   1283\u001b[39m \u001b[33;03mthe optimizer.\u001b[39;00m\n\u001b[32m   1284\u001b[39m \n\u001b[32m   (...)\u001b[39m\u001b[32m   1304\u001b[39m \n\u001b[32m   1305\u001b[39m \u001b[33;03m\"\"\"\u001b[39;00m\n\u001b[32m-> \u001b[39m\u001b[32m1306\u001b[39m \u001b[43moptimizer\u001b[49m\u001b[43m.\u001b[49m\u001b[43mstep\u001b[49m\u001b[43m(\u001b[49m\u001b[43mclosure\u001b[49m\u001b[43m=\u001b[49m\u001b[43moptimizer_closure\u001b[49m\u001b[43m)\u001b[49m\n",
            "\u001b[36mFile \u001b[39m\u001b[32mc:\\Users\\opera\\AppData\\Local\\Programs\\Python\\Python313\\Lib\\site-packages\\pytorch_lightning\\core\\optimizer.py:153\u001b[39m, in \u001b[36mLightningOptimizer.step\u001b[39m\u001b[34m(self, closure, **kwargs)\u001b[39m\n\u001b[32m    152\u001b[39m \u001b[38;5;28;01massert\u001b[39;00m \u001b[38;5;28mself\u001b[39m._strategy \u001b[38;5;129;01mis\u001b[39;00m \u001b[38;5;129;01mnot\u001b[39;00m \u001b[38;5;28;01mNone\u001b[39;00m\n\u001b[32m--> \u001b[39m\u001b[32m153\u001b[39m step_output = \u001b[38;5;28;43mself\u001b[39;49m\u001b[43m.\u001b[49m\u001b[43m_strategy\u001b[49m\u001b[43m.\u001b[49m\u001b[43moptimizer_step\u001b[49m\u001b[43m(\u001b[49m\u001b[38;5;28;43mself\u001b[39;49m\u001b[43m.\u001b[49m\u001b[43m_optimizer\u001b[49m\u001b[43m,\u001b[49m\u001b[43m \u001b[49m\u001b[43mclosure\u001b[49m\u001b[43m,\u001b[49m\u001b[43m \u001b[49m\u001b[43m*\u001b[49m\u001b[43m*\u001b[49m\u001b[43mkwargs\u001b[49m\u001b[43m)\u001b[49m\n\u001b[32m    155\u001b[39m \u001b[38;5;28mself\u001b[39m._on_after_step()\n",
            "\u001b[36mFile \u001b[39m\u001b[32mc:\\Users\\opera\\AppData\\Local\\Programs\\Python\\Python313\\Lib\\site-packages\\pytorch_lightning\\strategies\\strategy.py:238\u001b[39m, in \u001b[36mStrategy.optimizer_step\u001b[39m\u001b[34m(self, optimizer, closure, model, **kwargs)\u001b[39m\n\u001b[32m    237\u001b[39m \u001b[38;5;28;01massert\u001b[39;00m \u001b[38;5;28misinstance\u001b[39m(model, pl.LightningModule)\n\u001b[32m--> \u001b[39m\u001b[32m238\u001b[39m \u001b[38;5;28;01mreturn\u001b[39;00m \u001b[38;5;28;43mself\u001b[39;49m\u001b[43m.\u001b[49m\u001b[43mprecision_plugin\u001b[49m\u001b[43m.\u001b[49m\u001b[43moptimizer_step\u001b[49m\u001b[43m(\u001b[49m\u001b[43moptimizer\u001b[49m\u001b[43m,\u001b[49m\u001b[43m \u001b[49m\u001b[43mmodel\u001b[49m\u001b[43m=\u001b[49m\u001b[43mmodel\u001b[49m\u001b[43m,\u001b[49m\u001b[43m \u001b[49m\u001b[43mclosure\u001b[49m\u001b[43m=\u001b[49m\u001b[43mclosure\u001b[49m\u001b[43m,\u001b[49m\u001b[43m \u001b[49m\u001b[43m*\u001b[49m\u001b[43m*\u001b[49m\u001b[43mkwargs\u001b[49m\u001b[43m)\u001b[49m\n",
            "\u001b[36mFile \u001b[39m\u001b[32mc:\\Users\\opera\\AppData\\Local\\Programs\\Python\\Python313\\Lib\\site-packages\\pytorch_lightning\\plugins\\precision\\precision.py:122\u001b[39m, in \u001b[36mPrecision.optimizer_step\u001b[39m\u001b[34m(self, optimizer, model, closure, **kwargs)\u001b[39m\n\u001b[32m    121\u001b[39m closure = partial(\u001b[38;5;28mself\u001b[39m._wrap_closure, model, optimizer, closure)\n\u001b[32m--> \u001b[39m\u001b[32m122\u001b[39m \u001b[38;5;28;01mreturn\u001b[39;00m \u001b[43moptimizer\u001b[49m\u001b[43m.\u001b[49m\u001b[43mstep\u001b[49m\u001b[43m(\u001b[49m\u001b[43mclosure\u001b[49m\u001b[43m=\u001b[49m\u001b[43mclosure\u001b[49m\u001b[43m,\u001b[49m\u001b[43m \u001b[49m\u001b[43m*\u001b[49m\u001b[43m*\u001b[49m\u001b[43mkwargs\u001b[49m\u001b[43m)\u001b[49m\n",
            "\u001b[36mFile \u001b[39m\u001b[32mc:\\Users\\opera\\AppData\\Local\\Programs\\Python\\Python313\\Lib\\site-packages\\torch\\optim\\optimizer.py:485\u001b[39m, in \u001b[36mOptimizer.profile_hook_step.<locals>.wrapper\u001b[39m\u001b[34m(*args, **kwargs)\u001b[39m\n\u001b[32m    481\u001b[39m             \u001b[38;5;28;01mraise\u001b[39;00m \u001b[38;5;167;01mRuntimeError\u001b[39;00m(\n\u001b[32m    482\u001b[39m                 \u001b[33mf\u001b[39m\u001b[33m\"\u001b[39m\u001b[38;5;132;01m{\u001b[39;00mfunc\u001b[38;5;132;01m}\u001b[39;00m\u001b[33m must return None or a tuple of (new_args, new_kwargs), but got \u001b[39m\u001b[38;5;132;01m{\u001b[39;00mresult\u001b[38;5;132;01m}\u001b[39;00m\u001b[33m.\u001b[39m\u001b[33m\"\u001b[39m\n\u001b[32m    483\u001b[39m             )\n\u001b[32m--> \u001b[39m\u001b[32m485\u001b[39m out = \u001b[43mfunc\u001b[49m\u001b[43m(\u001b[49m\u001b[43m*\u001b[49m\u001b[43margs\u001b[49m\u001b[43m,\u001b[49m\u001b[43m \u001b[49m\u001b[43m*\u001b[49m\u001b[43m*\u001b[49m\u001b[43mkwargs\u001b[49m\u001b[43m)\u001b[49m\n\u001b[32m    486\u001b[39m \u001b[38;5;28mself\u001b[39m._optimizer_step_code()\n",
            "\u001b[36mFile \u001b[39m\u001b[32mc:\\Users\\opera\\AppData\\Local\\Programs\\Python\\Python313\\Lib\\site-packages\\torch\\optim\\optimizer.py:79\u001b[39m, in \u001b[36m_use_grad_for_differentiable.<locals>._use_grad\u001b[39m\u001b[34m(self, *args, **kwargs)\u001b[39m\n\u001b[32m     78\u001b[39m     torch._dynamo.graph_break()\n\u001b[32m---> \u001b[39m\u001b[32m79\u001b[39m     ret = \u001b[43mfunc\u001b[49m\u001b[43m(\u001b[49m\u001b[38;5;28;43mself\u001b[39;49m\u001b[43m,\u001b[49m\u001b[43m \u001b[49m\u001b[43m*\u001b[49m\u001b[43margs\u001b[49m\u001b[43m,\u001b[49m\u001b[43m \u001b[49m\u001b[43m*\u001b[49m\u001b[43m*\u001b[49m\u001b[43mkwargs\u001b[49m\u001b[43m)\u001b[49m\n\u001b[32m     80\u001b[39m \u001b[38;5;28;01mfinally\u001b[39;00m:\n",
            "\u001b[36mFile \u001b[39m\u001b[32mc:\\Users\\opera\\AppData\\Local\\Programs\\Python\\Python313\\Lib\\site-packages\\torch\\optim\\adam.py:225\u001b[39m, in \u001b[36mAdam.step\u001b[39m\u001b[34m(self, closure)\u001b[39m\n\u001b[32m    224\u001b[39m     \u001b[38;5;28;01mwith\u001b[39;00m torch.enable_grad():\n\u001b[32m--> \u001b[39m\u001b[32m225\u001b[39m         loss = \u001b[43mclosure\u001b[49m\u001b[43m(\u001b[49m\u001b[43m)\u001b[49m\n\u001b[32m    227\u001b[39m \u001b[38;5;28;01mfor\u001b[39;00m group \u001b[38;5;129;01min\u001b[39;00m \u001b[38;5;28mself\u001b[39m.param_groups:\n",
            "\u001b[36mFile \u001b[39m\u001b[32mc:\\Users\\opera\\AppData\\Local\\Programs\\Python\\Python313\\Lib\\site-packages\\pytorch_lightning\\plugins\\precision\\precision.py:108\u001b[39m, in \u001b[36mPrecision._wrap_closure\u001b[39m\u001b[34m(self, model, optimizer, closure)\u001b[39m\n\u001b[32m    101\u001b[39m \u001b[38;5;250m\u001b[39m\u001b[33;03m\"\"\"This double-closure allows makes sure the ``closure`` is executed before the ``on_before_optimizer_step``\u001b[39;00m\n\u001b[32m    102\u001b[39m \u001b[33;03mhook is called.\u001b[39;00m\n\u001b[32m    103\u001b[39m \n\u001b[32m   (...)\u001b[39m\u001b[32m    106\u001b[39m \n\u001b[32m    107\u001b[39m \u001b[33;03m\"\"\"\u001b[39;00m\n\u001b[32m--> \u001b[39m\u001b[32m108\u001b[39m closure_result = \u001b[43mclosure\u001b[49m\u001b[43m(\u001b[49m\u001b[43m)\u001b[49m\n\u001b[32m    109\u001b[39m \u001b[38;5;28mself\u001b[39m._after_closure(model, optimizer)\n",
            "\u001b[36mFile \u001b[39m\u001b[32mc:\\Users\\opera\\AppData\\Local\\Programs\\Python\\Python313\\Lib\\site-packages\\pytorch_lightning\\loops\\optimization\\automatic.py:144\u001b[39m, in \u001b[36mClosure.__call__\u001b[39m\u001b[34m(self, *args, **kwargs)\u001b[39m\n\u001b[32m    142\u001b[39m \u001b[38;5;129m@override\u001b[39m\n\u001b[32m    143\u001b[39m \u001b[38;5;28;01mdef\u001b[39;00m\u001b[38;5;250m \u001b[39m\u001b[34m__call__\u001b[39m(\u001b[38;5;28mself\u001b[39m, *args: Any, **kwargs: Any) -> Optional[Tensor]:\n\u001b[32m--> \u001b[39m\u001b[32m144\u001b[39m     \u001b[38;5;28mself\u001b[39m._result = \u001b[38;5;28;43mself\u001b[39;49m\u001b[43m.\u001b[49m\u001b[43mclosure\u001b[49m\u001b[43m(\u001b[49m\u001b[43m*\u001b[49m\u001b[43margs\u001b[49m\u001b[43m,\u001b[49m\u001b[43m \u001b[49m\u001b[43m*\u001b[49m\u001b[43m*\u001b[49m\u001b[43mkwargs\u001b[49m\u001b[43m)\u001b[49m\n\u001b[32m    145\u001b[39m     \u001b[38;5;28;01mreturn\u001b[39;00m \u001b[38;5;28mself\u001b[39m._result.loss\n",
            "\u001b[36mFile \u001b[39m\u001b[32mc:\\Users\\opera\\AppData\\Local\\Programs\\Python\\Python313\\Lib\\site-packages\\torch\\utils\\_contextlib.py:116\u001b[39m, in \u001b[36mcontext_decorator.<locals>.decorate_context\u001b[39m\u001b[34m(*args, **kwargs)\u001b[39m\n\u001b[32m    115\u001b[39m \u001b[38;5;28;01mwith\u001b[39;00m ctx_factory():\n\u001b[32m--> \u001b[39m\u001b[32m116\u001b[39m     \u001b[38;5;28;01mreturn\u001b[39;00m \u001b[43mfunc\u001b[49m\u001b[43m(\u001b[49m\u001b[43m*\u001b[49m\u001b[43margs\u001b[49m\u001b[43m,\u001b[49m\u001b[43m \u001b[49m\u001b[43m*\u001b[49m\u001b[43m*\u001b[49m\u001b[43mkwargs\u001b[49m\u001b[43m)\u001b[49m\n",
            "\u001b[36mFile \u001b[39m\u001b[32mc:\\Users\\opera\\AppData\\Local\\Programs\\Python\\Python313\\Lib\\site-packages\\pytorch_lightning\\loops\\optimization\\automatic.py:129\u001b[39m, in \u001b[36mClosure.closure\u001b[39m\u001b[34m(self, *args, **kwargs)\u001b[39m\n\u001b[32m    126\u001b[39m \u001b[38;5;129m@override\u001b[39m\n\u001b[32m    127\u001b[39m \u001b[38;5;129m@torch\u001b[39m.enable_grad()\n\u001b[32m    128\u001b[39m \u001b[38;5;28;01mdef\u001b[39;00m\u001b[38;5;250m \u001b[39m\u001b[34mclosure\u001b[39m(\u001b[38;5;28mself\u001b[39m, *args: Any, **kwargs: Any) -> ClosureResult:\n\u001b[32m--> \u001b[39m\u001b[32m129\u001b[39m     step_output = \u001b[38;5;28;43mself\u001b[39;49m\u001b[43m.\u001b[49m\u001b[43m_step_fn\u001b[49m\u001b[43m(\u001b[49m\u001b[43m)\u001b[49m\n\u001b[32m    131\u001b[39m     \u001b[38;5;28;01mif\u001b[39;00m step_output.closure_loss \u001b[38;5;129;01mis\u001b[39;00m \u001b[38;5;28;01mNone\u001b[39;00m:\n",
            "\u001b[36mFile \u001b[39m\u001b[32mc:\\Users\\opera\\AppData\\Local\\Programs\\Python\\Python313\\Lib\\site-packages\\pytorch_lightning\\loops\\optimization\\automatic.py:317\u001b[39m, in \u001b[36m_AutomaticOptimization._training_step\u001b[39m\u001b[34m(self, kwargs)\u001b[39m\n\u001b[32m    315\u001b[39m trainer = \u001b[38;5;28mself\u001b[39m.trainer\n\u001b[32m--> \u001b[39m\u001b[32m317\u001b[39m training_step_output = \u001b[43mcall\u001b[49m\u001b[43m.\u001b[49m\u001b[43m_call_strategy_hook\u001b[49m\u001b[43m(\u001b[49m\u001b[43mtrainer\u001b[49m\u001b[43m,\u001b[49m\u001b[43m \u001b[49m\u001b[33;43m\"\u001b[39;49m\u001b[33;43mtraining_step\u001b[39;49m\u001b[33;43m\"\u001b[39;49m\u001b[43m,\u001b[49m\u001b[43m \u001b[49m\u001b[43m*\u001b[49m\u001b[43mkwargs\u001b[49m\u001b[43m.\u001b[49m\u001b[43mvalues\u001b[49m\u001b[43m(\u001b[49m\u001b[43m)\u001b[49m\u001b[43m)\u001b[49m\n\u001b[32m    318\u001b[39m \u001b[38;5;28mself\u001b[39m.trainer.strategy.post_training_step()  \u001b[38;5;66;03m# unused hook - call anyway for backward compatibility\u001b[39;00m\n",
            "\u001b[36mFile \u001b[39m\u001b[32mc:\\Users\\opera\\AppData\\Local\\Programs\\Python\\Python313\\Lib\\site-packages\\pytorch_lightning\\trainer\\call.py:319\u001b[39m, in \u001b[36m_call_strategy_hook\u001b[39m\u001b[34m(trainer, hook_name, *args, **kwargs)\u001b[39m\n\u001b[32m    318\u001b[39m \u001b[38;5;28;01mwith\u001b[39;00m trainer.profiler.profile(\u001b[33mf\u001b[39m\u001b[33m\"\u001b[39m\u001b[33m[Strategy]\u001b[39m\u001b[38;5;132;01m{\u001b[39;00mtrainer.strategy.\u001b[34m__class__\u001b[39m.\u001b[34m__name__\u001b[39m\u001b[38;5;132;01m}\u001b[39;00m\u001b[33m.\u001b[39m\u001b[38;5;132;01m{\u001b[39;00mhook_name\u001b[38;5;132;01m}\u001b[39;00m\u001b[33m\"\u001b[39m):\n\u001b[32m--> \u001b[39m\u001b[32m319\u001b[39m     output = \u001b[43mfn\u001b[49m\u001b[43m(\u001b[49m\u001b[43m*\u001b[49m\u001b[43margs\u001b[49m\u001b[43m,\u001b[49m\u001b[43m \u001b[49m\u001b[43m*\u001b[49m\u001b[43m*\u001b[49m\u001b[43mkwargs\u001b[49m\u001b[43m)\u001b[49m\n\u001b[32m    321\u001b[39m \u001b[38;5;66;03m# restore current_fx when nested context\u001b[39;00m\n",
            "\u001b[36mFile \u001b[39m\u001b[32mc:\\Users\\opera\\AppData\\Local\\Programs\\Python\\Python313\\Lib\\site-packages\\pytorch_lightning\\strategies\\strategy.py:390\u001b[39m, in \u001b[36mStrategy.training_step\u001b[39m\u001b[34m(self, *args, **kwargs)\u001b[39m\n\u001b[32m    389\u001b[39m     \u001b[38;5;28;01mreturn\u001b[39;00m \u001b[38;5;28mself\u001b[39m._forward_redirection(\u001b[38;5;28mself\u001b[39m.model, \u001b[38;5;28mself\u001b[39m.lightning_module, \u001b[33m\"\u001b[39m\u001b[33mtraining_step\u001b[39m\u001b[33m\"\u001b[39m, *args, **kwargs)\n\u001b[32m--> \u001b[39m\u001b[32m390\u001b[39m \u001b[38;5;28;01mreturn\u001b[39;00m \u001b[38;5;28;43mself\u001b[39;49m\u001b[43m.\u001b[49m\u001b[43mlightning_module\u001b[49m\u001b[43m.\u001b[49m\u001b[43mtraining_step\u001b[49m\u001b[43m(\u001b[49m\u001b[43m*\u001b[49m\u001b[43margs\u001b[49m\u001b[43m,\u001b[49m\u001b[43m \u001b[49m\u001b[43m*\u001b[49m\u001b[43m*\u001b[49m\u001b[43mkwargs\u001b[49m\u001b[43m)\u001b[49m\n",
            "\u001b[36mFile \u001b[39m\u001b[32mc:\\Users\\opera\\AppData\\Local\\Programs\\Python\\Python313\\Lib\\site-packages\\darts\\models\\forecasting\\pl_forecasting_module.py:243\u001b[39m, in \u001b[36mPLForecastingModule.training_step\u001b[39m\u001b[34m(self, train_batch, batch_idx)\u001b[39m\n\u001b[32m    242\u001b[39m \u001b[38;5;250m\u001b[39m\u001b[33;03m\"\"\"performs the training step\"\"\"\u001b[39;00m\n\u001b[32m--> \u001b[39m\u001b[32m243\u001b[39m \u001b[38;5;28;01mreturn\u001b[39;00m \u001b[38;5;28;43mself\u001b[39;49m\u001b[43m.\u001b[49m\u001b[43m_train_val_step\u001b[49m\u001b[43m(\u001b[49m\n\u001b[32m    244\u001b[39m \u001b[43m    \u001b[49m\u001b[43mbatch\u001b[49m\u001b[43m=\u001b[49m\u001b[43mtrain_batch\u001b[49m\u001b[43m,\u001b[49m\n\u001b[32m    245\u001b[39m \u001b[43m    \u001b[49m\u001b[43mname\u001b[49m\u001b[43m=\u001b[49m\u001b[33;43m\"\u001b[39;49m\u001b[33;43mtrain\u001b[39;49m\u001b[33;43m\"\u001b[39;49m\u001b[43m,\u001b[49m\n\u001b[32m    246\u001b[39m \u001b[43m    \u001b[49m\u001b[43mcriterion\u001b[49m\u001b[43m=\u001b[49m\u001b[38;5;28;43mself\u001b[39;49m\u001b[43m.\u001b[49m\u001b[43mtrain_criterion\u001b[49m\u001b[43m,\u001b[49m\n\u001b[32m    247\u001b[39m \u001b[43m    \u001b[49m\u001b[43mmetrics\u001b[49m\u001b[43m=\u001b[49m\u001b[38;5;28;43mself\u001b[39;49m\u001b[43m.\u001b[49m\u001b[43mtrain_metrics\u001b[49m\u001b[43m,\u001b[49m\n\u001b[32m    248\u001b[39m \u001b[43m\u001b[49m\u001b[43m)\u001b[49m\n",
            "\u001b[36mFile \u001b[39m\u001b[32mc:\\Users\\opera\\AppData\\Local\\Programs\\Python\\Python313\\Lib\\site-packages\\darts\\models\\forecasting\\pl_forecasting_module.py:279\u001b[39m, in \u001b[36mPLForecastingModule._train_val_step\u001b[39m\u001b[34m(self, batch, name, criterion, metrics)\u001b[39m\n\u001b[32m    269\u001b[39m (\n\u001b[32m    270\u001b[39m     past_target,\n\u001b[32m    271\u001b[39m     past_covariates,\n\u001b[32m   (...)\u001b[39m\u001b[32m    276\u001b[39m     future_target,\n\u001b[32m    277\u001b[39m ) = batch\n\u001b[32m--> \u001b[39m\u001b[32m279\u001b[39m output = \u001b[38;5;28;43mself\u001b[39;49m\u001b[43m.\u001b[49m\u001b[43m_produce_train_output\u001b[49m\u001b[43m(\u001b[49m\n\u001b[32m    280\u001b[39m \u001b[43m    \u001b[49m\u001b[43m(\u001b[49m\n\u001b[32m    281\u001b[39m \u001b[43m        \u001b[49m\u001b[43mpast_target\u001b[49m\u001b[43m,\u001b[49m\n\u001b[32m    282\u001b[39m \u001b[43m        \u001b[49m\u001b[43mpast_covariates\u001b[49m\u001b[43m,\u001b[49m\n\u001b[32m    283\u001b[39m \u001b[43m        \u001b[49m\u001b[43mhistoric_future_covariates\u001b[49m\u001b[43m,\u001b[49m\n\u001b[32m    284\u001b[39m \u001b[43m        \u001b[49m\u001b[43mfuture_covariates\u001b[49m\u001b[43m,\u001b[49m\n\u001b[32m    285\u001b[39m \u001b[43m        \u001b[49m\u001b[43mstatic_covariates\u001b[49m\u001b[43m,\u001b[49m\n\u001b[32m    286\u001b[39m \u001b[43m    \u001b[49m\u001b[43m)\u001b[49m\u001b[43m,\u001b[49m\n\u001b[32m    287\u001b[39m \u001b[43m\u001b[49m\u001b[43m)\u001b[49m\n\u001b[32m    288\u001b[39m loss = \u001b[38;5;28mself\u001b[39m._compute_loss(output, future_target, criterion, sample_weight)\n",
            "\u001b[36mFile \u001b[39m\u001b[32mc:\\Users\\opera\\AppData\\Local\\Programs\\Python\\Python313\\Lib\\site-packages\\darts\\models\\forecasting\\pl_forecasting_module.py:529\u001b[39m, in \u001b[36mPLForecastingModule._produce_train_output\u001b[39m\u001b[34m(self, input_batch)\u001b[39m\n\u001b[32m    519\u001b[39m \u001b[38;5;250m\u001b[39m\u001b[33;03m\"\"\"Generates train output.\u001b[39;00m\n\u001b[32m    520\u001b[39m \n\u001b[32m    521\u001b[39m \u001b[33;03mFeeds `PLForecastingModule` with (past target + past cov + historic future cov (concatenated), future cov,\u001b[39;00m\n\u001b[32m   (...)\u001b[39m\u001b[32m    527\u001b[39m \u001b[33;03m    ``(past target, past cov, historic future cov, future cov, static cov)``.\u001b[39;00m\n\u001b[32m    528\u001b[39m \u001b[33;03m\"\"\"\u001b[39;00m\n\u001b[32m--> \u001b[39m\u001b[32m529\u001b[39m \u001b[38;5;28;01mreturn\u001b[39;00m \u001b[38;5;28;43mself\u001b[39;49m\u001b[43m(\u001b[49m\u001b[38;5;28;43mself\u001b[39;49m\u001b[43m.\u001b[49m\u001b[43m_process_input_batch\u001b[49m\u001b[43m(\u001b[49m\u001b[43minput_batch\u001b[49m\u001b[43m)\u001b[49m\u001b[43m)\u001b[49m\n",
            "\u001b[36mFile \u001b[39m\u001b[32mc:\\Users\\opera\\AppData\\Local\\Programs\\Python\\Python313\\Lib\\site-packages\\torch\\nn\\modules\\module.py:1751\u001b[39m, in \u001b[36mModule._wrapped_call_impl\u001b[39m\u001b[34m(self, *args, **kwargs)\u001b[39m\n\u001b[32m   1750\u001b[39m \u001b[38;5;28;01melse\u001b[39;00m:\n\u001b[32m-> \u001b[39m\u001b[32m1751\u001b[39m     \u001b[38;5;28;01mreturn\u001b[39;00m \u001b[38;5;28;43mself\u001b[39;49m\u001b[43m.\u001b[49m\u001b[43m_call_impl\u001b[49m\u001b[43m(\u001b[49m\u001b[43m*\u001b[49m\u001b[43margs\u001b[49m\u001b[43m,\u001b[49m\u001b[43m \u001b[49m\u001b[43m*\u001b[49m\u001b[43m*\u001b[49m\u001b[43mkwargs\u001b[49m\u001b[43m)\u001b[49m\n",
            "\u001b[36mFile \u001b[39m\u001b[32mc:\\Users\\opera\\AppData\\Local\\Programs\\Python\\Python313\\Lib\\site-packages\\torch\\nn\\modules\\module.py:1762\u001b[39m, in \u001b[36mModule._call_impl\u001b[39m\u001b[34m(self, *args, **kwargs)\u001b[39m\n\u001b[32m   1759\u001b[39m \u001b[38;5;28;01mif\u001b[39;00m \u001b[38;5;129;01mnot\u001b[39;00m (\u001b[38;5;28mself\u001b[39m._backward_hooks \u001b[38;5;129;01mor\u001b[39;00m \u001b[38;5;28mself\u001b[39m._backward_pre_hooks \u001b[38;5;129;01mor\u001b[39;00m \u001b[38;5;28mself\u001b[39m._forward_hooks \u001b[38;5;129;01mor\u001b[39;00m \u001b[38;5;28mself\u001b[39m._forward_pre_hooks\n\u001b[32m   1760\u001b[39m         \u001b[38;5;129;01mor\u001b[39;00m _global_backward_pre_hooks \u001b[38;5;129;01mor\u001b[39;00m _global_backward_hooks\n\u001b[32m   1761\u001b[39m         \u001b[38;5;129;01mor\u001b[39;00m _global_forward_hooks \u001b[38;5;129;01mor\u001b[39;00m _global_forward_pre_hooks):\n\u001b[32m-> \u001b[39m\u001b[32m1762\u001b[39m     \u001b[38;5;28;01mreturn\u001b[39;00m \u001b[43mforward_call\u001b[49m\u001b[43m(\u001b[49m\u001b[43m*\u001b[49m\u001b[43margs\u001b[49m\u001b[43m,\u001b[49m\u001b[43m \u001b[49m\u001b[43m*\u001b[49m\u001b[43m*\u001b[49m\u001b[43mkwargs\u001b[49m\u001b[43m)\u001b[49m\n\u001b[32m   1764\u001b[39m result = \u001b[38;5;28;01mNone\u001b[39;00m\n",
            "\u001b[36mFile \u001b[39m\u001b[32mc:\\Users\\opera\\AppData\\Local\\Programs\\Python\\Python313\\Lib\\site-packages\\darts\\models\\forecasting\\pl_forecasting_module.py:60\u001b[39m, in \u001b[36mio_processor.<locals>.forward_wrapper\u001b[39m\u001b[34m(self, x_in, *args, **kwargs)\u001b[39m\n\u001b[32m     59\u001b[39m \u001b[38;5;66;03m# run the forward pass\u001b[39;00m\n\u001b[32m---> \u001b[39m\u001b[32m60\u001b[39m out = \u001b[43mforward\u001b[49m\u001b[43m(\u001b[49m\u001b[38;5;28;43mself\u001b[39;49m\u001b[43m,\u001b[49m\u001b[43m \u001b[49m\u001b[43m*\u001b[49m\u001b[43m(\u001b[49m\u001b[43m(\u001b[49m\u001b[43mpast_features\u001b[49m\u001b[43m,\u001b[49m\u001b[43m \u001b[49m\u001b[43m*\u001b[49m\u001b[43mx_in\u001b[49m\u001b[43m[\u001b[49m\u001b[32;43m1\u001b[39;49m\u001b[43m:\u001b[49m\u001b[43m]\u001b[49m\u001b[43m)\u001b[49m\u001b[43m,\u001b[49m\u001b[43m \u001b[49m\u001b[43m*\u001b[49m\u001b[43margs\u001b[49m\u001b[43m)\u001b[49m\u001b[43m,\u001b[49m\u001b[43m \u001b[49m\u001b[43m*\u001b[49m\u001b[43m*\u001b[49m\u001b[43mkwargs\u001b[49m\u001b[43m)\u001b[49m\n\u001b[32m     61\u001b[39m \u001b[38;5;66;03m# inverse transform target output back to original scale\u001b[39;00m\n",
            "\u001b[36mFile \u001b[39m\u001b[32mc:\\Users\\opera\\AppData\\Local\\Programs\\Python\\Python313\\Lib\\site-packages\\darts\\models\\forecasting\\tft_model.py:558\u001b[39m, in \u001b[36m_TFTModule.forward\u001b[39m\u001b[34m(self, x_in)\u001b[39m\n\u001b[32m    555\u001b[39m embeddings_varying_encoder = {\n\u001b[32m    556\u001b[39m     name: input_vectors_past[name] \u001b[38;5;28;01mfor\u001b[39;00m name \u001b[38;5;129;01min\u001b[39;00m \u001b[38;5;28mself\u001b[39m.encoder_variables\n\u001b[32m    557\u001b[39m }\n\u001b[32m--> \u001b[39m\u001b[32m558\u001b[39m embeddings_varying_encoder, encoder_sparse_weights = \u001b[38;5;28;43mself\u001b[39;49m\u001b[43m.\u001b[49m\u001b[43mencoder_vsn\u001b[49m\u001b[43m(\u001b[49m\n\u001b[32m    559\u001b[39m \u001b[43m    \u001b[49m\u001b[43mx\u001b[49m\u001b[43m=\u001b[49m\u001b[43membeddings_varying_encoder\u001b[49m\u001b[43m,\u001b[49m\n\u001b[32m    560\u001b[39m \u001b[43m    \u001b[49m\u001b[43mcontext\u001b[49m\u001b[43m=\u001b[49m\u001b[43mstatic_context_expanded\u001b[49m\u001b[43m[\u001b[49m\u001b[43m:\u001b[49m\u001b[43m,\u001b[49m\u001b[43m \u001b[49m\u001b[43m:\u001b[49m\u001b[43mencoder_length\u001b[49m\u001b[43m]\u001b[49m\u001b[43m,\u001b[49m\n\u001b[32m    561\u001b[39m \u001b[43m\u001b[49m\u001b[43m)\u001b[49m\n\u001b[32m    563\u001b[39m embeddings_varying_decoder = {\n\u001b[32m    564\u001b[39m     name: input_vectors_future[name] \u001b[38;5;28;01mfor\u001b[39;00m name \u001b[38;5;129;01min\u001b[39;00m \u001b[38;5;28mself\u001b[39m.decoder_variables\n\u001b[32m    565\u001b[39m }\n",
            "\u001b[36mFile \u001b[39m\u001b[32mc:\\Users\\opera\\AppData\\Local\\Programs\\Python\\Python313\\Lib\\site-packages\\torch\\nn\\modules\\module.py:1751\u001b[39m, in \u001b[36mModule._wrapped_call_impl\u001b[39m\u001b[34m(self, *args, **kwargs)\u001b[39m\n\u001b[32m   1750\u001b[39m \u001b[38;5;28;01melse\u001b[39;00m:\n\u001b[32m-> \u001b[39m\u001b[32m1751\u001b[39m     \u001b[38;5;28;01mreturn\u001b[39;00m \u001b[38;5;28;43mself\u001b[39;49m\u001b[43m.\u001b[49m\u001b[43m_call_impl\u001b[49m\u001b[43m(\u001b[49m\u001b[43m*\u001b[49m\u001b[43margs\u001b[49m\u001b[43m,\u001b[49m\u001b[43m \u001b[49m\u001b[43m*\u001b[49m\u001b[43m*\u001b[49m\u001b[43mkwargs\u001b[49m\u001b[43m)\u001b[49m\n",
            "\u001b[36mFile \u001b[39m\u001b[32mc:\\Users\\opera\\AppData\\Local\\Programs\\Python\\Python313\\Lib\\site-packages\\torch\\nn\\modules\\module.py:1762\u001b[39m, in \u001b[36mModule._call_impl\u001b[39m\u001b[34m(self, *args, **kwargs)\u001b[39m\n\u001b[32m   1759\u001b[39m \u001b[38;5;28;01mif\u001b[39;00m \u001b[38;5;129;01mnot\u001b[39;00m (\u001b[38;5;28mself\u001b[39m._backward_hooks \u001b[38;5;129;01mor\u001b[39;00m \u001b[38;5;28mself\u001b[39m._backward_pre_hooks \u001b[38;5;129;01mor\u001b[39;00m \u001b[38;5;28mself\u001b[39m._forward_hooks \u001b[38;5;129;01mor\u001b[39;00m \u001b[38;5;28mself\u001b[39m._forward_pre_hooks\n\u001b[32m   1760\u001b[39m         \u001b[38;5;129;01mor\u001b[39;00m _global_backward_pre_hooks \u001b[38;5;129;01mor\u001b[39;00m _global_backward_hooks\n\u001b[32m   1761\u001b[39m         \u001b[38;5;129;01mor\u001b[39;00m _global_forward_hooks \u001b[38;5;129;01mor\u001b[39;00m _global_forward_pre_hooks):\n\u001b[32m-> \u001b[39m\u001b[32m1762\u001b[39m     \u001b[38;5;28;01mreturn\u001b[39;00m \u001b[43mforward_call\u001b[49m\u001b[43m(\u001b[49m\u001b[43m*\u001b[49m\u001b[43margs\u001b[49m\u001b[43m,\u001b[49m\u001b[43m \u001b[49m\u001b[43m*\u001b[49m\u001b[43m*\u001b[49m\u001b[43mkwargs\u001b[49m\u001b[43m)\u001b[49m\n\u001b[32m   1764\u001b[39m result = \u001b[38;5;28;01mNone\u001b[39;00m\n",
            "\u001b[36mFile \u001b[39m\u001b[32mc:\\Users\\opera\\AppData\\Local\\Programs\\Python\\Python313\\Lib\\site-packages\\darts\\models\\forecasting\\tft_submodels.py:478\u001b[39m, in \u001b[36m_VariableSelectionNetwork.forward\u001b[39m\u001b[34m(self, x, context)\u001b[39m\n\u001b[32m    477\u001b[39m     weight_inputs.append(variable_embedding)\n\u001b[32m--> \u001b[39m\u001b[32m478\u001b[39m     var_outputs.append(\u001b[38;5;28;43mself\u001b[39;49m\u001b[43m.\u001b[49m\u001b[43msingle_variable_grns\u001b[49m\u001b[43m[\u001b[49m\u001b[43mname\u001b[49m\u001b[43m]\u001b[49m\u001b[43m(\u001b[49m\u001b[43mvariable_embedding\u001b[49m\u001b[43m)\u001b[49m)\n\u001b[32m    479\u001b[39m var_outputs = torch.stack(var_outputs, dim=-\u001b[32m1\u001b[39m)\n",
            "\u001b[36mFile \u001b[39m\u001b[32mc:\\Users\\opera\\AppData\\Local\\Programs\\Python\\Python313\\Lib\\site-packages\\torch\\nn\\modules\\module.py:1751\u001b[39m, in \u001b[36mModule._wrapped_call_impl\u001b[39m\u001b[34m(self, *args, **kwargs)\u001b[39m\n\u001b[32m   1750\u001b[39m \u001b[38;5;28;01melse\u001b[39;00m:\n\u001b[32m-> \u001b[39m\u001b[32m1751\u001b[39m     \u001b[38;5;28;01mreturn\u001b[39;00m \u001b[38;5;28;43mself\u001b[39;49m\u001b[43m.\u001b[49m\u001b[43m_call_impl\u001b[49m\u001b[43m(\u001b[49m\u001b[43m*\u001b[49m\u001b[43margs\u001b[49m\u001b[43m,\u001b[49m\u001b[43m \u001b[49m\u001b[43m*\u001b[49m\u001b[43m*\u001b[49m\u001b[43mkwargs\u001b[49m\u001b[43m)\u001b[49m\n",
            "\u001b[36mFile \u001b[39m\u001b[32mc:\\Users\\opera\\AppData\\Local\\Programs\\Python\\Python313\\Lib\\site-packages\\torch\\nn\\modules\\module.py:1762\u001b[39m, in \u001b[36mModule._call_impl\u001b[39m\u001b[34m(self, *args, **kwargs)\u001b[39m\n\u001b[32m   1759\u001b[39m \u001b[38;5;28;01mif\u001b[39;00m \u001b[38;5;129;01mnot\u001b[39;00m (\u001b[38;5;28mself\u001b[39m._backward_hooks \u001b[38;5;129;01mor\u001b[39;00m \u001b[38;5;28mself\u001b[39m._backward_pre_hooks \u001b[38;5;129;01mor\u001b[39;00m \u001b[38;5;28mself\u001b[39m._forward_hooks \u001b[38;5;129;01mor\u001b[39;00m \u001b[38;5;28mself\u001b[39m._forward_pre_hooks\n\u001b[32m   1760\u001b[39m         \u001b[38;5;129;01mor\u001b[39;00m _global_backward_pre_hooks \u001b[38;5;129;01mor\u001b[39;00m _global_backward_hooks\n\u001b[32m   1761\u001b[39m         \u001b[38;5;129;01mor\u001b[39;00m _global_forward_hooks \u001b[38;5;129;01mor\u001b[39;00m _global_forward_pre_hooks):\n\u001b[32m-> \u001b[39m\u001b[32m1762\u001b[39m     \u001b[38;5;28;01mreturn\u001b[39;00m \u001b[43mforward_call\u001b[49m\u001b[43m(\u001b[49m\u001b[43m*\u001b[49m\u001b[43margs\u001b[49m\u001b[43m,\u001b[49m\u001b[43m \u001b[49m\u001b[43m*\u001b[49m\u001b[43m*\u001b[49m\u001b[43mkwargs\u001b[49m\u001b[43m)\u001b[49m\n\u001b[32m   1764\u001b[39m result = \u001b[38;5;28;01mNone\u001b[39;00m\n",
            "\u001b[36mFile \u001b[39m\u001b[32mc:\\Users\\opera\\AppData\\Local\\Programs\\Python\\Python313\\Lib\\site-packages\\darts\\models\\forecasting\\tft_submodels.py:376\u001b[39m, in \u001b[36m_GatedResidualNetwork.forward\u001b[39m\u001b[34m(self, x, context, residual)\u001b[39m\n\u001b[32m    375\u001b[39m x = \u001b[38;5;28mself\u001b[39m.elu(x)\n\u001b[32m--> \u001b[39m\u001b[32m376\u001b[39m x = \u001b[38;5;28;43mself\u001b[39;49m\u001b[43m.\u001b[49m\u001b[43mfc2\u001b[49m\u001b[43m(\u001b[49m\u001b[43mx\u001b[49m\u001b[43m)\u001b[49m\n\u001b[32m    377\u001b[39m x = \u001b[38;5;28mself\u001b[39m.gate_norm(x, residual)\n",
            "\u001b[36mFile \u001b[39m\u001b[32mc:\\Users\\opera\\AppData\\Local\\Programs\\Python\\Python313\\Lib\\site-packages\\torch\\nn\\modules\\module.py:1751\u001b[39m, in \u001b[36mModule._wrapped_call_impl\u001b[39m\u001b[34m(self, *args, **kwargs)\u001b[39m\n\u001b[32m   1750\u001b[39m \u001b[38;5;28;01melse\u001b[39;00m:\n\u001b[32m-> \u001b[39m\u001b[32m1751\u001b[39m     \u001b[38;5;28;01mreturn\u001b[39;00m \u001b[38;5;28;43mself\u001b[39;49m\u001b[43m.\u001b[49m\u001b[43m_call_impl\u001b[49m\u001b[43m(\u001b[49m\u001b[43m*\u001b[49m\u001b[43margs\u001b[49m\u001b[43m,\u001b[49m\u001b[43m \u001b[49m\u001b[43m*\u001b[49m\u001b[43m*\u001b[49m\u001b[43mkwargs\u001b[49m\u001b[43m)\u001b[49m\n",
            "\u001b[36mFile \u001b[39m\u001b[32mc:\\Users\\opera\\AppData\\Local\\Programs\\Python\\Python313\\Lib\\site-packages\\torch\\nn\\modules\\module.py:1762\u001b[39m, in \u001b[36mModule._call_impl\u001b[39m\u001b[34m(self, *args, **kwargs)\u001b[39m\n\u001b[32m   1759\u001b[39m \u001b[38;5;28;01mif\u001b[39;00m \u001b[38;5;129;01mnot\u001b[39;00m (\u001b[38;5;28mself\u001b[39m._backward_hooks \u001b[38;5;129;01mor\u001b[39;00m \u001b[38;5;28mself\u001b[39m._backward_pre_hooks \u001b[38;5;129;01mor\u001b[39;00m \u001b[38;5;28mself\u001b[39m._forward_hooks \u001b[38;5;129;01mor\u001b[39;00m \u001b[38;5;28mself\u001b[39m._forward_pre_hooks\n\u001b[32m   1760\u001b[39m         \u001b[38;5;129;01mor\u001b[39;00m _global_backward_pre_hooks \u001b[38;5;129;01mor\u001b[39;00m _global_backward_hooks\n\u001b[32m   1761\u001b[39m         \u001b[38;5;129;01mor\u001b[39;00m _global_forward_hooks \u001b[38;5;129;01mor\u001b[39;00m _global_forward_pre_hooks):\n\u001b[32m-> \u001b[39m\u001b[32m1762\u001b[39m     \u001b[38;5;28;01mreturn\u001b[39;00m \u001b[43mforward_call\u001b[49m\u001b[43m(\u001b[49m\u001b[43m*\u001b[49m\u001b[43margs\u001b[49m\u001b[43m,\u001b[49m\u001b[43m \u001b[49m\u001b[43m*\u001b[49m\u001b[43m*\u001b[49m\u001b[43mkwargs\u001b[49m\u001b[43m)\u001b[49m\n\u001b[32m   1764\u001b[39m result = \u001b[38;5;28;01mNone\u001b[39;00m\n",
            "\u001b[36mFile \u001b[39m\u001b[32mc:\\Users\\opera\\AppData\\Local\\Programs\\Python\\Python313\\Lib\\site-packages\\torch\\nn\\modules\\linear.py:125\u001b[39m, in \u001b[36mLinear.forward\u001b[39m\u001b[34m(self, input)\u001b[39m\n\u001b[32m    124\u001b[39m \u001b[38;5;28;01mdef\u001b[39;00m\u001b[38;5;250m \u001b[39m\u001b[34mforward\u001b[39m(\u001b[38;5;28mself\u001b[39m, \u001b[38;5;28minput\u001b[39m: Tensor) -> Tensor:\n\u001b[32m--> \u001b[39m\u001b[32m125\u001b[39m     \u001b[38;5;28;01mreturn\u001b[39;00m \u001b[43mF\u001b[49m\u001b[43m.\u001b[49m\u001b[43mlinear\u001b[49m\u001b[43m(\u001b[49m\u001b[38;5;28;43minput\u001b[39;49m\u001b[43m,\u001b[49m\u001b[43m \u001b[49m\u001b[38;5;28;43mself\u001b[39;49m\u001b[43m.\u001b[49m\u001b[43mweight\u001b[49m\u001b[43m,\u001b[49m\u001b[43m \u001b[49m\u001b[38;5;28;43mself\u001b[39;49m\u001b[43m.\u001b[49m\u001b[43mbias\u001b[49m\u001b[43m)\u001b[49m\n",
            "\u001b[31mKeyboardInterrupt\u001b[39m: ",
            "\nDuring handling of the above exception, another exception occurred:\n",
            "\u001b[31mNameError\u001b[39m                                 Traceback (most recent call last)",
            "\u001b[36mCell\u001b[39m\u001b[36m \u001b[39m\u001b[32mIn[73]\u001b[39m\u001b[32m, line 7\u001b[39m\n\u001b[32m      5\u001b[39m \u001b[38;5;28mprint\u001b[39m(\u001b[33mf\u001b[39m\u001b[33m\"\u001b[39m\u001b[33m🔍 Trial \u001b[39m\u001b[38;5;132;01m{\u001b[39;00mi\u001b[38;5;132;01m}\u001b[39;00m\u001b[33m/\u001b[39m\u001b[38;5;132;01m{\u001b[39;00mN_TRIALS\u001b[38;5;132;01m}\u001b[39;00m\u001b[33m: \u001b[39m\u001b[38;5;132;01m{\u001b[39;00mhp\u001b[38;5;132;01m}\u001b[39;00m\u001b[33m\"\u001b[39m)\n\u001b[32m      6\u001b[39m model = create_tft_model(hp, in_len=\u001b[32m5\u001b[39m, out_len=\u001b[32m1\u001b[39m)\n\u001b[32m----> \u001b[39m\u001b[32m7\u001b[39m \u001b[43mmodel\u001b[49m\u001b[43m.\u001b[49m\u001b[43mfit\u001b[49m\u001b[43m(\u001b[49m\u001b[43mseries\u001b[49m\u001b[43m=\u001b[49m\u001b[43mtrain_list\u001b[49m\u001b[43m,\u001b[49m\u001b[43m \u001b[49m\u001b[43mpast_covariates\u001b[49m\u001b[43m=\u001b[49m\u001b[43mcov_train\u001b[49m\u001b[43m,\u001b[49m\u001b[43m \u001b[49m\u001b[43mverbose\u001b[49m\u001b[43m=\u001b[49m\u001b[38;5;28;43;01mFalse\u001b[39;49;00m\u001b[43m)\u001b[49m\n\u001b[32m      9\u001b[39m preds = model.predict(n=\u001b[32m1\u001b[39m, series=train_list, past_covariates=cov_full)\n\u001b[32m     10\u001b[39m score = mae(val_list, preds, reduction=np.mean)\n",
            "\u001b[36mFile \u001b[39m\u001b[32mc:\\Users\\opera\\AppData\\Local\\Programs\\Python\\Python313\\Lib\\site-packages\\darts\\utils\\torch.py:94\u001b[39m, in \u001b[36mrandom_method.<locals>.decorator\u001b[39m\u001b[34m(self, *args, **kwargs)\u001b[39m\n\u001b[32m     92\u001b[39m \u001b[38;5;28;01mwith\u001b[39;00m fork_rng():\n\u001b[32m     93\u001b[39m     manual_seed(random_instance.randint(\u001b[32m0\u001b[39m, high=MAX_TORCH_SEED_VALUE))\n\u001b[32m---> \u001b[39m\u001b[32m94\u001b[39m     \u001b[38;5;28;01mreturn\u001b[39;00m \u001b[43mdecorated\u001b[49m\u001b[43m(\u001b[49m\u001b[38;5;28;43mself\u001b[39;49m\u001b[43m,\u001b[49m\u001b[43m \u001b[49m\u001b[43m*\u001b[49m\u001b[43margs\u001b[49m\u001b[43m,\u001b[49m\u001b[43m \u001b[49m\u001b[43m*\u001b[49m\u001b[43m*\u001b[49m\u001b[43mkwargs\u001b[49m\u001b[43m)\u001b[49m\n",
            "\u001b[36mFile \u001b[39m\u001b[32mc:\\Users\\opera\\AppData\\Local\\Programs\\Python\\Python313\\Lib\\site-packages\\darts\\models\\forecasting\\torch_forecasting_model.py:944\u001b[39m, in \u001b[36mTorchForecastingModel.fit\u001b[39m\u001b[34m(self, series, past_covariates, future_covariates, val_series, val_past_covariates, val_future_covariates, trainer, verbose, epochs, max_samples_per_ts, dataloader_kwargs, sample_weight, val_sample_weight, stride)\u001b[39m\n\u001b[32m    938\u001b[39m \u001b[38;5;66;03m# call super fit only if user is actually fitting the model\u001b[39;00m\n\u001b[32m    939\u001b[39m \u001b[38;5;28msuper\u001b[39m().fit(\n\u001b[32m    940\u001b[39m     series=seq2series(series),\n\u001b[32m    941\u001b[39m     past_covariates=seq2series(past_covariates),\n\u001b[32m    942\u001b[39m     future_covariates=seq2series(future_covariates),\n\u001b[32m    943\u001b[39m )\n\u001b[32m--> \u001b[39m\u001b[32m944\u001b[39m \u001b[38;5;28;01mreturn\u001b[39;00m \u001b[38;5;28;43mself\u001b[39;49m\u001b[43m.\u001b[49m\u001b[43mfit_from_dataset\u001b[49m\u001b[43m(\u001b[49m\u001b[43m*\u001b[49m\u001b[43mparams\u001b[49m\u001b[43m)\u001b[49m\n",
            "\u001b[36mFile \u001b[39m\u001b[32mc:\\Users\\opera\\AppData\\Local\\Programs\\Python\\Python313\\Lib\\site-packages\\darts\\utils\\torch.py:94\u001b[39m, in \u001b[36mrandom_method.<locals>.decorator\u001b[39m\u001b[34m(self, *args, **kwargs)\u001b[39m\n\u001b[32m     92\u001b[39m \u001b[38;5;28;01mwith\u001b[39;00m fork_rng():\n\u001b[32m     93\u001b[39m     manual_seed(random_instance.randint(\u001b[32m0\u001b[39m, high=MAX_TORCH_SEED_VALUE))\n\u001b[32m---> \u001b[39m\u001b[32m94\u001b[39m     \u001b[38;5;28;01mreturn\u001b[39;00m \u001b[43mdecorated\u001b[49m\u001b[43m(\u001b[49m\u001b[38;5;28;43mself\u001b[39;49m\u001b[43m,\u001b[49m\u001b[43m \u001b[49m\u001b[43m*\u001b[49m\u001b[43margs\u001b[49m\u001b[43m,\u001b[49m\u001b[43m \u001b[49m\u001b[43m*\u001b[49m\u001b[43m*\u001b[49m\u001b[43mkwargs\u001b[49m\u001b[43m)\u001b[49m\n",
            "\u001b[36mFile \u001b[39m\u001b[32mc:\\Users\\opera\\AppData\\Local\\Programs\\Python\\Python313\\Lib\\site-packages\\darts\\models\\forecasting\\torch_forecasting_model.py:1127\u001b[39m, in \u001b[36mTorchForecastingModel.fit_from_dataset\u001b[39m\u001b[34m(self, train_dataset, val_dataset, trainer, verbose, epochs, dataloader_kwargs)\u001b[39m\n\u001b[32m   1074\u001b[39m \u001b[38;5;129m@random_method\u001b[39m\n\u001b[32m   1075\u001b[39m \u001b[38;5;28;01mdef\u001b[39;00m\u001b[38;5;250m \u001b[39m\u001b[34mfit_from_dataset\u001b[39m(\n\u001b[32m   1076\u001b[39m     \u001b[38;5;28mself\u001b[39m,\n\u001b[32m   (...)\u001b[39m\u001b[32m   1082\u001b[39m     dataloader_kwargs: Optional[\u001b[38;5;28mdict\u001b[39m[\u001b[38;5;28mstr\u001b[39m, Any]] = \u001b[38;5;28;01mNone\u001b[39;00m,\n\u001b[32m   1083\u001b[39m ) -> \u001b[33m\"\u001b[39m\u001b[33mTorchForecastingModel\u001b[39m\u001b[33m\"\u001b[39m:\n\u001b[32m   1084\u001b[39m \u001b[38;5;250m    \u001b[39m\u001b[33;03m\"\"\"\u001b[39;00m\n\u001b[32m   1085\u001b[39m \u001b[33;03m    Train the model with a specific :class:`darts.utils.data.TorchTrainingDataset` instance.\u001b[39;00m\n\u001b[32m   1086\u001b[39m \u001b[33;03m    These datasets implement a PyTorch ``Dataset``, and specify how the target and covariates are sliced\u001b[39;00m\n\u001b[32m   (...)\u001b[39m\u001b[32m   1125\u001b[39m \u001b[33;03m        Fitted model.\u001b[39;00m\n\u001b[32m   1126\u001b[39m \u001b[33;03m    \"\"\"\u001b[39;00m\n\u001b[32m-> \u001b[39m\u001b[32m1127\u001b[39m     \u001b[38;5;28;43mself\u001b[39;49m\u001b[43m.\u001b[49m\u001b[43m_train\u001b[49m\u001b[43m(\u001b[49m\n\u001b[32m   1128\u001b[39m \u001b[43m        \u001b[49m\u001b[43m*\u001b[49m\u001b[38;5;28;43mself\u001b[39;49m\u001b[43m.\u001b[49m\u001b[43m_setup_for_train\u001b[49m\u001b[43m(\u001b[49m\n\u001b[32m   1129\u001b[39m \u001b[43m            \u001b[49m\u001b[43mtrain_dataset\u001b[49m\u001b[43m=\u001b[49m\u001b[43mtrain_dataset\u001b[49m\u001b[43m,\u001b[49m\n\u001b[32m   1130\u001b[39m \u001b[43m            \u001b[49m\u001b[43mval_dataset\u001b[49m\u001b[43m=\u001b[49m\u001b[43mval_dataset\u001b[49m\u001b[43m,\u001b[49m\n\u001b[32m   1131\u001b[39m \u001b[43m            \u001b[49m\u001b[43mtrainer\u001b[49m\u001b[43m=\u001b[49m\u001b[43mtrainer\u001b[49m\u001b[43m,\u001b[49m\n\u001b[32m   1132\u001b[39m \u001b[43m            \u001b[49m\u001b[43mverbose\u001b[49m\u001b[43m=\u001b[49m\u001b[43mverbose\u001b[49m\u001b[43m,\u001b[49m\n\u001b[32m   1133\u001b[39m \u001b[43m            \u001b[49m\u001b[43mepochs\u001b[49m\u001b[43m=\u001b[49m\u001b[43mepochs\u001b[49m\u001b[43m,\u001b[49m\n\u001b[32m   1134\u001b[39m \u001b[43m            \u001b[49m\u001b[43mdataloader_kwargs\u001b[49m\u001b[43m=\u001b[49m\u001b[43mdataloader_kwargs\u001b[49m\u001b[43m,\u001b[49m\n\u001b[32m   1135\u001b[39m \u001b[43m        \u001b[49m\u001b[43m)\u001b[49m\n\u001b[32m   1136\u001b[39m \u001b[43m    \u001b[49m\u001b[43m)\u001b[49m\n\u001b[32m   1137\u001b[39m     \u001b[38;5;28;01mreturn\u001b[39;00m \u001b[38;5;28mself\u001b[39m\n",
            "\u001b[36mFile \u001b[39m\u001b[32mc:\\Users\\opera\\AppData\\Local\\Programs\\Python\\Python313\\Lib\\site-packages\\darts\\models\\forecasting\\torch_forecasting_model.py:1316\u001b[39m, in \u001b[36mTorchForecastingModel._train\u001b[39m\u001b[34m(self, trainer, model, train_loader, val_loader)\u001b[39m\n\u001b[32m   1313\u001b[39m \u001b[38;5;28mself\u001b[39m.load_ckpt_path = \u001b[38;5;28;01mNone\u001b[39;00m\n\u001b[32m   1315\u001b[39m \u001b[38;5;28;01mif\u001b[39;00m \u001b[38;5;28mself\u001b[39m._requires_training:\n\u001b[32m-> \u001b[39m\u001b[32m1316\u001b[39m     \u001b[43mtrainer\u001b[49m\u001b[43m.\u001b[49m\u001b[43mfit\u001b[49m\u001b[43m(\u001b[49m\n\u001b[32m   1317\u001b[39m \u001b[43m        \u001b[49m\u001b[43mmodel\u001b[49m\u001b[43m,\u001b[49m\n\u001b[32m   1318\u001b[39m \u001b[43m        \u001b[49m\u001b[43mtrain_dataloaders\u001b[49m\u001b[43m=\u001b[49m\u001b[43mtrain_loader\u001b[49m\u001b[43m,\u001b[49m\n\u001b[32m   1319\u001b[39m \u001b[43m        \u001b[49m\u001b[43mval_dataloaders\u001b[49m\u001b[43m=\u001b[49m\u001b[43mval_loader\u001b[49m\u001b[43m,\u001b[49m\n\u001b[32m   1320\u001b[39m \u001b[43m        \u001b[49m\u001b[43mckpt_path\u001b[49m\u001b[43m=\u001b[49m\u001b[43mckpt_path\u001b[49m\u001b[43m,\u001b[49m\n\u001b[32m   1321\u001b[39m \u001b[43m    \u001b[49m\u001b[43m)\u001b[49m\n\u001b[32m   1322\u001b[39m \u001b[38;5;28mself\u001b[39m.model = model\n\u001b[32m   1323\u001b[39m \u001b[38;5;28mself\u001b[39m.trainer = trainer\n",
            "\u001b[36mFile \u001b[39m\u001b[32mc:\\Users\\opera\\AppData\\Local\\Programs\\Python\\Python313\\Lib\\site-packages\\pytorch_lightning\\trainer\\trainer.py:538\u001b[39m, in \u001b[36mTrainer.fit\u001b[39m\u001b[34m(self, model, train_dataloaders, val_dataloaders, datamodule, ckpt_path)\u001b[39m\n\u001b[32m    536\u001b[39m \u001b[38;5;28mself\u001b[39m.state.status = TrainerStatus.RUNNING\n\u001b[32m    537\u001b[39m \u001b[38;5;28mself\u001b[39m.training = \u001b[38;5;28;01mTrue\u001b[39;00m\n\u001b[32m--> \u001b[39m\u001b[32m538\u001b[39m \u001b[43mcall\u001b[49m\u001b[43m.\u001b[49m\u001b[43m_call_and_handle_interrupt\u001b[49m\u001b[43m(\u001b[49m\n\u001b[32m    539\u001b[39m \u001b[43m    \u001b[49m\u001b[38;5;28;43mself\u001b[39;49m\u001b[43m,\u001b[49m\u001b[43m \u001b[49m\u001b[38;5;28;43mself\u001b[39;49m\u001b[43m.\u001b[49m\u001b[43m_fit_impl\u001b[49m\u001b[43m,\u001b[49m\u001b[43m \u001b[49m\u001b[43mmodel\u001b[49m\u001b[43m,\u001b[49m\u001b[43m \u001b[49m\u001b[43mtrain_dataloaders\u001b[49m\u001b[43m,\u001b[49m\u001b[43m \u001b[49m\u001b[43mval_dataloaders\u001b[49m\u001b[43m,\u001b[49m\u001b[43m \u001b[49m\u001b[43mdatamodule\u001b[49m\u001b[43m,\u001b[49m\u001b[43m \u001b[49m\u001b[43mckpt_path\u001b[49m\n\u001b[32m    540\u001b[39m \u001b[43m\u001b[49m\u001b[43m)\u001b[49m\n",
            "\u001b[36mFile \u001b[39m\u001b[32mc:\\Users\\opera\\AppData\\Local\\Programs\\Python\\Python313\\Lib\\site-packages\\pytorch_lightning\\trainer\\call.py:64\u001b[39m, in \u001b[36m_call_and_handle_interrupt\u001b[39m\u001b[34m(trainer, trainer_fn, *args, **kwargs)\u001b[39m\n\u001b[32m     62\u001b[39m     \u001b[38;5;28;01mif\u001b[39;00m \u001b[38;5;28misinstance\u001b[39m(launcher, _SubprocessScriptLauncher):\n\u001b[32m     63\u001b[39m         launcher.kill(_get_sigkill_signal())\n\u001b[32m---> \u001b[39m\u001b[32m64\u001b[39m     \u001b[43mexit\u001b[49m(\u001b[32m1\u001b[39m)\n\u001b[32m     66\u001b[39m \u001b[38;5;28;01mexcept\u001b[39;00m \u001b[38;5;167;01mBaseException\u001b[39;00m \u001b[38;5;28;01mas\u001b[39;00m exception:\n\u001b[32m     67\u001b[39m     _interrupt(trainer, exception)\n",
            "\u001b[31mNameError\u001b[39m: name 'exit' is not defined"
          ]
        }
      ],
      "source": [
        "N_TRIALS = 25\n",
        "best_mae, best_params, best_model = np.inf, None, None\n",
        "\n",
        "trial_iter = tqdm(sample_params(search_space, N_TRIALS),\n",
        "                  total=N_TRIALS,\n",
        "                  desc=\"Trials\")\n",
        "\n",
        "for i, hp in enumerate(trial_iter, 1):\n",
        "    trial_iter.set_postfix(hp=hp)\n",
        "\n",
        "    model = create_tft_model_val(hp, in_len=5, out_len=1)\n",
        "    model.fit(series=train_list_18,\n",
        "              past_covariates=cov_train_18,\n",
        "              verbose=True)\n",
        "     \n",
        "    preds = model.predict(n=1, series=train_list_18, past_covariates=cov_full_18)\n",
        "    score = mae(val_list_18, preds, reduction=np.mean)\n",
        "    print(f\"   MAE dic‑18: {score:.4f}\")\n",
        "\n",
        "    if score < best_mae:\n",
        "        best_mae, best_params, best_model = score, hp, model\n",
        "        print(\"   🏆 Nuevo mejor!\")\n",
        "\n",
        "print(\"\\n🏁 Mejor MAE:\", round(best_mae, 4))\n",
        "print(\"Hiperparámetros óptimos:\", best_params)"
      ]
    },
    {
      "cell_type": "markdown",
      "metadata": {},
      "source": [
        "### TFT_corto final"
      ]
    },
    {
      "cell_type": "code",
      "execution_count": 113,
      "metadata": {},
      "outputs": [],
      "source": [
        "best_params = {\n",
        "    \"hidden_size\":        64,\n",
        "    \"n_heads\":            4,\n",
        "    \"dropout\":            0.1,\n",
        "    \"batch_size\":         64,\n",
        "    \"optimizer_kwargs\":   {\"lr\": 1e-3},\n",
        "}"
      ]
    },
    {
      "cell_type": "code",
      "execution_count": 141,
      "metadata": {},
      "outputs": [],
      "source": [
        "def create_tft_model(params, in_len, out_len):\n",
        "    pl_trainer_kwargs = dict(\n",
        "        accelerator = \"gpu\" if torch.cuda.is_available() else \"cpu\",\n",
        "        devices     = 1     if torch.cuda.is_available() else None,\n",
        "        #callbacks   = [EarlyStopping(monitor=\"val_loss\",patience=20, mode=\"min\")],\n",
        "        enable_progress_bar = True,\n",
        "    )\n",
        "    return TFTModel(\n",
        "        input_chunk_length = in_len,\n",
        "        output_chunk_length= out_len,\n",
        "        hidden_size        = params[\"hidden_size\"],\n",
        "        num_attention_heads= params[\"n_heads\"],\n",
        "        dropout            = params[\"dropout\"],\n",
        "        batch_size         = params[\"batch_size\"],\n",
        "        n_epochs           = 60,\n",
        "        lstm_layers        = 2,\n",
        "        likelihood         = QuantileRegression([0.1, 0.5, 0.9]),\n",
        "        use_reversible_instance_norm = True,\n",
        "        optimizer_kwargs   = params[\"optimizer_kwargs\"],\n",
        "        add_encoders       = build_encoders(),\n",
        "        add_relative_index = True,\n",
        "        pl_trainer_kwargs  = pl_trainer_kwargs,\n",
        "        random_state       = 42,\n",
        "        save_checkpoints   = False,\n",
        "    )"
      ]
    },
    {
      "cell_type": "code",
      "execution_count": null,
      "metadata": {},
      "outputs": [
        {
          "name": "stderr",
          "output_type": "stream",
          "text": [
            "C:\\Users\\opera\\AppData\\Local\\Temp\\ipykernel_2776\\1160341846.py:10: FutureWarning: Series.fillna with 'method' is deprecated and will raise in a future version. Use obj.ffill() or obj.bfill() instead.\n",
            "  df_2019[col] = df_2019[col].fillna(method=\"ffill\").fillna(0)  # ffill y si arranca con NaN, 0\n"
          ]
        }
      ],
      "source": [
        "# ----- datos 2019‑H2 -----\n",
        "mask_2019 = (df_tft_corto[\"timestamp\"] >= \"2019-05-01\") & \\\n",
        "            (df_tft_corto[\"timestamp\"] <= \"2019-12-31\")\n",
        "df_2019 = df_tft_corto.loc[mask_2019].copy()\n",
        "\n",
        "# tenemos NaN en covariables\n",
        "for col in cov_cols_corto:\n",
        "    if df_2019[col].isnull().any():\n",
        "        if df_2019[col].dtype in [np.float64, np.float32, np.int64, np.int32]:\n",
        "            df_2019[col] = df_2019[col].fillna(method=\"ffill\").fillna(0)  # ffill y si arranca con NaN, 0\n",
        "        else:\n",
        "            df_2019[col] = df_2019[col].fillna(0)"
      ]
    },
    {
      "cell_type": "code",
      "execution_count": 133,
      "metadata": {},
      "outputs": [
        {
          "name": "stdout",
          "output_type": "stream",
          "text": [
            "📊 262805 series agrupadas\n",
            "🚀 Procesando grupos...\n"
          ]
        },
        {
          "name": "stderr",
          "output_type": "stream",
          "text": [
            "Creando TimeSeries: 100%|██████████| 262805/262805 [15:06<00:00, 289.83it/s]\n"
          ]
        },
        {
          "name": "stdout",
          "output_type": "stream",
          "text": [
            "✅ 262805 series creadas\n"
          ]
        }
      ],
      "source": [
        "series_19, covs_19 = make_series_and_covs_from_series_id(\n",
        "    df       = df_2019,\n",
        "    cov_cols = cov_cols_corto,\n",
        "    time_col = \"timestamp\",\n",
        "    freq     = \"MS\"\n",
        ")"
      ]
    },
    {
      "cell_type": "code",
      "execution_count": 142,
      "metadata": {},
      "outputs": [
        {
          "name": "stderr",
          "output_type": "stream",
          "text": [
            "GPU available: True (cuda), used: True\n",
            "TPU available: False, using: 0 TPU cores\n",
            "HPU available: False, using: 0 HPUs\n",
            "LOCAL_RANK: 0 - CUDA_VISIBLE_DEVICES: [0]\n",
            "\n",
            "   | Name                              | Type                             | Params | Mode \n",
            "------------------------------------------------------------------------------------------------\n",
            "0  | train_metrics                     | MetricCollection                 | 0      | train\n",
            "1  | val_metrics                       | MetricCollection                 | 0      | train\n",
            "2  | rin                               | RINorm                           | 2      | train\n",
            "3  | input_embeddings                  | _MultiEmbedding                  | 0      | train\n",
            "4  | static_covariates_vsn             | _VariableSelectionNetwork        | 0      | train\n",
            "5  | encoder_vsn                       | _VariableSelectionNetwork        | 16.2 K | train\n",
            "6  | decoder_vsn                       | _VariableSelectionNetwork        | 1.6 K  | train\n",
            "7  | static_context_grn                | _GatedResidualNetwork            | 16.8 K | train\n",
            "8  | static_context_hidden_encoder_grn | _GatedResidualNetwork            | 16.8 K | train\n",
            "9  | static_context_cell_encoder_grn   | _GatedResidualNetwork            | 16.8 K | train\n",
            "10 | static_context_enrichment         | _GatedResidualNetwork            | 16.8 K | train\n",
            "11 | lstm_encoder                      | LSTM                             | 66.6 K | train\n",
            "12 | lstm_decoder                      | LSTM                             | 66.6 K | train\n",
            "13 | post_lstm_gan                     | _GateAddNorm                     | 8.4 K  | train\n",
            "14 | static_enrichment_grn             | _GatedResidualNetwork            | 20.9 K | train\n",
            "15 | multihead_attn                    | _InterpretableMultiHeadAttention | 10.4 K | train\n",
            "16 | post_attn_gan                     | _GateAddNorm                     | 8.4 K  | train\n",
            "17 | feed_forward_block                | _GatedResidualNetwork            | 16.8 K | train\n",
            "18 | pre_output_gan                    | _GateAddNorm                     | 8.4 K  | train\n",
            "19 | output_layer                      | Linear                           | 195    | train\n",
            "------------------------------------------------------------------------------------------------\n",
            "291 K     Trainable params\n",
            "0         Non-trainable params\n",
            "291 K     Total params\n",
            "1.166     Total estimated model params size (MB)\n",
            "278       Modules in train mode\n",
            "0         Modules in eval mode\n"
          ]
        },
        {
          "data": {
            "application/vnd.jupyter.widget-view+json": {
              "model_id": "3e872586fb984054b089c3d3c56f8a63",
              "version_major": 2,
              "version_minor": 0
            },
            "text/plain": [
              "Training: |          | 0/? [00:00<?, ?it/s]"
            ]
          },
          "metadata": {},
          "output_type": "display_data"
        },
        {
          "name": "stderr",
          "output_type": "stream",
          "text": [
            "`Trainer.fit` stopped: `max_epochs=60` reached.\n"
          ]
        },
        {
          "data": {
            "text/plain": [
              "TFTModel(output_chunk_shift=0, hidden_size=64, lstm_layers=2, num_attention_heads=4, full_attention=False, feed_forward=GatedResidualNetwork, dropout=0.1, hidden_continuous_size=8, categorical_embedding_sizes=None, add_relative_index=True, loss_fn=None, likelihood=QuantileRegression(quantiles=[0.1, 0.5, 0.9], prior_strength=1.0), norm_type=LayerNorm, use_static_covariates=True, input_chunk_length=6, output_chunk_length=2, batch_size=64, n_epochs=60, use_reversible_instance_norm=True, optimizer_kwargs={'lr': 0.001}, add_encoders={'cyclic': {'past': ['month']}, 'transformer': Scaler}, pl_trainer_kwargs={'accelerator': 'gpu', 'devices': 1, 'enable_progress_bar': True}, random_state=42, save_checkpoints=False)"
            ]
          },
          "execution_count": 142,
          "metadata": {},
          "output_type": "execute_result"
        }
      ],
      "source": [
        "# ----- modelo final 6‑1 con best_params -----\n",
        "tft_corto_final = create_tft_model(best_params, in_len=6, out_len=2)\n",
        "tft_corto_final.fit(series=series_19, past_covariates=covs_19, verbose=True)"
      ]
    },
    {
      "cell_type": "code",
      "execution_count": 143,
      "metadata": {},
      "outputs": [
        {
          "name": "stderr",
          "output_type": "stream",
          "text": [
            "GPU available: True (cuda), used: True\n",
            "TPU available: False, using: 0 TPU cores\n",
            "HPU available: False, using: 0 HPUs\n",
            "LOCAL_RANK: 0 - CUDA_VISIBLE_DEVICES: [0]\n"
          ]
        },
        {
          "data": {
            "application/vnd.jupyter.widget-view+json": {
              "model_id": "1982e06c7f2142159dc821dd3f046152",
              "version_major": 2,
              "version_minor": 0
            },
            "text/plain": [
              "Predicting: |          | 0/? [00:00<?, ?it/s]"
            ]
          },
          "metadata": {},
          "output_type": "display_data"
        },
        {
          "data": {
            "application/vnd.jupyter.widget-view+json": {
              "model_id": "f4e0ba0852244884ad2f9ee583023746",
              "version_major": 2,
              "version_minor": 0
            },
            "text/plain": [
              "Generating TimeSeries:   0%|          | 0/262805 [00:00<?, ?it/s]"
            ]
          },
          "metadata": {},
          "output_type": "display_data"
        }
      ],
      "source": [
        "# ----- predicción feb‑2020 (n=2) -----\n",
        "pred_tft_corto = tft_corto_final.predict(\n",
        "    n=2,\n",
        "    series=series_19,\n",
        "    past_covariates=covs_19,\n",
        "    verbose=True\n",
        ")"
      ]
    },
    {
      "cell_type": "code",
      "execution_count": 144,
      "metadata": {},
      "outputs": [],
      "source": [
        "# --- 1. Extraer mediana de febrero 2020 para cada serie (producto_cliente) ---\n",
        "series_ids = df_tft_corto[\"series_id\"].drop_duplicates().tolist()\n",
        "\n",
        "preds_feb_corto = []\n",
        "for i, fcst in enumerate(pred_tft_corto):\n",
        "    try:\n",
        "        fcst_med = fcst.quantile_timeseries(0.5)\n",
        "    except AttributeError:\n",
        "        fcst_med = fcst\n",
        "\n",
        "    if \"2020-02-01\" in fcst_med.time_index:\n",
        "        idx_feb = fcst_med.time_index.get_loc(\"2020-02-01\")\n",
        "    elif len(fcst_med) > 1:\n",
        "        idx_feb = -1\n",
        "    else:\n",
        "        idx_feb = 0\n",
        "\n",
        "    valor_feb_corto = fcst_med.values()[idx_feb, 0]\n",
        "    series_id = series_ids[i]\n",
        "\n",
        "    preds_feb_corto.append({\n",
        "        \"series_id\": series_id,\n",
        "        \"tn_feb2020\": valor_feb_corto\n",
        "    })\n",
        "\n",
        "preds_feb_corto = pd.DataFrame(preds_feb_corto)"
      ]
    },
    {
      "cell_type": "code",
      "execution_count": 146,
      "metadata": {},
      "outputs": [],
      "source": [
        "def check_nans(series_list, covariates_list):\n",
        "    for i, (ts, cov) in enumerate(zip(series_list, covariates_list)):\n",
        "        if np.isnan(ts.values()).any():\n",
        "            print(f\"NaN en serie {i} / series_id {series_ids[i]}\")\n",
        "        if np.isnan(cov.values()).any():\n",
        "            print(f\"NaN en covariables {i} / series_id {series_ids[i]}\")\n",
        "\n",
        "check_nans(series_19, covs_19)"
      ]
    },
    {
      "cell_type": "code",
      "execution_count": 147,
      "metadata": {},
      "outputs": [
        {
          "name": "stdout",
          "output_type": "stream",
          "text": [
            "Min: 0.0 Max: 547.8785 Mean: 0.115187585\n",
            "¿Todos ceros? False\n",
            "¿Todos iguales? False\n"
          ]
        }
      ],
      "source": [
        "targets = np.concatenate([ts.values().flatten() for ts in series_19])\n",
        "print(\"Min:\", np.min(targets), \"Max:\", np.max(targets), \"Mean:\", np.mean(targets))\n",
        "print(\"¿Todos ceros?\", np.all(targets == 0))\n",
        "print(\"¿Todos iguales?\", np.all(targets == targets[0]))"
      ]
    },
    {
      "cell_type": "code",
      "execution_count": 148,
      "metadata": {},
      "outputs": [
        {
          "name": "stdout",
          "output_type": "stream",
          "text": [
            "NaN en covariables: 0\n",
            "Valores máximos/minimos: 290.0 0.0\n"
          ]
        }
      ],
      "source": [
        "cov_concat = np.concatenate([cov.values().flatten() for cov in covs_19])\n",
        "print(\"NaN en covariables:\", np.isnan(cov_concat).sum())\n",
        "print(\"Valores máximos/minimos:\", np.nanmax(cov_concat), np.nanmin(cov_concat))"
      ]
    },
    {
      "cell_type": "code",
      "execution_count": null,
      "metadata": {},
      "outputs": [],
      "source": [
        "targets = np.concatenate([ts.values().flatten() for ts in series_19])\n",
        "print(\"Min:\", np.min(targets), \"Max:\", np.max(targets), \"Mean:\", np.mean(targets))\n",
        "print(\"¿Todos ceros?\", np.all(targets == 0))\n",
        "print(\"¿Todos iguales?\", np.all(targets == targets[0]))"
      ]
    },
    {
      "cell_type": "code",
      "execution_count": 145,
      "metadata": {},
      "outputs": [
        {
          "name": "stdout",
          "output_type": "stream",
          "text": [
            "   product_id  pred_tft_corto\n",
            "0       20001       27.722528\n",
            "1       20002       58.231617\n",
            "2       20003       10.315485\n",
            "3       20004        9.664122\n",
            "4       20005       19.407740\n"
          ]
        }
      ],
      "source": [
        "# --- 2. Mapeo directo a product_id ---\n",
        "preds_feb_corto[\"product_id\"] = preds_feb_corto[\"series_id\"].map(series_to_product)\n",
        "\n",
        "preds_feb_corto[\"tn_feb2020_clipped\"] = preds_feb_corto[\"tn_feb2020\"].clip(lower=0)\n",
        "\n",
        "# --- 3. Sumar todos los clientes (series) de cada producto ---\n",
        "resultado_tft_corto = (\n",
        "    preds_feb_corto\n",
        "      .groupby(\"product_id\", as_index=False)[\"tn_feb2020_clipped\"]\n",
        "      .sum()\n",
        "      .rename(columns={\"tn_feb2020_clipped\": \"pred_tft_corto\"})\n",
        ")\n",
        "\n",
        "print(resultado_tft_corto.head())"
      ]
    },
    {
      "cell_type": "markdown",
      "metadata": {},
      "source": [
        "### Al igual que el TFT largo, las predicciones quedan muy debajo del baseline"
      ]
    },
    {
      "cell_type": "code",
      "execution_count": 151,
      "metadata": {},
      "outputs": [
        {
          "data": {
            "text/html": [
              "<div>\n",
              "<style scoped>\n",
              "    .dataframe tbody tr th:only-of-type {\n",
              "        vertical-align: middle;\n",
              "    }\n",
              "\n",
              "    .dataframe tbody tr th {\n",
              "        vertical-align: top;\n",
              "    }\n",
              "\n",
              "    .dataframe thead th {\n",
              "        text-align: right;\n",
              "    }\n",
              "</style>\n",
              "<table border=\"1\" class=\"dataframe\">\n",
              "  <thead>\n",
              "    <tr style=\"text-align: right;\">\n",
              "      <th></th>\n",
              "      <th>product_id</th>\n",
              "      <th>pred_tft_corto</th>\n",
              "    </tr>\n",
              "  </thead>\n",
              "  <tbody>\n",
              "    <tr>\n",
              "      <th>0</th>\n",
              "      <td>20001</td>\n",
              "      <td>27.722528</td>\n",
              "    </tr>\n",
              "    <tr>\n",
              "      <th>1</th>\n",
              "      <td>20002</td>\n",
              "      <td>58.231617</td>\n",
              "    </tr>\n",
              "    <tr>\n",
              "      <th>2</th>\n",
              "      <td>20003</td>\n",
              "      <td>10.315485</td>\n",
              "    </tr>\n",
              "    <tr>\n",
              "      <th>3</th>\n",
              "      <td>20004</td>\n",
              "      <td>9.664122</td>\n",
              "    </tr>\n",
              "    <tr>\n",
              "      <th>4</th>\n",
              "      <td>20005</td>\n",
              "      <td>19.407740</td>\n",
              "    </tr>\n",
              "  </tbody>\n",
              "</table>\n",
              "</div>"
            ],
            "text/plain": [
              "   product_id  pred_tft_corto\n",
              "0       20001       27.722528\n",
              "1       20002       58.231617\n",
              "2       20003       10.315485\n",
              "3       20004        9.664122\n",
              "4       20005       19.407740"
            ]
          },
          "execution_count": 151,
          "metadata": {},
          "output_type": "execute_result"
        }
      ],
      "source": [
        "resultado_tft_corto.head()"
      ]
    },
    {
      "cell_type": "markdown",
      "metadata": {},
      "source": [
        "### TFT largo"
      ]
    },
    {
      "cell_type": "code",
      "execution_count": 71,
      "metadata": {},
      "outputs": [],
      "source": [
        "params_default = {\n",
        "    \"hidden_size\":        64,\n",
        "    \"n_heads\":            4,\n",
        "    \"dropout\":            0.1,\n",
        "    \"batch_size\":         64,\n",
        "    \"optimizer_kwargs\":   {\"lr\": 1e-3},\n",
        "}\n",
        "\n",
        "model_largo = create_tft_model(params_default, in_len=34, out_len=2)"
      ]
    },
    {
      "cell_type": "code",
      "execution_count": 72,
      "metadata": {},
      "outputs": [
        {
          "name": "stderr",
          "output_type": "stream",
          "text": [
            "GPU available: True (cuda), used: True\n",
            "TPU available: False, using: 0 TPU cores\n",
            "HPU available: False, using: 0 HPUs\n",
            "LOCAL_RANK: 0 - CUDA_VISIBLE_DEVICES: [0]\n",
            "\n",
            "   | Name                              | Type                             | Params | Mode \n",
            "------------------------------------------------------------------------------------------------\n",
            "0  | train_metrics                     | MetricCollection                 | 0      | train\n",
            "1  | val_metrics                       | MetricCollection                 | 0      | train\n",
            "2  | rin                               | RINorm                           | 2      | train\n",
            "3  | input_embeddings                  | _MultiEmbedding                  | 0      | train\n",
            "4  | static_covariates_vsn             | _VariableSelectionNetwork        | 0      | train\n",
            "5  | encoder_vsn                       | _VariableSelectionNetwork        | 16.2 K | train\n",
            "6  | decoder_vsn                       | _VariableSelectionNetwork        | 1.6 K  | train\n",
            "7  | static_context_grn                | _GatedResidualNetwork            | 16.8 K | train\n",
            "8  | static_context_hidden_encoder_grn | _GatedResidualNetwork            | 16.8 K | train\n",
            "9  | static_context_cell_encoder_grn   | _GatedResidualNetwork            | 16.8 K | train\n",
            "10 | static_context_enrichment         | _GatedResidualNetwork            | 16.8 K | train\n",
            "11 | lstm_encoder                      | LSTM                             | 66.6 K | train\n",
            "12 | lstm_decoder                      | LSTM                             | 66.6 K | train\n",
            "13 | post_lstm_gan                     | _GateAddNorm                     | 8.4 K  | train\n",
            "14 | static_enrichment_grn             | _GatedResidualNetwork            | 20.9 K | train\n",
            "15 | multihead_attn                    | _InterpretableMultiHeadAttention | 10.4 K | train\n",
            "16 | post_attn_gan                     | _GateAddNorm                     | 8.4 K  | train\n",
            "17 | feed_forward_block                | _GatedResidualNetwork            | 16.8 K | train\n",
            "18 | pre_output_gan                    | _GateAddNorm                     | 8.4 K  | train\n",
            "19 | output_layer                      | Linear                           | 195    | train\n",
            "------------------------------------------------------------------------------------------------\n",
            "291 K     Trainable params\n",
            "0         Non-trainable params\n",
            "291 K     Total params\n",
            "1.166     Total estimated model params size (MB)\n",
            "278       Modules in train mode\n",
            "0         Modules in eval mode\n"
          ]
        },
        {
          "data": {
            "application/vnd.jupyter.widget-view+json": {
              "model_id": "eadfa6417e054b719fd59a5c10723d9f",
              "version_major": 2,
              "version_minor": 0
            },
            "text/plain": [
              "Training: |          | 0/? [00:00<?, ?it/s]"
            ]
          },
          "metadata": {},
          "output_type": "display_data"
        },
        {
          "name": "stderr",
          "output_type": "stream",
          "text": [
            "`Trainer.fit` stopped: `max_epochs=80` reached.\n"
          ]
        },
        {
          "data": {
            "text/plain": [
              "TFTModel(output_chunk_shift=0, hidden_size=64, lstm_layers=2, num_attention_heads=4, full_attention=False, feed_forward=GatedResidualNetwork, dropout=0.1, hidden_continuous_size=8, categorical_embedding_sizes=None, add_relative_index=True, loss_fn=None, likelihood=QuantileRegression(quantiles=[0.1, 0.5, 0.9], prior_strength=1.0), norm_type=LayerNorm, use_static_covariates=True, input_chunk_length=34, output_chunk_length=2, batch_size=64, n_epochs=80, use_reversible_instance_norm=True, optimizer_kwargs={'lr': 0.001}, add_encoders={'cyclic': {'past': ['month']}, 'transformer': Scaler}, pl_trainer_kwargs={'accelerator': 'gpu', 'devices': 1, 'enable_progress_bar': True}, random_state=42, save_checkpoints=False)"
            ]
          },
          "execution_count": 72,
          "metadata": {},
          "output_type": "execute_result"
        }
      ],
      "source": [
        "model_largo.fit(\n",
        "    series           = tft_largo[\"series_list\"],\n",
        "    past_covariates  = tft_largo[\"covariates_list\"],\n",
        "    verbose          = True\n",
        ")"
      ]
    },
    {
      "cell_type": "code",
      "execution_count": 75,
      "metadata": {},
      "outputs": [
        {
          "name": "stderr",
          "output_type": "stream",
          "text": [
            "GPU available: True (cuda), used: True\n",
            "TPU available: False, using: 0 TPU cores\n",
            "HPU available: False, using: 0 HPUs\n",
            "LOCAL_RANK: 0 - CUDA_VISIBLE_DEVICES: [0]\n"
          ]
        },
        {
          "data": {
            "application/vnd.jupyter.widget-view+json": {
              "model_id": "c38c0936079b4d5b84463e7d5c605af3",
              "version_major": 2,
              "version_minor": 0
            },
            "text/plain": [
              "Predicting: |          | 0/? [00:00<?, ?it/s]"
            ]
          },
          "metadata": {},
          "output_type": "display_data"
        },
        {
          "data": {
            "application/vnd.jupyter.widget-view+json": {
              "model_id": "3942819b3bc24149b95ffcb5f1db58b3",
              "version_major": 2,
              "version_minor": 0
            },
            "text/plain": [
              "Generating TimeSeries:   0%|          | 0/262805 [00:00<?, ?it/s]"
            ]
          },
          "metadata": {},
          "output_type": "display_data"
        }
      ],
      "source": [
        "pred_model_largo = model_largo.predict(\n",
        "    n               = 2,\n",
        "    series          = tft_largo[\"series_list\"],\n",
        "    past_covariates = tft_largo[\"covariates_list\"],\n",
        "    verbose=True\n",
        ")"
      ]
    },
    {
      "cell_type": "code",
      "execution_count": 107,
      "metadata": {},
      "outputs": [
        {
          "name": "stdout",
          "output_type": "stream",
          "text": [
            "   product_id  pred_tft_largo\n",
            "0       20001       69.889557\n",
            "1       20002        9.226202\n",
            "2       20003      508.837769\n",
            "3       20004       23.788918\n",
            "4       20005       21.414722\n"
          ]
        }
      ],
      "source": [
        "# acá genero df\n",
        "# --- 1. Extraer mediana de febrero 2020 para cada serie (producto_cliente) ---\n",
        "series_ids = df_tft_largo[\"series_id\"].drop_duplicates().tolist()\n",
        "\n",
        "preds_feb_largo = []\n",
        "for i, fcst in enumerate(pred_model_largo):\n",
        "    try:\n",
        "        fcst_med = fcst.quantile_timeseries(0.5)\n",
        "    except AttributeError:\n",
        "        fcst_med = fcst\n",
        "\n",
        "    if \"2020-02-01\" in fcst_med.time_index:\n",
        "        idx_feb = fcst_med.time_index.get_loc(\"2020-02-01\")\n",
        "    elif len(fcst_med) > 1:\n",
        "        idx_feb = -1\n",
        "    else:\n",
        "        idx_feb = 0\n",
        "\n",
        "    valor_feb_largo = fcst_med.values()[idx_feb, 0]\n",
        "    series_id = series_ids[i]\n",
        "\n",
        "    preds_feb_largo.append({\n",
        "        \"series_id\": series_id,\n",
        "        \"tn_feb2020\": valor_feb_largo\n",
        "    })\n",
        "\n",
        "preds_feb_largo = pd.DataFrame(preds_feb_largo)\n",
        "\n",
        "# --- 2. Mapeo directo a product_id ---\n",
        "preds_feb_largo[\"product_id\"] = preds_feb_largo[\"series_id\"].map(series_to_product)\n",
        "\n",
        "preds_feb_largo[\"tn_feb2020_clipped\"] = preds_feb_largo[\"tn_feb2020\"].clip(lower=0)\n",
        "\n",
        "# --- 3. Sumar todos los clientes (series) de cada producto ---\n",
        "resultado_tft_largo = (\n",
        "    preds_feb_largo\n",
        "      .groupby(\"product_id\", as_index=False)[\"tn_feb2020_clipped\"]\n",
        "      .sum()\n",
        "      .rename(columns={\"tn_feb2020_clipped\": \"pred_tft_largo\"})\n",
        ")\n",
        "\n",
        "print(resultado_tft_largo.head())"
      ]
    },
    {
      "cell_type": "code",
      "execution_count": 108,
      "metadata": {},
      "outputs": [
        {
          "name": "stdout",
          "output_type": "stream",
          "text": [
            "Sumatoria de negativos antes del clip: -332.09457\n",
            "Cantidad de clientes con predicción negativa: 107889\n"
          ]
        }
      ],
      "source": [
        "print(\"Sumatoria de negativos antes del clip:\",\n",
        "      preds_feb_largo[preds_feb_largo[\"tn_feb2020\"] < 0][\"tn_feb2020\"].sum())\n",
        "print(\"Cantidad de clientes con predicción negativa:\",\n",
        "      (preds_feb_largo[\"tn_feb2020\"] < 0).sum())"
      ]
    },
    {
      "cell_type": "code",
      "execution_count": 102,
      "metadata": {},
      "outputs": [
        {
          "name": "stdout",
          "output_type": "stream",
          "text": [
            "== Coverage y chequeo de granularidad en predicciones ==\n",
            "\n",
            "Clientes únicos predichos (feb 2020) por producto:\n",
            " product_id\n",
            "20001    444\n",
            "20002    445\n",
            "20003    402\n",
            "20004    415\n",
            "20005    378\n",
            "20006    470\n",
            "20007    482\n",
            "20008    473\n",
            "20009    424\n",
            "20010    423\n",
            "Name: series_id, dtype: int64\n",
            "\n",
            "Clientes históricos por producto:\n",
            " product_id\n",
            "20001    444\n",
            "20002    445\n",
            "20003    402\n",
            "20004    415\n",
            "20005    378\n",
            "20006    470\n",
            "20007    482\n",
            "20008    473\n",
            "20009    424\n",
            "20010    423\n",
            "Name: customer_id, dtype: int64\n",
            "\n",
            "Coverage (% clientes predichos / históricos):\n",
            "             clientes_predichos  clientes_historicos  coverage_%\n",
            "product_id                                                     \n",
            "20001                      444                  444       100.0\n",
            "20002                      445                  445       100.0\n",
            "20003                      402                  402       100.0\n",
            "20004                      415                  415       100.0\n",
            "20005                      378                  378       100.0\n",
            "20006                      470                  470       100.0\n",
            "20007                      482                  482       100.0\n",
            "20008                      473                  473       100.0\n",
            "20009                      424                  424       100.0\n",
            "20010                      423                  423       100.0\n",
            "\n",
            "Coverage summary:\n",
            " count    780.0\n",
            "mean     100.0\n",
            "std        0.0\n",
            "min      100.0\n",
            "25%      100.0\n",
            "50%      100.0\n",
            "75%      100.0\n",
            "max      100.0\n",
            "Name: coverage_%, dtype: float64\n",
            "\n",
            "Cantidad de NaN en predicciones: 0 de 262805 filas\n",
            "\n",
            "Total predicho (sumado en todos los productos): 24,050.18\n",
            "Total histórico para el mes 2019-02-01: 27,199.66\n",
            "\n",
            "== FIN DE AUDITORÍA ==\n"
          ]
        }
      ],
      "source": [
        "# ---------- AUDITORÍA DE COVERAGE EN PREDICCIÓN ----------\n",
        "\n",
        "print(\"== Coverage y chequeo de granularidad en predicciones ==\")\n",
        "\n",
        "# 1. ¿Cuántos clientes únicos hay en la predicción de febrero 2020 para cada producto?\n",
        "clientes_predichos = preds_feb_largo.groupby(\"product_id\")[\"series_id\"].nunique()\n",
        "print(\"\\nClientes únicos predichos (feb 2020) por producto:\\n\", clientes_predichos.head(10))\n",
        "\n",
        "# 2. ¿Cuántos clientes únicos hubo históricamente para cada producto?\n",
        "clientes_historicos = df_tft_largo.groupby(\"product_id\")[\"customer_id\"].nunique()\n",
        "print(\"\\nClientes históricos por producto:\\n\", clientes_historicos.head(10))\n",
        "\n",
        "# 3. Merge para ver si falta coverage en la predicción\n",
        "coverage = pd.DataFrame({\n",
        "    \"clientes_predichos\": clientes_predichos,\n",
        "    \"clientes_historicos\": clientes_historicos\n",
        "}).fillna(0).astype(int)\n",
        "coverage[\"coverage_%\"] = 100 * coverage[\"clientes_predichos\"] / coverage[\"clientes_historicos\"].replace(0, 1)\n",
        "print(\"\\nCoverage (% clientes predichos / históricos):\\n\", coverage.head(10))\n",
        "print(\"\\nCoverage summary:\\n\", coverage[\"coverage_%\"].describe())\n",
        "\n",
        "# 4. ¿Hay muchos NaN en las predicciones?\n",
        "n_nan = preds_feb_largo[\"tn_feb2020\"].isnull().sum()\n",
        "print(f\"\\nCantidad de NaN en predicciones: {n_nan} de {len(preds_feb_largo)} filas\")\n",
        "\n",
        "# 5. ¿Cómo se ve la suma agregada por producto vs histórico?\n",
        "total_predicho = resultado_tft_largo[\"pred_tft_largo\"].sum()\n",
        "print(f\"\\nTotal predicho (sumado en todos los productos): {total_predicho:,.2f}\")\n",
        "\n",
        "# (Opcional) ¿Cómo era el histórico del último año real disponible?\n",
        "if \"timestamp\" in df_tft_largo.columns:\n",
        "    # Busca el mes real más cercano a febrero\n",
        "    meses_disponibles = df_tft_largo[\"timestamp\"].sort_values().unique()\n",
        "    if \"2019-02-01\" in meses_disponibles:\n",
        "        mes_compara = \"2019-02-01\"\n",
        "    elif \"2019-12-01\" in meses_disponibles:\n",
        "        mes_compara = \"2019-12-01\"\n",
        "    else:\n",
        "        mes_compara = meses_disponibles[-1]  # último mes disponible\n",
        "    \n",
        "    total_real = df_tft_largo[df_tft_largo[\"timestamp\"] == mes_compara].groupby(\"product_id\")[\"tn\"].sum().sum()\n",
        "    print(f\"Total histórico para el mes {mes_compara}: {total_real:,.2f}\")\n",
        "else:\n",
        "    print(\"No se encontró la columna timestamp para comparar histórico.\")\n",
        "\n",
        "# 6. Muestra algunos casos donde coverage es bajo\n",
        "coverage_bajo = coverage[coverage[\"coverage_%\"] < 80]\n",
        "if not coverage_bajo.empty:\n",
        "    print(\"\\nProductos con coverage bajo (<80%):\")\n",
        "    print(coverage_bajo.head(10))\n",
        "\n",
        "print(\"\\n== FIN DE AUDITORÍA ==\")"
      ]
    },
    {
      "cell_type": "markdown",
      "metadata": {},
      "source": [
        "### No hay faltantes, la misma cantidad de predicciones (clientes) por producto pero la diferencia es muy grande solo mirando los primeros clientes (68tn para el primer cliente es muy bajo)\n",
        "### Una serie tan grande donde se hizo el producto cartesiano para rellenar hace que las predicciones del modelo sean muy bajas, habría que considerar hacer un modelo solo con top n de clientes"
      ]
    },
    {
      "cell_type": "code",
      "execution_count": 111,
      "metadata": {},
      "outputs": [
        {
          "name": "stdout",
          "output_type": "stream",
          "text": [
            "   product_id  pred_tft_largo_09\n",
            "0       20001          69.889557\n",
            "1       20002           9.226202\n",
            "2       20003         508.837769\n",
            "3       20004          23.788918\n",
            "4       20005          21.414722\n"
          ]
        }
      ],
      "source": [
        "# pruebo mirando otro quantil\n",
        "preds_feb_largo_09 = []\n",
        "for i, fcst in enumerate(pred_model_largo):\n",
        "    try:\n",
        "        fcst_med = fcst.quantile_timeseries(0.9)\n",
        "    except AttributeError:\n",
        "        fcst_med = fcst\n",
        "\n",
        "    if \"2020-02-01\" in fcst_med.time_index:\n",
        "        idx_feb = fcst_med.time_index.get_loc(\"2020-02-01\")\n",
        "    elif len(fcst_med) > 1:\n",
        "        idx_feb = -1\n",
        "    else:\n",
        "        idx_feb = 0\n",
        "\n",
        "    valor_feb_largo = fcst_med.values()[idx_feb, 0]\n",
        "    series_id = series_ids[i]\n",
        "    product_id = series_to_product.get(series_id, None)\n",
        "    preds_feb_largo_09.append({\n",
        "        \"series_id\": series_id,\n",
        "        \"product_id\": product_id,\n",
        "        \"tn_feb2020\": valor_feb_largo\n",
        "    })\n",
        "\n",
        "preds_feb_largo_09 = pd.DataFrame(preds_feb_largo_09)\n",
        "preds_feb_largo_09[\"tn_feb2020_clipped\"] = preds_feb_largo_09[\"tn_feb2020\"].clip(lower=0)\n",
        "resultado_tft_largo_09 = (\n",
        "    preds_feb_largo_09\n",
        "      .groupby(\"product_id\", as_index=False)[\"tn_feb2020_clipped\"]\n",
        "      .sum()\n",
        "      .rename(columns={\"tn_feb2020_clipped\": \"pred_tft_largo_09\"})\n",
        ")\n",
        "print(resultado_tft_largo_09.head())"
      ]
    },
    {
      "cell_type": "markdown",
      "metadata": {},
      "source": [
        "#### No hay mayor diferencia"
      ]
    },
    {
      "cell_type": "code",
      "execution_count": 110,
      "metadata": {},
      "outputs": [
        {
          "name": "stdout",
          "output_type": "stream",
          "text": [
            "         series_id  tn_feb2020  product_id  tn_feb2020_clipped\n",
            "31181  10351_20001   10.567575       20001           10.567575\n",
            "31236  10570_20001    8.841102       20001            8.841102\n",
            "31187  10018_20001    4.366196       20001            4.366196\n",
            "31222  10062_20001    3.673208       20001            3.673208\n",
            "31212  10137_20001    3.635326       20001            3.635326\n",
            "31214  10050_20001    3.570915       20001            3.570915\n",
            "31204  10272_20001    3.166698       20001            3.166698\n",
            "31184  10144_20001    2.765589       20001            2.765589\n",
            "31198  10225_20001    2.759619       20001            2.759619\n",
            "31197  10082_20001    1.875728       20001            1.875728\n"
          ]
        }
      ],
      "source": [
        "# Sumar predicción por cliente para un producto clave\n",
        "prod_key = 20001\n",
        "print(preds_feb_largo[preds_feb_largo[\"product_id\"] == prod_key].sort_values(\"tn_feb2020\", ascending=False).head(10))"
      ]
    },
    {
      "cell_type": "code",
      "execution_count": 105,
      "metadata": {},
      "outputs": [
        {
          "name": "stdout",
          "output_type": "stream",
          "text": [
            "         customer_id          tn\n",
            "1118329        10001  309.906097\n",
            "1121893        10004  155.261108\n",
            "1123981        10013  124.948219\n",
            "1118617        10007  108.066658\n",
            "1124629        10003   81.215218\n",
            "1122109        10015   80.587914\n",
            "1122757        10018   37.202171\n",
            "1118833        10008   31.421890\n",
            "2541013        10034   25.764830\n",
            "2542921        10022   22.180161\n"
          ]
        }
      ],
      "source": [
        "mes_compara = \"2019-02-01\"\n",
        "df_2019 = df_tft_largo[(df_tft_largo[\"timestamp\"] == mes_compara) & (df_tft_largo[\"product_id\"] == prod_key)]\n",
        "print(df_2019[[\"customer_id\", \"tn\"]].sort_values(\"tn\", ascending=False).head(10))"
      ]
    },
    {
      "cell_type": "code",
      "execution_count": null,
      "metadata": {},
      "outputs": [],
      "source": [
        "cliente_key = 10001  # uno de los más grandes\n",
        "print(df_tft_largo[(df_tft_largo[\"product_id\"] == prod_key) & (df_tft_largo[\"customer_id\"] == cliente_key)].sort_values(\"timestamp\")[[\"timestamp\", \"tn\"]])"
      ]
    },
    {
      "cell_type": "markdown",
      "metadata": {},
      "source": [
        "### TFT Agg"
      ]
    },
    {
      "cell_type": "code",
      "execution_count": 160,
      "metadata": {},
      "outputs": [],
      "source": [
        "df_tft_agg[\"series_id\"] = df_tft_agg[\"product_id\"].astype(str)"
      ]
    },
    {
      "cell_type": "code",
      "execution_count": 162,
      "metadata": {},
      "outputs": [
        {
          "name": "stdout",
          "output_type": "stream",
          "text": [
            "📊 780 series agrupadas\n",
            "🚀 Procesando grupos...\n"
          ]
        },
        {
          "name": "stderr",
          "output_type": "stream",
          "text": [
            "Creando TimeSeries: 100%|██████████| 780/780 [00:01<00:00, 516.82it/s]"
          ]
        },
        {
          "name": "stdout",
          "output_type": "stream",
          "text": [
            "✅ 780 series creadas\n"
          ]
        },
        {
          "name": "stderr",
          "output_type": "stream",
          "text": [
            "\n"
          ]
        }
      ],
      "source": [
        "grouped = df_tft_agg.groupby(\"series_id\")\n",
        "print(f\"📊 {len(grouped)} series agrupadas\")\n",
        "\n",
        "series_list, covariates_list = [], []\n",
        "print(\"🚀 Procesando grupos...\")\n",
        "for series_id, group in tqdm(grouped, desc=\"Creando TimeSeries\"):\n",
        "    ts = TimeSeries.from_dataframe(\n",
        "        group,\n",
        "        time_col='timestamp',\n",
        "        value_cols='tn',\n",
        "        freq='MS'\n",
        "    )\n",
        "\n",
        "    series_list.append(ts)\n",
        "\n",
        "print(f\"✅ {len(series_list)} series creadas\")"
      ]
    },
    {
      "cell_type": "code",
      "execution_count": null,
      "metadata": {},
      "outputs": [
        {
          "name": "stdout",
          "output_type": "stream",
          "text": [
            "📊 780 grupos creados\n",
            "🚀 Procesando grupos...\n"
          ]
        },
        {
          "name": "stderr",
          "output_type": "stream",
          "text": [
            "Creando TimeSeries: 100%|██████████| 780/780 [00:03<00:00, 251.19it/s]\n"
          ]
        }
      ],
      "source": [
        "print(\"series dtype:\", series_list_agg[0].dtype)"
      ]
    },
    {
      "cell_type": "code",
      "execution_count": 163,
      "metadata": {},
      "outputs": [],
      "source": [
        "def create_tft_model_nofuture(\n",
        "    input_chunk_length: int,\n",
        "    output_chunk_length: int,\n",
        "    max_epochs: int = 200,\n",
        "    batch_size: int = 256,\n",
        "    hidden_size: int = 512,\n",
        "    lstm_layers: int = 3,\n",
        "    num_attention_heads: int = 4,\n",
        "    dropout: float = 0.1,\n",
        "    quantiles = [0.1, 0.5, 0.9],\n",
        "    lr: float = 1e-4,\n",
        "    random_state: int = 42,\n",
        "):\n",
        "    return TFTModel(\n",
        "        input_chunk_length           = input_chunk_length,\n",
        "        output_chunk_length          = output_chunk_length,\n",
        "        hidden_size                  = hidden_size,\n",
        "        lstm_layers                  = lstm_layers,\n",
        "        num_attention_heads          = num_attention_heads,\n",
        "        dropout                      = dropout,\n",
        "        batch_size                   = batch_size,\n",
        "        n_epochs                     = max_epochs,\n",
        "        likelihood                   = QuantileRegression(quantiles),\n",
        "        use_reversible_instance_norm = True,        # escalado interno del target\n",
        "        optimizer_kwargs             = {\"lr\": lr},\n",
        "        random_state                 = random_state,\n",
        "        add_encoders                 = {\n",
        "            # estacionalidad sola; Darts generará past y future con month\n",
        "            \"cyclic\": {\"past\": [\"month\"], \"future\": [\"month\"]},\n",
        "        },\n",
        "        pl_trainer_kwargs            = dict(\n",
        "            accelerator=\"gpu\",\n",
        "            devices=1,\n",
        "            enable_progress_bar=True,\n",
        "        ),\n",
        "        save_checkpoints             = True,\n",
        "        force_reset                  = True,\n",
        "    )"
      ]
    },
    {
      "cell_type": "code",
      "execution_count": 164,
      "metadata": {
        "id": "dppQ29viTEZw"
      },
      "outputs": [],
      "source": [
        "tft_agg['model'] = create_tft_model_nofuture(\n",
        "    input_chunk_length  = 34,\n",
        "    output_chunk_length = 2,\n",
        "    max_epochs          = 250,\n",
        "    batch_size          = 256,\n",
        ")"
      ]
    },
    {
      "cell_type": "code",
      "execution_count": 165,
      "metadata": {},
      "outputs": [
        {
          "name": "stderr",
          "output_type": "stream",
          "text": [
            "GPU available: True (cuda), used: True\n",
            "TPU available: False, using: 0 TPU cores\n",
            "HPU available: False, using: 0 HPUs\n",
            "LOCAL_RANK: 0 - CUDA_VISIBLE_DEVICES: [0]\n",
            "\n",
            "   | Name                              | Type                             | Params | Mode \n",
            "------------------------------------------------------------------------------------------------\n",
            "0  | train_metrics                     | MetricCollection                 | 0      | train\n",
            "1  | val_metrics                       | MetricCollection                 | 0      | train\n",
            "2  | rin                               | RINorm                           | 2      | train\n",
            "3  | input_embeddings                  | _MultiEmbedding                  | 0      | train\n",
            "4  | static_covariates_vsn             | _VariableSelectionNetwork        | 0      | train\n",
            "5  | encoder_vsn                       | _VariableSelectionNetwork        | 62.6 K | train\n",
            "6  | decoder_vsn                       | _VariableSelectionNetwork        | 25.0 K | train\n",
            "7  | static_context_grn                | _GatedResidualNetwork            | 1.1 M  | train\n",
            "8  | static_context_hidden_encoder_grn | _GatedResidualNetwork            | 1.1 M  | train\n",
            "9  | static_context_cell_encoder_grn   | _GatedResidualNetwork            | 1.1 M  | train\n",
            "10 | static_context_enrichment         | _GatedResidualNetwork            | 1.1 M  | train\n",
            "11 | lstm_encoder                      | LSTM                             | 6.3 M  | train\n",
            "12 | lstm_decoder                      | LSTM                             | 6.3 M  | train\n",
            "13 | post_lstm_gan                     | _GateAddNorm                     | 526 K  | train\n",
            "14 | static_enrichment_grn             | _GatedResidualNetwork            | 1.3 M  | train\n",
            "15 | multihead_attn                    | _InterpretableMultiHeadAttention | 656 K  | train\n",
            "16 | post_attn_gan                     | _GateAddNorm                     | 526 K  | train\n",
            "17 | feed_forward_block                | _GatedResidualNetwork            | 1.1 M  | train\n",
            "18 | pre_output_gan                    | _GateAddNorm                     | 526 K  | train\n",
            "19 | output_layer                      | Linear                           | 1.5 K  | train\n",
            "------------------------------------------------------------------------------------------------\n",
            "21.5 M    Trainable params\n",
            "0         Non-trainable params\n",
            "21.5 M    Total params\n",
            "86.016    Total estimated model params size (MB)\n",
            "247       Modules in train mode\n",
            "0         Modules in eval mode\n"
          ]
        },
        {
          "data": {
            "application/vnd.jupyter.widget-view+json": {
              "model_id": "69af31610c0b4bc2a29cd3316ef2fe77",
              "version_major": 2,
              "version_minor": 0
            },
            "text/plain": [
              "Training: |          | 0/? [00:00<?, ?it/s]"
            ]
          },
          "metadata": {},
          "output_type": "display_data"
        },
        {
          "name": "stderr",
          "output_type": "stream",
          "text": [
            "c:\\Users\\opera\\AppData\\Local\\Programs\\Python\\Python313\\Lib\\site-packages\\pytorch_lightning\\callbacks\\model_checkpoint.py:384: `ModelCheckpoint(monitor='val_loss')` could not find the monitored key in the returned metrics: ['train_loss', 'epoch', 'step']. HINT: Did you call `log('val_loss', value)` in the `LightningModule`?\n",
            "`Trainer.fit` stopped: `max_epochs=250` reached.\n"
          ]
        },
        {
          "data": {
            "text/plain": [
              "TFTModel(output_chunk_shift=0, hidden_size=512, lstm_layers=3, num_attention_heads=4, full_attention=False, feed_forward=GatedResidualNetwork, dropout=0.1, hidden_continuous_size=8, categorical_embedding_sizes=None, add_relative_index=False, loss_fn=None, likelihood=QuantileRegression(quantiles=[0.1, 0.5, 0.9], prior_strength=1.0), norm_type=LayerNorm, use_static_covariates=True, input_chunk_length=34, output_chunk_length=2, batch_size=256, n_epochs=250, use_reversible_instance_norm=True, optimizer_kwargs={'lr': 0.0001}, random_state=42, add_encoders={'cyclic': {'past': ['month'], 'future': ['month']}}, pl_trainer_kwargs={'accelerator': 'gpu', 'devices': 1, 'enable_progress_bar': True}, save_checkpoints=True, force_reset=True)"
            ]
          },
          "execution_count": 165,
          "metadata": {},
          "output_type": "execute_result"
        }
      ],
      "source": [
        "#entrenamos sin variables macro\n",
        "\n",
        "tft_agg['model'].fit(\n",
        "    series  = series_list,\n",
        "    verbose = True\n",
        ")"
      ]
    },
    {
      "cell_type": "code",
      "execution_count": 167,
      "metadata": {},
      "outputs": [
        {
          "name": "stderr",
          "output_type": "stream",
          "text": [
            "GPU available: True (cuda), used: True\n",
            "TPU available: False, using: 0 TPU cores\n",
            "HPU available: False, using: 0 HPUs\n",
            "LOCAL_RANK: 0 - CUDA_VISIBLE_DEVICES: [0]\n"
          ]
        },
        {
          "data": {
            "application/vnd.jupyter.widget-view+json": {
              "model_id": "de54dff43a0f41aba6f861d39fb73d13",
              "version_major": 2,
              "version_minor": 0
            },
            "text/plain": [
              "Predicting: |          | 0/? [00:00<?, ?it/s]"
            ]
          },
          "metadata": {},
          "output_type": "display_data"
        }
      ],
      "source": [
        "predictions_agg = tft_agg['model'].predict(\n",
        "    n       = 2,\n",
        "    series  = series_list\n",
        ")"
      ]
    },
    {
      "cell_type": "code",
      "execution_count": 168,
      "metadata": {},
      "outputs": [],
      "source": [
        "preds_med_agg = []\n",
        "for fcst in predictions_agg:\n",
        "    try:\n",
        "        fcst_agg = fcst.quantile_timeseries(0.5)\n",
        "    except AttributeError:\n",
        "        fcst_agg = fcst\n",
        "    preds_med_agg.append(fcst_agg)\n",
        "\n",
        "# mapping series->product\n",
        "series_ids = (\n",
        "    df_tft_agg.drop_duplicates(\"series_id\")[\"series_id\"].tolist()\n",
        ")"
      ]
    },
    {
      "cell_type": "code",
      "execution_count": 169,
      "metadata": {},
      "outputs": [
        {
          "name": "stdout",
          "output_type": "stream",
          "text": [
            "  product_id  pred_jan2020  pred_feb2020  last_obs_tminus1  last_obs_tminus0\n",
            "0      20001   1580.775757   1328.167847       1397.372314       1504.688599\n",
            "1      20002    868.006592    849.866272       1423.577393       1087.308594\n",
            "2      20003    661.217590    660.033691        948.293945        892.501282\n",
            "3      20004    561.623230    497.657654        723.942078        637.900024\n",
            "4      20005    514.831543    425.417480        606.911743        593.244446\n"
          ]
        }
      ],
      "source": [
        "rows = []\n",
        "for sid, fcst_agg, ts in zip(series_ids, preds_med_agg, series_list):\n",
        "    vals = fcst_agg.values().flatten()\n",
        "    # Por sanity, los últimos 2 observados reales\n",
        "    y_last = ts[-2:].values().flatten()\n",
        "    \n",
        "    # Clip a 0 por si la predicción es negativa\n",
        "    pred_jan = max(vals[0], 0) if len(vals) > 0 else np.nan\n",
        "    pred_feb = max(vals[1], 0) if len(vals) > 1 else np.nan\n",
        "\n",
        "    rows.append({\n",
        "        \"product_id\": sid,                   # sid es el product_id directo\n",
        "        \"pred_jan2020\": pred_jan,\n",
        "        \"pred_feb2020\": pred_feb,\n",
        "        \"last_obs_tminus1\": y_last[0] if len(y_last) > 0 else np.nan,\n",
        "        \"last_obs_tminus0\": y_last[1] if len(y_last) > 1 else np.nan,\n",
        "    })\n",
        "\n",
        "df_pred_agg = pd.DataFrame(rows)\n",
        "print(df_pred_agg.head())"
      ]
    },
    {
      "cell_type": "code",
      "execution_count": 196,
      "metadata": {},
      "outputs": [
        {
          "data": {
            "text/html": [
              "<div>\n",
              "<style scoped>\n",
              "    .dataframe tbody tr th:only-of-type {\n",
              "        vertical-align: middle;\n",
              "    }\n",
              "\n",
              "    .dataframe tbody tr th {\n",
              "        vertical-align: top;\n",
              "    }\n",
              "\n",
              "    .dataframe thead th {\n",
              "        text-align: right;\n",
              "    }\n",
              "</style>\n",
              "<table border=\"1\" class=\"dataframe\">\n",
              "  <thead>\n",
              "    <tr style=\"text-align: right;\">\n",
              "      <th></th>\n",
              "      <th>product_id</th>\n",
              "      <th>pred_tft_agg</th>\n",
              "    </tr>\n",
              "  </thead>\n",
              "  <tbody>\n",
              "    <tr>\n",
              "      <th>0</th>\n",
              "      <td>20001</td>\n",
              "      <td>1328.167847</td>\n",
              "    </tr>\n",
              "    <tr>\n",
              "      <th>1</th>\n",
              "      <td>20002</td>\n",
              "      <td>849.866272</td>\n",
              "    </tr>\n",
              "    <tr>\n",
              "      <th>2</th>\n",
              "      <td>20003</td>\n",
              "      <td>660.033691</td>\n",
              "    </tr>\n",
              "    <tr>\n",
              "      <th>3</th>\n",
              "      <td>20004</td>\n",
              "      <td>497.657654</td>\n",
              "    </tr>\n",
              "    <tr>\n",
              "      <th>4</th>\n",
              "      <td>20005</td>\n",
              "      <td>425.417480</td>\n",
              "    </tr>\n",
              "  </tbody>\n",
              "</table>\n",
              "</div>"
            ],
            "text/plain": [
              "   product_id  pred_tft_agg\n",
              "0       20001   1328.167847\n",
              "1       20002    849.866272\n",
              "2       20003    660.033691\n",
              "3       20004    497.657654\n",
              "4       20005    425.417480"
            ]
          },
          "execution_count": 196,
          "metadata": {},
          "output_type": "execute_result"
        }
      ],
      "source": [
        "pred_agg = df_pred_agg[[\"product_id\", \"pred_feb2020\"]].copy()\n",
        "pred_agg = pred_agg.rename(columns={\"pred_feb2020\": \"pred_tft_agg\"})\n",
        "\n",
        "pred_agg.head()"
      ]
    },
    {
      "cell_type": "markdown",
      "metadata": {},
      "source": [
        "### Resultados finales"
      ]
    },
    {
      "cell_type": "code",
      "execution_count": 270,
      "metadata": {},
      "outputs": [
        {
          "data": {
            "text/html": [
              "<div>\n",
              "<style scoped>\n",
              "    .dataframe tbody tr th:only-of-type {\n",
              "        vertical-align: middle;\n",
              "    }\n",
              "\n",
              "    .dataframe tbody tr th {\n",
              "        vertical-align: top;\n",
              "    }\n",
              "\n",
              "    .dataframe thead th {\n",
              "        text-align: right;\n",
              "    }\n",
              "</style>\n",
              "<table border=\"1\" class=\"dataframe\">\n",
              "  <thead>\n",
              "    <tr style=\"text-align: right;\">\n",
              "      <th></th>\n",
              "      <th>product_id</th>\n",
              "      <th>reg_lin</th>\n",
              "    </tr>\n",
              "  </thead>\n",
              "  <tbody>\n",
              "    <tr>\n",
              "      <th>0</th>\n",
              "      <td>20001</td>\n",
              "      <td>1162.705930</td>\n",
              "    </tr>\n",
              "    <tr>\n",
              "      <th>1</th>\n",
              "      <td>20002</td>\n",
              "      <td>1183.639540</td>\n",
              "    </tr>\n",
              "    <tr>\n",
              "      <th>2</th>\n",
              "      <td>20003</td>\n",
              "      <td>684.763159</td>\n",
              "    </tr>\n",
              "    <tr>\n",
              "      <th>3</th>\n",
              "      <td>20004</td>\n",
              "      <td>580.484232</td>\n",
              "    </tr>\n",
              "    <tr>\n",
              "      <th>4</th>\n",
              "      <td>20005</td>\n",
              "      <td>563.559924</td>\n",
              "    </tr>\n",
              "  </tbody>\n",
              "</table>\n",
              "</div>"
            ],
            "text/plain": [
              "   product_id      reg_lin\n",
              "0       20001  1162.705930\n",
              "1       20002  1183.639540\n",
              "2       20003   684.763159\n",
              "3       20004   580.484232\n",
              "4       20005   563.559924"
            ]
          },
          "execution_count": 270,
          "metadata": {},
          "output_type": "execute_result"
        }
      ],
      "source": [
        "comparativa = baseline.rename(columns={\"tn\": \"reg_lin\"}).copy()\n",
        "comparativa.head()"
      ]
    },
    {
      "cell_type": "code",
      "execution_count": 271,
      "metadata": {},
      "outputs": [],
      "source": [
        "comparativa = comparativa.merge(resultado_tft_largo, on=\"product_id\", how=\"left\") \n",
        "comparativa = comparativa.merge(resultado_tft_corto, on=\"product_id\", how=\"left\") \n",
        "comparativa = comparativa.merge(pred_agg, on=\"product_id\", how=\"left\") "
      ]
    },
    {
      "cell_type": "code",
      "execution_count": 272,
      "metadata": {},
      "outputs": [],
      "source": [
        "comparativa = comparativa.rename(columns={\n",
        "    \"pred_tft_largo\": \"tft_largo\",\n",
        "    \"pred_tft_corto\": \"tft_corto\",\n",
        "    \"pred_tft_agg\":   \"tft_agg\"\n",
        "})"
      ]
    },
    {
      "cell_type": "code",
      "execution_count": 273,
      "metadata": {},
      "outputs": [
        {
          "data": {
            "text/html": [
              "<div>\n",
              "<style scoped>\n",
              "    .dataframe tbody tr th:only-of-type {\n",
              "        vertical-align: middle;\n",
              "    }\n",
              "\n",
              "    .dataframe tbody tr th {\n",
              "        vertical-align: top;\n",
              "    }\n",
              "\n",
              "    .dataframe thead th {\n",
              "        text-align: right;\n",
              "    }\n",
              "</style>\n",
              "<table border=\"1\" class=\"dataframe\">\n",
              "  <thead>\n",
              "    <tr style=\"text-align: right;\">\n",
              "      <th></th>\n",
              "      <th>product_id</th>\n",
              "      <th>reg_lin</th>\n",
              "      <th>tft_largo</th>\n",
              "      <th>tft_corto</th>\n",
              "      <th>tft_agg</th>\n",
              "    </tr>\n",
              "  </thead>\n",
              "  <tbody>\n",
              "    <tr>\n",
              "      <th>0</th>\n",
              "      <td>20001</td>\n",
              "      <td>1162.705930</td>\n",
              "      <td>69.889557</td>\n",
              "      <td>27.722528</td>\n",
              "      <td>1328.167847</td>\n",
              "    </tr>\n",
              "    <tr>\n",
              "      <th>1</th>\n",
              "      <td>20002</td>\n",
              "      <td>1183.639540</td>\n",
              "      <td>9.226202</td>\n",
              "      <td>58.231617</td>\n",
              "      <td>849.866272</td>\n",
              "    </tr>\n",
              "    <tr>\n",
              "      <th>2</th>\n",
              "      <td>20003</td>\n",
              "      <td>684.763159</td>\n",
              "      <td>508.837769</td>\n",
              "      <td>10.315485</td>\n",
              "      <td>660.033691</td>\n",
              "    </tr>\n",
              "    <tr>\n",
              "      <th>3</th>\n",
              "      <td>20004</td>\n",
              "      <td>580.484232</td>\n",
              "      <td>23.788918</td>\n",
              "      <td>9.664122</td>\n",
              "      <td>497.657654</td>\n",
              "    </tr>\n",
              "    <tr>\n",
              "      <th>4</th>\n",
              "      <td>20005</td>\n",
              "      <td>563.559924</td>\n",
              "      <td>21.414722</td>\n",
              "      <td>19.407740</td>\n",
              "      <td>425.417480</td>\n",
              "    </tr>\n",
              "  </tbody>\n",
              "</table>\n",
              "</div>"
            ],
            "text/plain": [
              "   product_id      reg_lin   tft_largo  tft_corto      tft_agg\n",
              "0       20001  1162.705930   69.889557  27.722528  1328.167847\n",
              "1       20002  1183.639540    9.226202  58.231617   849.866272\n",
              "2       20003   684.763159  508.837769  10.315485   660.033691\n",
              "3       20004   580.484232   23.788918   9.664122   497.657654\n",
              "4       20005   563.559924   21.414722  19.407740   425.417480"
            ]
          },
          "execution_count": 273,
          "metadata": {},
          "output_type": "execute_result"
        }
      ],
      "source": [
        "comparativa.head()"
      ]
    },
    {
      "cell_type": "code",
      "execution_count": 274,
      "metadata": {},
      "outputs": [],
      "source": [
        "# segmento el product_id por volumen\n",
        "\n",
        "# volumen total por producto ---\n",
        "vol_por_producto = df_tft_agg.groupby(\"product_id\")[\"tn\"].sum().reset_index(name=\"vol_total\")\n",
        "\n",
        "# cuantiles para separar\n",
        "vol_por_producto[\"q_volumen\"] = pd.qcut(vol_por_producto[\"vol_total\"], q=4, labels=[4, 3, 2, 1])\n",
        "\n",
        "#  Merge con tu comparativa ---\n",
        "comparativa = comparativa.merge(vol_por_producto[[\"product_id\", \"q_volumen\"]], on=\"product_id\", how=\"left\")"
      ]
    },
    {
      "cell_type": "code",
      "execution_count": 275,
      "metadata": {},
      "outputs": [
        {
          "data": {
            "text/html": [
              "<div>\n",
              "<style scoped>\n",
              "    .dataframe tbody tr th:only-of-type {\n",
              "        vertical-align: middle;\n",
              "    }\n",
              "\n",
              "    .dataframe tbody tr th {\n",
              "        vertical-align: top;\n",
              "    }\n",
              "\n",
              "    .dataframe thead th {\n",
              "        text-align: right;\n",
              "    }\n",
              "</style>\n",
              "<table border=\"1\" class=\"dataframe\">\n",
              "  <thead>\n",
              "    <tr style=\"text-align: right;\">\n",
              "      <th></th>\n",
              "      <th>product_id</th>\n",
              "      <th>reg_lin</th>\n",
              "      <th>tft_largo</th>\n",
              "      <th>tft_corto</th>\n",
              "      <th>tft_agg</th>\n",
              "      <th>q_volumen</th>\n",
              "    </tr>\n",
              "  </thead>\n",
              "  <tbody>\n",
              "    <tr>\n",
              "      <th>0</th>\n",
              "      <td>20001</td>\n",
              "      <td>1162.705930</td>\n",
              "      <td>69.889557</td>\n",
              "      <td>27.722528</td>\n",
              "      <td>1328.167847</td>\n",
              "      <td>1</td>\n",
              "    </tr>\n",
              "    <tr>\n",
              "      <th>1</th>\n",
              "      <td>20002</td>\n",
              "      <td>1183.639540</td>\n",
              "      <td>9.226202</td>\n",
              "      <td>58.231617</td>\n",
              "      <td>849.866272</td>\n",
              "      <td>1</td>\n",
              "    </tr>\n",
              "    <tr>\n",
              "      <th>2</th>\n",
              "      <td>20003</td>\n",
              "      <td>684.763159</td>\n",
              "      <td>508.837769</td>\n",
              "      <td>10.315485</td>\n",
              "      <td>660.033691</td>\n",
              "      <td>1</td>\n",
              "    </tr>\n",
              "    <tr>\n",
              "      <th>3</th>\n",
              "      <td>20004</td>\n",
              "      <td>580.484232</td>\n",
              "      <td>23.788918</td>\n",
              "      <td>9.664122</td>\n",
              "      <td>497.657654</td>\n",
              "      <td>1</td>\n",
              "    </tr>\n",
              "    <tr>\n",
              "      <th>4</th>\n",
              "      <td>20005</td>\n",
              "      <td>563.559924</td>\n",
              "      <td>21.414722</td>\n",
              "      <td>19.407740</td>\n",
              "      <td>425.417480</td>\n",
              "      <td>1</td>\n",
              "    </tr>\n",
              "  </tbody>\n",
              "</table>\n",
              "</div>"
            ],
            "text/plain": [
              "   product_id      reg_lin   tft_largo  tft_corto      tft_agg q_volumen\n",
              "0       20001  1162.705930   69.889557  27.722528  1328.167847         1\n",
              "1       20002  1183.639540    9.226202  58.231617   849.866272         1\n",
              "2       20003   684.763159  508.837769  10.315485   660.033691         1\n",
              "3       20004   580.484232   23.788918   9.664122   497.657654         1\n",
              "4       20005   563.559924   21.414722  19.407740   425.417480         1"
            ]
          },
          "execution_count": 275,
          "metadata": {},
          "output_type": "execute_result"
        }
      ],
      "source": [
        "comparativa.head()"
      ]
    },
    {
      "cell_type": "code",
      "execution_count": 276,
      "metadata": {},
      "outputs": [
        {
          "name": "stdout",
          "output_type": "stream",
          "text": [
            "\n",
            "=== Error absoluto promedio por cuantil de volumen ===\n",
            "           err_tft_largo  err_tft_corto  err_tft_agg\n",
            "q_volumen                                           \n",
            "4              11.301856      14.928827     0.732892\n",
            "3              25.334954      22.054953     2.137368\n",
            "2              41.825602      29.432640     5.624793\n",
            "1             109.321647      96.301473    25.127104\n",
            "\n",
            "=== Error relativo promedio por cuantil de volumen ===\n",
            "           relerr_tft_largo  relerr_tft_corto  relerr_tft_agg\n",
            "q_volumen                                                    \n",
            "4                  9.804962         14.514217        0.488385\n",
            "3                  7.754419          5.700748        0.365678\n",
            "2                  4.002938          2.398241        0.347807\n",
            "1                  1.076002          0.743463        0.251129\n",
            "\n",
            "=== Error absoluto TOTAL por cuantil de volumen ===\n",
            "           err_tft_largo  err_tft_corto  err_tft_agg\n",
            "q_volumen                                           \n",
            "4            2203.861927    2911.121349   142.913938\n",
            "3            4940.315977    4300.715815   416.786828\n",
            "2            8155.992299    5739.364760  1096.834727\n",
            "1           21317.721127   18778.787243  4899.785247\n"
          ]
        }
      ],
      "source": [
        "print(\"\\n=== Error absoluto promedio por cuantil de volumen ===\")\n",
        "print(\n",
        "    comparativa.assign(\n",
        "        err_tft_largo = (comparativa[\"tft_largo\"] - comparativa[\"reg_lin\"]).abs(),\n",
        "        err_tft_corto = (comparativa[\"tft_corto\"] - comparativa[\"reg_lin\"]).abs(),\n",
        "        err_tft_agg   = (comparativa[\"tft_agg\"]   - comparativa[\"reg_lin\"]).abs(),\n",
        "    ).groupby(\"q_volumen\", observed=True)[[\"err_tft_largo\", \"err_tft_corto\", \"err_tft_agg\"]].mean()\n",
        ")\n",
        "\n",
        "print(\"\\n=== Error relativo promedio por cuantil de volumen ===\")\n",
        "print(\n",
        "    comparativa.assign(\n",
        "        relerr_tft_largo = (comparativa[\"tft_largo\"] - comparativa[\"reg_lin\"]).abs() / (comparativa[\"reg_lin\"].abs() + 1e-8),\n",
        "        relerr_tft_corto = (comparativa[\"tft_corto\"] - comparativa[\"reg_lin\"]).abs() / (comparativa[\"reg_lin\"].abs() + 1e-8),\n",
        "        relerr_tft_agg   = (comparativa[\"tft_agg\"]   - comparativa[\"reg_lin\"]).abs() / (comparativa[\"reg_lin\"].abs() + 1e-8),\n",
        "    ).groupby(\"q_volumen\", observed=True)[[\"relerr_tft_largo\", \"relerr_tft_corto\", \"relerr_tft_agg\"]].mean()\n",
        ")\n",
        "\n",
        "print(\"\\n=== Error absoluto TOTAL por cuantil de volumen ===\")\n",
        "print(\n",
        "    comparativa.assign(\n",
        "        err_tft_largo = (comparativa[\"tft_largo\"] - comparativa[\"reg_lin\"]).abs(),\n",
        "        err_tft_corto = (comparativa[\"tft_corto\"] - comparativa[\"reg_lin\"]).abs(),\n",
        "        err_tft_agg   = (comparativa[\"tft_agg\"]   - comparativa[\"reg_lin\"]).abs(),\n",
        "    ).groupby(\"q_volumen\", observed=True)[[\"err_tft_largo\", \"err_tft_corto\", \"err_tft_agg\"]].sum()\n",
        ")"
      ]
    },
    {
      "cell_type": "markdown",
      "metadata": {},
      "source": [
        "### Si bien el error relativo es alto en los q4 (poco volumen), en la métrica final los de mayor impacto son los q1.\n",
        "### Si utilizamos la regresión como  baseline, el tft_agg es el de performance más similar"
      ]
    },
    {
      "cell_type": "code",
      "execution_count": 277,
      "metadata": {},
      "outputs": [
        {
          "data": {
            "text/html": [
              "<div>\n",
              "<style scoped>\n",
              "    .dataframe tbody tr th:only-of-type {\n",
              "        vertical-align: middle;\n",
              "    }\n",
              "\n",
              "    .dataframe tbody tr th {\n",
              "        vertical-align: top;\n",
              "    }\n",
              "\n",
              "    .dataframe thead th {\n",
              "        text-align: right;\n",
              "    }\n",
              "</style>\n",
              "<table border=\"1\" class=\"dataframe\">\n",
              "  <thead>\n",
              "    <tr style=\"text-align: right;\">\n",
              "      <th></th>\n",
              "      <th>product_id</th>\n",
              "      <th>proxy_feb2020</th>\n",
              "    </tr>\n",
              "  </thead>\n",
              "  <tbody>\n",
              "    <tr>\n",
              "      <th>0</th>\n",
              "      <td>20001</td>\n",
              "      <td>1074.649048</td>\n",
              "    </tr>\n",
              "    <tr>\n",
              "      <th>1</th>\n",
              "      <td>20002</td>\n",
              "      <td>1221.913574</td>\n",
              "    </tr>\n",
              "    <tr>\n",
              "      <th>2</th>\n",
              "      <td>20003</td>\n",
              "      <td>601.752380</td>\n",
              "    </tr>\n",
              "    <tr>\n",
              "      <th>3</th>\n",
              "      <td>20004</td>\n",
              "      <td>467.332245</td>\n",
              "    </tr>\n",
              "    <tr>\n",
              "      <th>4</th>\n",
              "      <td>20005</td>\n",
              "      <td>480.747131</td>\n",
              "    </tr>\n",
              "  </tbody>\n",
              "</table>\n",
              "</div>"
            ],
            "text/plain": [
              "   product_id  proxy_feb2020\n",
              "0       20001    1074.649048\n",
              "1       20002    1221.913574\n",
              "2       20003     601.752380\n",
              "3       20004     467.332245\n",
              "4       20005     480.747131"
            ]
          },
          "execution_count": 277,
          "metadata": {},
          "output_type": "execute_result"
        }
      ],
      "source": [
        "# intento crear un \"febrero 2020\" mirando años anteriores y comportamiento como ultimo trimestre\n",
        "\n",
        "df_febproxy = df_tft_agg.copy()\n",
        "\n",
        "df_febproxy[\"timestamp\"] = pd.to_datetime(df_febproxy[\"timestamp\"])\n",
        "\n",
        "# año y mes para facilitar filtros\n",
        "df_febproxy[\"year\"] = df_febproxy[\"timestamp\"].dt.year\n",
        "df_febproxy[\"month\"] = df_febproxy[\"timestamp\"].dt.month\n",
        "\n",
        "# Diccionario para guardar el ratio de cada producto y año\n",
        "ratios = []\n",
        "\n",
        "for year in [2018, 2019]:\n",
        "    # Octubre-diciembre del año anterior\n",
        "    oct_nov_dic = df_febproxy.query(\"year == @year-1 and month in [10, 11, 12]\") \\\n",
        "        .groupby(\"product_id\")[\"tn\"].mean().rename(\"mean_q4\")\n",
        "    # Febrero del año actual\n",
        "    feb = df_febproxy.query(\"year == @year and month == 2\") \\\n",
        "        .set_index(\"product_id\")[\"tn\"]\n",
        "    # ratio solo donde hay ambos valores\n",
        "    df_merge = pd.concat([oct_nov_dic, feb], axis=1, join=\"inner\").dropna()\n",
        "    df_merge[\"ratio\"] = df_merge[\"tn\"] / (df_merge[\"mean_q4\"] + 1e-8)\n",
        "    df_merge[\"year\"] = year\n",
        "    ratios.append(df_merge[[\"ratio\"]])\n",
        "\n",
        "# ratios históricos\n",
        "ratios_df = pd.concat(ratios, keys=[2018, 2019])\n",
        "ratios_df = ratios_df.reset_index().rename(columns={\"level_0\": \"year\"})\n",
        "\n",
        "# ratio promedio histórico por producto\n",
        "ratio_mean = ratios_df.groupby(\"product_id\")[\"ratio\"].mean().rename(\"ratio_mean\")\n",
        "\n",
        "# promedio de oct-nov-dic 2019 para cada producto\n",
        "oct_nov_dic_2019 = df_febproxy.query(\"year == 2019 and month in [10, 11, 12]\") \\\n",
        "    .groupby(\"product_id\")[\"tn\"].mean().rename(\"mean_q4_2019\")\n",
        "\n",
        "# proxy de febrero 2020\n",
        "proxy_feb2020 = (oct_nov_dic_2019 * ratio_mean).rename(\"proxy_feb2020\").reset_index()\n",
        "mediana = proxy_feb2020.loc[proxy_feb2020[\"proxy_feb2020\"] < 1e4, \"proxy_feb2020\"].median()\n",
        "\n",
        "proxy_feb2020.loc[proxy_feb2020[\"proxy_feb2020\"] > 1e4, \"proxy_feb2020\"] = mediana\n",
        "\n",
        "proxy_feb2020.head()"
      ]
    },
    {
      "cell_type": "code",
      "execution_count": 278,
      "metadata": {},
      "outputs": [
        {
          "data": {
            "text/html": [
              "<div>\n",
              "<style scoped>\n",
              "    .dataframe tbody tr th:only-of-type {\n",
              "        vertical-align: middle;\n",
              "    }\n",
              "\n",
              "    .dataframe tbody tr th {\n",
              "        vertical-align: top;\n",
              "    }\n",
              "\n",
              "    .dataframe thead th {\n",
              "        text-align: right;\n",
              "    }\n",
              "</style>\n",
              "<table border=\"1\" class=\"dataframe\">\n",
              "  <thead>\n",
              "    <tr style=\"text-align: right;\">\n",
              "      <th></th>\n",
              "      <th>product_id</th>\n",
              "      <th>reg_lin</th>\n",
              "      <th>tft_largo</th>\n",
              "      <th>tft_corto</th>\n",
              "      <th>tft_agg</th>\n",
              "      <th>q_volumen</th>\n",
              "      <th>proxy_feb2020</th>\n",
              "    </tr>\n",
              "  </thead>\n",
              "  <tbody>\n",
              "    <tr>\n",
              "      <th>0</th>\n",
              "      <td>20001</td>\n",
              "      <td>1162.705930</td>\n",
              "      <td>69.889557</td>\n",
              "      <td>27.722528</td>\n",
              "      <td>1328.167847</td>\n",
              "      <td>1</td>\n",
              "      <td>1074.649048</td>\n",
              "    </tr>\n",
              "    <tr>\n",
              "      <th>1</th>\n",
              "      <td>20002</td>\n",
              "      <td>1183.639540</td>\n",
              "      <td>9.226202</td>\n",
              "      <td>58.231617</td>\n",
              "      <td>849.866272</td>\n",
              "      <td>1</td>\n",
              "      <td>1221.913574</td>\n",
              "    </tr>\n",
              "    <tr>\n",
              "      <th>2</th>\n",
              "      <td>20003</td>\n",
              "      <td>684.763159</td>\n",
              "      <td>508.837769</td>\n",
              "      <td>10.315485</td>\n",
              "      <td>660.033691</td>\n",
              "      <td>1</td>\n",
              "      <td>601.752380</td>\n",
              "    </tr>\n",
              "    <tr>\n",
              "      <th>3</th>\n",
              "      <td>20004</td>\n",
              "      <td>580.484232</td>\n",
              "      <td>23.788918</td>\n",
              "      <td>9.664122</td>\n",
              "      <td>497.657654</td>\n",
              "      <td>1</td>\n",
              "      <td>467.332245</td>\n",
              "    </tr>\n",
              "    <tr>\n",
              "      <th>4</th>\n",
              "      <td>20005</td>\n",
              "      <td>563.559924</td>\n",
              "      <td>21.414722</td>\n",
              "      <td>19.407740</td>\n",
              "      <td>425.417480</td>\n",
              "      <td>1</td>\n",
              "      <td>480.747131</td>\n",
              "    </tr>\n",
              "  </tbody>\n",
              "</table>\n",
              "</div>"
            ],
            "text/plain": [
              "   product_id      reg_lin   tft_largo  tft_corto      tft_agg q_volumen  \\\n",
              "0       20001  1162.705930   69.889557  27.722528  1328.167847         1   \n",
              "1       20002  1183.639540    9.226202  58.231617   849.866272         1   \n",
              "2       20003   684.763159  508.837769  10.315485   660.033691         1   \n",
              "3       20004   580.484232   23.788918   9.664122   497.657654         1   \n",
              "4       20005   563.559924   21.414722  19.407740   425.417480         1   \n",
              "\n",
              "   proxy_feb2020  \n",
              "0    1074.649048  \n",
              "1    1221.913574  \n",
              "2     601.752380  \n",
              "3     467.332245  \n",
              "4     480.747131  "
            ]
          },
          "execution_count": 278,
          "metadata": {},
          "output_type": "execute_result"
        }
      ],
      "source": [
        "comparativa = comparativa.merge(proxy_feb2020, on=\"product_id\", how=\"left\")\n",
        "comparativa.head()"
      ]
    },
    {
      "cell_type": "code",
      "execution_count": 279,
      "metadata": {},
      "outputs": [
        {
          "data": {
            "text/html": [
              "<div>\n",
              "<style scoped>\n",
              "    .dataframe tbody tr th:only-of-type {\n",
              "        vertical-align: middle;\n",
              "    }\n",
              "\n",
              "    .dataframe tbody tr th {\n",
              "        vertical-align: top;\n",
              "    }\n",
              "\n",
              "    .dataframe thead th {\n",
              "        text-align: right;\n",
              "    }\n",
              "</style>\n",
              "<table border=\"1\" class=\"dataframe\">\n",
              "  <thead>\n",
              "    <tr style=\"text-align: right;\">\n",
              "      <th></th>\n",
              "      <th>product_id</th>\n",
              "      <th>delta_oct_dec</th>\n",
              "      <th>delta_mean_q4</th>\n",
              "    </tr>\n",
              "  </thead>\n",
              "  <tbody>\n",
              "    <tr>\n",
              "      <th>0</th>\n",
              "      <td>20001</td>\n",
              "      <td>-56.816895</td>\n",
              "      <td>-28.408447</td>\n",
              "    </tr>\n",
              "    <tr>\n",
              "      <th>1</th>\n",
              "      <td>20002</td>\n",
              "      <td>-892.227783</td>\n",
              "      <td>-446.113892</td>\n",
              "    </tr>\n",
              "    <tr>\n",
              "      <th>2</th>\n",
              "      <td>20003</td>\n",
              "      <td>-188.865173</td>\n",
              "      <td>-94.432587</td>\n",
              "    </tr>\n",
              "    <tr>\n",
              "      <th>3</th>\n",
              "      <td>20004</td>\n",
              "      <td>-426.796265</td>\n",
              "      <td>-213.398132</td>\n",
              "    </tr>\n",
              "    <tr>\n",
              "      <th>4</th>\n",
              "      <td>20005</td>\n",
              "      <td>-403.538330</td>\n",
              "      <td>-201.769165</td>\n",
              "    </tr>\n",
              "  </tbody>\n",
              "</table>\n",
              "</div>"
            ],
            "text/plain": [
              "   product_id  delta_oct_dec  delta_mean_q4\n",
              "0       20001     -56.816895     -28.408447\n",
              "1       20002    -892.227783    -446.113892\n",
              "2       20003    -188.865173     -94.432587\n",
              "3       20004    -426.796265    -213.398132\n",
              "4       20005    -403.538330    -201.769165"
            ]
          },
          "execution_count": 279,
          "metadata": {},
          "output_type": "execute_result"
        }
      ],
      "source": [
        "oct_val = df_febproxy.query(\"year == 2019 and month == 10\").set_index(\"product_id\")[\"tn\"]\n",
        "nov_val = df_febproxy.query(\"year == 2019 and month == 11\").set_index(\"product_id\")[\"tn\"]\n",
        "dec_val = df_febproxy.query(\"year == 2019 and month == 12\").set_index(\"product_id\")[\"tn\"]\n",
        "\n",
        "# Delta entre diciembre y octubre \n",
        "delta_oct_dec = (dec_val - oct_val).rename(\"delta_oct_dec\")\n",
        "\n",
        "# Delta promedio mes a mes\n",
        "delta_mean = ((nov_val - oct_val) + (dec_val - nov_val)) / 2\n",
        "delta_mean = delta_mean.rename(\"delta_mean_q4\")\n",
        "\n",
        "delta_df = pd.concat([delta_oct_dec, delta_mean], axis=1).reset_index()\n",
        "delta_df.head()"
      ]
    },
    {
      "cell_type": "code",
      "execution_count": 280,
      "metadata": {},
      "outputs": [
        {
          "data": {
            "text/html": [
              "<div>\n",
              "<style scoped>\n",
              "    .dataframe tbody tr th:only-of-type {\n",
              "        vertical-align: middle;\n",
              "    }\n",
              "\n",
              "    .dataframe tbody tr th {\n",
              "        vertical-align: top;\n",
              "    }\n",
              "\n",
              "    .dataframe thead th {\n",
              "        text-align: right;\n",
              "    }\n",
              "</style>\n",
              "<table border=\"1\" class=\"dataframe\">\n",
              "  <thead>\n",
              "    <tr style=\"text-align: right;\">\n",
              "      <th></th>\n",
              "      <th>product_id</th>\n",
              "      <th>reg_lin</th>\n",
              "      <th>tft_largo</th>\n",
              "      <th>tft_corto</th>\n",
              "      <th>tft_agg</th>\n",
              "      <th>q_volumen</th>\n",
              "      <th>proxy_feb2020</th>\n",
              "      <th>delta_oct_dec</th>\n",
              "      <th>delta_mean_q4</th>\n",
              "    </tr>\n",
              "  </thead>\n",
              "  <tbody>\n",
              "    <tr>\n",
              "      <th>0</th>\n",
              "      <td>20001</td>\n",
              "      <td>1162.705930</td>\n",
              "      <td>69.889557</td>\n",
              "      <td>27.722528</td>\n",
              "      <td>1328.167847</td>\n",
              "      <td>1</td>\n",
              "      <td>1074.649048</td>\n",
              "      <td>-56.816895</td>\n",
              "      <td>-28.408447</td>\n",
              "    </tr>\n",
              "    <tr>\n",
              "      <th>1</th>\n",
              "      <td>20002</td>\n",
              "      <td>1183.639540</td>\n",
              "      <td>9.226202</td>\n",
              "      <td>58.231617</td>\n",
              "      <td>849.866272</td>\n",
              "      <td>1</td>\n",
              "      <td>1221.913574</td>\n",
              "      <td>-892.227783</td>\n",
              "      <td>-446.113892</td>\n",
              "    </tr>\n",
              "    <tr>\n",
              "      <th>2</th>\n",
              "      <td>20003</td>\n",
              "      <td>684.763159</td>\n",
              "      <td>508.837769</td>\n",
              "      <td>10.315485</td>\n",
              "      <td>660.033691</td>\n",
              "      <td>1</td>\n",
              "      <td>601.752380</td>\n",
              "      <td>-188.865173</td>\n",
              "      <td>-94.432587</td>\n",
              "    </tr>\n",
              "    <tr>\n",
              "      <th>3</th>\n",
              "      <td>20004</td>\n",
              "      <td>580.484232</td>\n",
              "      <td>23.788918</td>\n",
              "      <td>9.664122</td>\n",
              "      <td>497.657654</td>\n",
              "      <td>1</td>\n",
              "      <td>467.332245</td>\n",
              "      <td>-426.796265</td>\n",
              "      <td>-213.398132</td>\n",
              "    </tr>\n",
              "    <tr>\n",
              "      <th>4</th>\n",
              "      <td>20005</td>\n",
              "      <td>563.559924</td>\n",
              "      <td>21.414722</td>\n",
              "      <td>19.407740</td>\n",
              "      <td>425.417480</td>\n",
              "      <td>1</td>\n",
              "      <td>480.747131</td>\n",
              "      <td>-403.538330</td>\n",
              "      <td>-201.769165</td>\n",
              "    </tr>\n",
              "  </tbody>\n",
              "</table>\n",
              "</div>"
            ],
            "text/plain": [
              "   product_id      reg_lin   tft_largo  tft_corto      tft_agg q_volumen  \\\n",
              "0       20001  1162.705930   69.889557  27.722528  1328.167847         1   \n",
              "1       20002  1183.639540    9.226202  58.231617   849.866272         1   \n",
              "2       20003   684.763159  508.837769  10.315485   660.033691         1   \n",
              "3       20004   580.484232   23.788918   9.664122   497.657654         1   \n",
              "4       20005   563.559924   21.414722  19.407740   425.417480         1   \n",
              "\n",
              "   proxy_feb2020  delta_oct_dec  delta_mean_q4  \n",
              "0    1074.649048     -56.816895     -28.408447  \n",
              "1    1221.913574    -892.227783    -446.113892  \n",
              "2     601.752380    -188.865173     -94.432587  \n",
              "3     467.332245    -426.796265    -213.398132  \n",
              "4     480.747131    -403.538330    -201.769165  "
            ]
          },
          "execution_count": 280,
          "metadata": {},
          "output_type": "execute_result"
        }
      ],
      "source": [
        "comparativa = comparativa.merge(delta_df, on=\"product_id\", how=\"left\")\n",
        "comparativa.head()"
      ]
    },
    {
      "cell_type": "code",
      "execution_count": 281,
      "metadata": {},
      "outputs": [
        {
          "data": {
            "text/html": [
              "<div>\n",
              "<style scoped>\n",
              "    .dataframe tbody tr th:only-of-type {\n",
              "        vertical-align: middle;\n",
              "    }\n",
              "\n",
              "    .dataframe tbody tr th {\n",
              "        vertical-align: top;\n",
              "    }\n",
              "\n",
              "    .dataframe thead th {\n",
              "        text-align: right;\n",
              "    }\n",
              "</style>\n",
              "<table border=\"1\" class=\"dataframe\">\n",
              "  <thead>\n",
              "    <tr style=\"text-align: right;\">\n",
              "      <th></th>\n",
              "      <th>product_id</th>\n",
              "      <th>reg_lin</th>\n",
              "      <th>tft_agg</th>\n",
              "      <th>blend_05</th>\n",
              "      <th>blend_06</th>\n",
              "      <th>blend_07</th>\n",
              "      <th>blend_delta</th>\n",
              "    </tr>\n",
              "  </thead>\n",
              "  <tbody>\n",
              "    <tr>\n",
              "      <th>0</th>\n",
              "      <td>20001</td>\n",
              "      <td>1162.705930</td>\n",
              "      <td>1328.167847</td>\n",
              "      <td>1245.436888</td>\n",
              "      <td>1228.890697</td>\n",
              "      <td>1212.344505</td>\n",
              "      <td>1212.344505</td>\n",
              "    </tr>\n",
              "    <tr>\n",
              "      <th>1</th>\n",
              "      <td>20002</td>\n",
              "      <td>1183.639540</td>\n",
              "      <td>849.866272</td>\n",
              "      <td>1016.752906</td>\n",
              "      <td>1050.130233</td>\n",
              "      <td>1083.507560</td>\n",
              "      <td>1083.507560</td>\n",
              "    </tr>\n",
              "    <tr>\n",
              "      <th>2</th>\n",
              "      <td>20003</td>\n",
              "      <td>684.763159</td>\n",
              "      <td>660.033691</td>\n",
              "      <td>672.398425</td>\n",
              "      <td>674.871372</td>\n",
              "      <td>677.344319</td>\n",
              "      <td>677.344319</td>\n",
              "    </tr>\n",
              "    <tr>\n",
              "      <th>3</th>\n",
              "      <td>20004</td>\n",
              "      <td>580.484232</td>\n",
              "      <td>497.657654</td>\n",
              "      <td>539.070943</td>\n",
              "      <td>547.353601</td>\n",
              "      <td>555.636259</td>\n",
              "      <td>555.636259</td>\n",
              "    </tr>\n",
              "    <tr>\n",
              "      <th>4</th>\n",
              "      <td>20005</td>\n",
              "      <td>563.559924</td>\n",
              "      <td>425.417480</td>\n",
              "      <td>494.488702</td>\n",
              "      <td>508.302946</td>\n",
              "      <td>522.117191</td>\n",
              "      <td>522.117191</td>\n",
              "    </tr>\n",
              "  </tbody>\n",
              "</table>\n",
              "</div>"
            ],
            "text/plain": [
              "   product_id      reg_lin      tft_agg     blend_05     blend_06  \\\n",
              "0       20001  1162.705930  1328.167847  1245.436888  1228.890697   \n",
              "1       20002  1183.639540   849.866272  1016.752906  1050.130233   \n",
              "2       20003   684.763159   660.033691   672.398425   674.871372   \n",
              "3       20004   580.484232   497.657654   539.070943   547.353601   \n",
              "4       20005   563.559924   425.417480   494.488702   508.302946   \n",
              "\n",
              "      blend_07  blend_delta  \n",
              "0  1212.344505  1212.344505  \n",
              "1  1083.507560  1083.507560  \n",
              "2   677.344319   677.344319  \n",
              "3   555.636259   555.636259  \n",
              "4   522.117191   522.117191  "
            ]
          },
          "execution_count": 281,
          "metadata": {},
          "output_type": "execute_result"
        }
      ],
      "source": [
        "subir = pd.DataFrame({\n",
        "    \"product_id\": comparativa[\"product_id\"],\n",
        "    \"reg_lin\": comparativa[\"reg_lin\"],\n",
        "    \"tft_agg\": comparativa[\"tft_agg\"],\n",
        "    \"blend_05\": np.where(\n",
        "        comparativa[\"q_volumen\"] == 1,\n",
        "        0.5 * comparativa[\"reg_lin\"] + 0.5 * comparativa[\"tft_agg\"],\n",
        "        comparativa[\"reg_lin\"]\n",
        "    ),\n",
        "    \"blend_06\": np.where(\n",
        "        comparativa[\"q_volumen\"] == 1,\n",
        "        0.6 * comparativa[\"reg_lin\"] + 0.4 * comparativa[\"tft_agg\"],\n",
        "        comparativa[\"reg_lin\"]\n",
        "    ),\n",
        "    \"blend_07\": np.where(\n",
        "        comparativa[\"q_volumen\"] == 1,\n",
        "        0.7 * comparativa[\"reg_lin\"] + 0.3 * comparativa[\"tft_agg\"],\n",
        "        comparativa[\"reg_lin\"]\n",
        "    ),\n",
        "    \"blend_delta\": [\n",
        "        (0.3 * rl + 0.7 * ta) if (q == 1 and delta > 0) else\n",
        "        (0.7 * rl + 0.3 * ta) if (q == 1 and delta <= 0) else\n",
        "        ta\n",
        "        for rl, ta, delta, q in zip(\n",
        "            comparativa[\"reg_lin\"],\n",
        "            comparativa[\"tft_agg\"],\n",
        "            comparativa[\"delta_mean_q4\"],\n",
        "            comparativa[\"q_volumen\"]\n",
        "        )\n",
        "    ]\n",
        "})\n",
        "\n",
        "subir.head()"
      ]
    },
    {
      "cell_type": "code",
      "execution_count": 282,
      "metadata": {},
      "outputs": [
        {
          "name": "stdout",
          "output_type": "stream",
          "text": [
            "MAE vs proxy para reg_lin: 9.78\n",
            "MAE vs proxy para tft_agg: 12.07\n",
            "MAE vs proxy para blend_05: 10.25\n",
            "MAE vs proxy para blend_06: 10.05\n",
            "MAE vs proxy para blend_07: 9.89\n",
            "MAE vs proxy para blend_delta: 10.20\n"
          ]
        }
      ],
      "source": [
        "subir_proxy = subir.merge(comparativa[[\"product_id\", \"proxy_feb2020\"]], on=\"product_id\", how=\"left\")\n",
        "\n",
        "for col in [\"reg_lin\", \"tft_agg\", \"blend_05\", \"blend_06\", \"blend_07\", \"blend_delta\"]:\n",
        "    mae = (subir_proxy[col] - subir_proxy[\"proxy_feb2020\"]).abs().mean()\n",
        "    print(f\"MAE vs proxy para {col}: {mae:.2f}\")"
      ]
    },
    {
      "cell_type": "code",
      "execution_count": 266,
      "metadata": {},
      "outputs": [
        {
          "name": "stdout",
          "output_type": "stream",
          "text": [
            "   product_id  proxy_feb2020      reg_lin      tft_agg     blend_05\n",
            "0       20001    1074.649048  1162.705930  1328.167847  1245.436888\n",
            "1       20002    1221.913574  1183.639540   849.866272  1016.752906\n",
            "2       20003     601.752380   684.763159   660.033691   672.398425\n",
            "3       20004     467.332245   580.484232   497.657654   539.070943\n",
            "4       20005     480.747131   563.559924   425.417480   494.488702\n",
            "5       20006     403.603058   482.886451   452.452118   467.669285\n",
            "6       20007     262.328125   390.923780   427.053833   408.988806\n",
            "7       20008     318.246948   422.339743   399.852478   411.096111\n",
            "8       20009     565.203369   450.559917   546.069641   498.314779\n",
            "9       20010     288.431702   418.689170   199.366974   309.028072\n",
            "Proxy tiene NaNs: 0\n",
            "reg_lin tiene NaNs: 0\n"
          ]
        }
      ],
      "source": [
        "# 1. Mirá algunos valores del proxy y de los blends\n",
        "print(subir_proxy[[\"product_id\", \"proxy_feb2020\", \"reg_lin\", \"tft_agg\", \"blend_05\"]].head(10))\n",
        "\n",
        "# 2. Revisá si hay NaNs\n",
        "print(\"Proxy tiene NaNs:\", subir_proxy[\"proxy_feb2020\"].isna().sum())\n",
        "print(\"reg_lin tiene NaNs:\", subir_proxy[\"reg_lin\"].isna().sum())"
      ]
    },
    {
      "cell_type": "code",
      "execution_count": 284,
      "metadata": {},
      "outputs": [
        {
          "name": "stdout",
          "output_type": "stream",
          "text": [
            "Mejor MAE: 9.69 con alpha=0.90, beta=0.80\n"
          ]
        }
      ],
      "source": [
        "# optimizacion por mae contra proxy\n",
        "\n",
        "best_mae = np.inf\n",
        "best_alpha = None\n",
        "best_beta = None\n",
        "\n",
        "for alpha in np.arange(0.1, 1.0, 0.1):  # Para delta > 0\n",
        "    for beta in np.arange(0.1, 1.0, 0.1):  # Para delta <= 0\n",
        "        pred = [\n",
        "            alpha * rl + (1 - alpha) * ta if delta > 0\n",
        "            else beta * rl + (1 - beta) * ta\n",
        "            for rl, ta, delta in zip(comparativa[\"reg_lin\"], comparativa[\"tft_agg\"], comparativa[\"delta_mean_q4\"])\n",
        "        ]\n",
        "        mae = np.mean(np.abs(np.array(pred) - comparativa[\"proxy_feb2020\"]))\n",
        "        if mae < best_mae:\n",
        "            best_mae = mae\n",
        "            best_alpha = alpha\n",
        "            best_beta = beta\n",
        "\n",
        "print(f\"Mejor MAE: {best_mae:.2f} con alpha={best_alpha:.2f}, beta={best_beta:.2f}\")"
      ]
    },
    {
      "cell_type": "code",
      "execution_count": 287,
      "metadata": {},
      "outputs": [
        {
          "data": {
            "text/html": [
              "<div>\n",
              "<style scoped>\n",
              "    .dataframe tbody tr th:only-of-type {\n",
              "        vertical-align: middle;\n",
              "    }\n",
              "\n",
              "    .dataframe tbody tr th {\n",
              "        vertical-align: top;\n",
              "    }\n",
              "\n",
              "    .dataframe thead th {\n",
              "        text-align: right;\n",
              "    }\n",
              "</style>\n",
              "<table border=\"1\" class=\"dataframe\">\n",
              "  <thead>\n",
              "    <tr style=\"text-align: right;\">\n",
              "      <th></th>\n",
              "      <th>product_id</th>\n",
              "      <th>reg_lin</th>\n",
              "      <th>tft_agg</th>\n",
              "      <th>blend_05</th>\n",
              "      <th>blend_06</th>\n",
              "      <th>blend_07</th>\n",
              "      <th>blend_delta</th>\n",
              "    </tr>\n",
              "  </thead>\n",
              "  <tbody>\n",
              "    <tr>\n",
              "      <th>0</th>\n",
              "      <td>20001</td>\n",
              "      <td>1162.705930</td>\n",
              "      <td>1328.167847</td>\n",
              "      <td>1245.436888</td>\n",
              "      <td>1228.890697</td>\n",
              "      <td>1212.344505</td>\n",
              "      <td>1212.344505</td>\n",
              "    </tr>\n",
              "    <tr>\n",
              "      <th>1</th>\n",
              "      <td>20002</td>\n",
              "      <td>1183.639540</td>\n",
              "      <td>849.866272</td>\n",
              "      <td>1016.752906</td>\n",
              "      <td>1050.130233</td>\n",
              "      <td>1083.507560</td>\n",
              "      <td>1083.507560</td>\n",
              "    </tr>\n",
              "    <tr>\n",
              "      <th>2</th>\n",
              "      <td>20003</td>\n",
              "      <td>684.763159</td>\n",
              "      <td>660.033691</td>\n",
              "      <td>672.398425</td>\n",
              "      <td>674.871372</td>\n",
              "      <td>677.344319</td>\n",
              "      <td>677.344319</td>\n",
              "    </tr>\n",
              "    <tr>\n",
              "      <th>3</th>\n",
              "      <td>20004</td>\n",
              "      <td>580.484232</td>\n",
              "      <td>497.657654</td>\n",
              "      <td>539.070943</td>\n",
              "      <td>547.353601</td>\n",
              "      <td>555.636259</td>\n",
              "      <td>555.636259</td>\n",
              "    </tr>\n",
              "    <tr>\n",
              "      <th>4</th>\n",
              "      <td>20005</td>\n",
              "      <td>563.559924</td>\n",
              "      <td>425.417480</td>\n",
              "      <td>494.488702</td>\n",
              "      <td>508.302946</td>\n",
              "      <td>522.117191</td>\n",
              "      <td>522.117191</td>\n",
              "    </tr>\n",
              "  </tbody>\n",
              "</table>\n",
              "</div>"
            ],
            "text/plain": [
              "   product_id      reg_lin      tft_agg     blend_05     blend_06  \\\n",
              "0       20001  1162.705930  1328.167847  1245.436888  1228.890697   \n",
              "1       20002  1183.639540   849.866272  1016.752906  1050.130233   \n",
              "2       20003   684.763159   660.033691   672.398425   674.871372   \n",
              "3       20004   580.484232   497.657654   539.070943   547.353601   \n",
              "4       20005   563.559924   425.417480   494.488702   508.302946   \n",
              "\n",
              "      blend_07  blend_delta  \n",
              "0  1212.344505  1212.344505  \n",
              "1  1083.507560  1083.507560  \n",
              "2   677.344319   677.344319  \n",
              "3   555.636259   555.636259  \n",
              "4   522.117191   522.117191  "
            ]
          },
          "execution_count": 287,
          "metadata": {},
          "output_type": "execute_result"
        }
      ],
      "source": [
        "subir.head()"
      ]
    },
    {
      "cell_type": "code",
      "execution_count": 288,
      "metadata": {},
      "outputs": [
        {
          "name": "stdout",
          "output_type": "stream",
          "text": [
            "MAE en q1 para reg_lin: 24.92\n",
            "MAE en q1 para tft_agg: 33.77\n",
            "MAE en q1 para blend_05: 26.80\n",
            "MAE en q1 para blend_06: 25.99\n",
            "MAE en q1 para blend_07: 25.37\n",
            "MAE en q1 para blend_delta: 26.29\n"
          ]
        }
      ],
      "source": [
        "mask = comparativa[\"q_volumen\"] == 1\n",
        "cols = [\"reg_lin\", \"tft_agg\", \"blend_05\", \"blend_06\", \"blend_07\", \"blend_delta\"]\n",
        "for col in cols:\n",
        "    mae = (subir.loc[mask, col] - comparativa.loc[mask, \"proxy_feb2020\"]).abs().mean()\n",
        "    print(f\"MAE en q1 para {col}: {mae:.2f}\")"
      ]
    },
    {
      "cell_type": "code",
      "execution_count": null,
      "metadata": {},
      "outputs": [],
      "source": []
    }
  ],
  "metadata": {
    "accelerator": "GPU",
    "colab": {
      "gpuType": "A100",
      "machine_shape": "hm",
      "provenance": []
    },
    "kernelspec": {
      "display_name": "Python 3",
      "name": "python3"
    },
    "language_info": {
      "codemirror_mode": {
        "name": "ipython",
        "version": 3
      },
      "file_extension": ".py",
      "mimetype": "text/x-python",
      "name": "python",
      "nbconvert_exporter": "python",
      "pygments_lexer": "ipython3",
      "version": "3.13.3"
    },
    "widgets": {
      "application/vnd.jupyter.widget-state+json": {
        "02b9a383ebb14b278159df79a3d28f46": {
          "model_module": "@jupyter-widgets/base",
          "model_module_version": "1.2.0",
          "model_name": "LayoutModel",
          "state": {
            "_model_module": "@jupyter-widgets/base",
            "_model_module_version": "1.2.0",
            "_model_name": "LayoutModel",
            "_view_count": null,
            "_view_module": "@jupyter-widgets/base",
            "_view_module_version": "1.2.0",
            "_view_name": "LayoutView",
            "align_content": null,
            "align_items": null,
            "align_self": null,
            "border": null,
            "bottom": null,
            "display": "inline-flex",
            "flex": null,
            "flex_flow": "row wrap",
            "grid_area": null,
            "grid_auto_columns": null,
            "grid_auto_flow": null,
            "grid_auto_rows": null,
            "grid_column": null,
            "grid_gap": null,
            "grid_row": null,
            "grid_template_areas": null,
            "grid_template_columns": null,
            "grid_template_rows": null,
            "height": null,
            "justify_content": null,
            "justify_items": null,
            "left": null,
            "margin": null,
            "max_height": null,
            "max_width": null,
            "min_height": null,
            "min_width": null,
            "object_fit": null,
            "object_position": null,
            "order": null,
            "overflow": null,
            "overflow_x": null,
            "overflow_y": null,
            "padding": null,
            "right": null,
            "top": null,
            "visibility": null,
            "width": "100%"
          }
        },
        "08a56173b5524baea8a42be8336ee0c3": {
          "model_module": "@jupyter-widgets/controls",
          "model_module_version": "1.5.0",
          "model_name": "HBoxModel",
          "state": {
            "_dom_classes": [],
            "_model_module": "@jupyter-widgets/controls",
            "_model_module_version": "1.5.0",
            "_model_name": "HBoxModel",
            "_view_count": null,
            "_view_module": "@jupyter-widgets/controls",
            "_view_module_version": "1.5.0",
            "_view_name": "HBoxView",
            "box_style": "",
            "children": [
              "IPY_MODEL_2fe8bffb30814abfb5fc4e089befc228",
              "IPY_MODEL_70b992f598ad46a584a54ea8b43da091",
              "IPY_MODEL_36dfbda277464fda8ed0ba7977e4cbc6"
            ],
            "layout": "IPY_MODEL_02b9a383ebb14b278159df79a3d28f46"
          }
        },
        "0ded2fe754ed4285bb2deb45e0b06e32": {
          "model_module": "@jupyter-widgets/controls",
          "model_module_version": "1.5.0",
          "model_name": "HTMLModel",
          "state": {
            "_dom_classes": [],
            "_model_module": "@jupyter-widgets/controls",
            "_model_module_version": "1.5.0",
            "_model_name": "HTMLModel",
            "_view_count": null,
            "_view_module": "@jupyter-widgets/controls",
            "_view_module_version": "1.5.0",
            "_view_name": "HTMLView",
            "description": "",
            "description_tooltip": null,
            "layout": "IPY_MODEL_3c25a02f04c648369ed786695da117dd",
            "placeholder": "​",
            "style": "IPY_MODEL_fd0df63f9eb64b889c9d6fe7b51f44fe",
            "value": " 2002/2002 [02:35&lt;00:00, 12.87it/s, train_loss=0.177]"
          }
        },
        "159ba045313f4c06ae8abfcdbf7549eb": {
          "model_module": "@jupyter-widgets/controls",
          "model_module_version": "1.5.0",
          "model_name": "ProgressStyleModel",
          "state": {
            "_model_module": "@jupyter-widgets/controls",
            "_model_module_version": "1.5.0",
            "_model_name": "ProgressStyleModel",
            "_view_count": null,
            "_view_module": "@jupyter-widgets/base",
            "_view_module_version": "1.2.0",
            "_view_name": "StyleView",
            "bar_color": null,
            "description_width": ""
          }
        },
        "1c34f91d34bd44cca626a1f98bfa243a": {
          "model_module": "@jupyter-widgets/controls",
          "model_module_version": "1.5.0",
          "model_name": "FloatProgressModel",
          "state": {
            "_dom_classes": [],
            "_model_module": "@jupyter-widgets/controls",
            "_model_module_version": "1.5.0",
            "_model_name": "FloatProgressModel",
            "_view_count": null,
            "_view_module": "@jupyter-widgets/controls",
            "_view_module_version": "1.5.0",
            "_view_name": "ProgressView",
            "bar_style": "success",
            "description": "",
            "description_tooltip": null,
            "layout": "IPY_MODEL_e5408ac0bcfc4fb495dd2836c684e83a",
            "max": 236,
            "min": 0,
            "orientation": "horizontal",
            "style": "IPY_MODEL_b0e881b29eb24001913981557a44ee1f",
            "value": 236
          }
        },
        "2bf16f7ddf5549a3bb96f304a79c4c33": {
          "model_module": "@jupyter-widgets/base",
          "model_module_version": "1.2.0",
          "model_name": "LayoutModel",
          "state": {
            "_model_module": "@jupyter-widgets/base",
            "_model_module_version": "1.2.0",
            "_model_name": "LayoutModel",
            "_view_count": null,
            "_view_module": "@jupyter-widgets/base",
            "_view_module_version": "1.2.0",
            "_view_name": "LayoutView",
            "align_content": null,
            "align_items": null,
            "align_self": null,
            "border": null,
            "bottom": null,
            "display": null,
            "flex": "2",
            "flex_flow": null,
            "grid_area": null,
            "grid_auto_columns": null,
            "grid_auto_flow": null,
            "grid_auto_rows": null,
            "grid_column": null,
            "grid_gap": null,
            "grid_row": null,
            "grid_template_areas": null,
            "grid_template_columns": null,
            "grid_template_rows": null,
            "height": null,
            "justify_content": null,
            "justify_items": null,
            "left": null,
            "margin": null,
            "max_height": null,
            "max_width": null,
            "min_height": null,
            "min_width": null,
            "object_fit": null,
            "object_position": null,
            "order": null,
            "overflow": null,
            "overflow_x": null,
            "overflow_y": null,
            "padding": null,
            "right": null,
            "top": null,
            "visibility": null,
            "width": null
          }
        },
        "2fe8bffb30814abfb5fc4e089befc228": {
          "model_module": "@jupyter-widgets/controls",
          "model_module_version": "1.5.0",
          "model_name": "HTMLModel",
          "state": {
            "_dom_classes": [],
            "_model_module": "@jupyter-widgets/controls",
            "_model_module_version": "1.5.0",
            "_model_name": "HTMLModel",
            "_view_count": null,
            "_view_module": "@jupyter-widgets/controls",
            "_view_module_version": "1.5.0",
            "_view_name": "HTMLView",
            "description": "",
            "description_tooltip": null,
            "layout": "IPY_MODEL_7f8805dd4b34423284a2942156d5247b",
            "placeholder": "​",
            "style": "IPY_MODEL_a406d552a303428ab8a6b85ef369aca3",
            "value": "Predicting DataLoader 0: 100%"
          }
        },
        "36dfbda277464fda8ed0ba7977e4cbc6": {
          "model_module": "@jupyter-widgets/controls",
          "model_module_version": "1.5.0",
          "model_name": "HTMLModel",
          "state": {
            "_dom_classes": [],
            "_model_module": "@jupyter-widgets/controls",
            "_model_module_version": "1.5.0",
            "_model_name": "HTMLModel",
            "_view_count": null,
            "_view_module": "@jupyter-widgets/controls",
            "_view_module_version": "1.5.0",
            "_view_name": "HTMLView",
            "description": "",
            "description_tooltip": null,
            "layout": "IPY_MODEL_a7352fb4b76a4bed9bcd4ba7d91751e0",
            "placeholder": "​",
            "style": "IPY_MODEL_9ad0654953f840a9b80a520f6fd71cd9",
            "value": " 236/236 [00:24&lt;00:00,  9.64it/s]"
          }
        },
        "3c25a02f04c648369ed786695da117dd": {
          "model_module": "@jupyter-widgets/base",
          "model_module_version": "1.2.0",
          "model_name": "LayoutModel",
          "state": {
            "_model_module": "@jupyter-widgets/base",
            "_model_module_version": "1.2.0",
            "_model_name": "LayoutModel",
            "_view_count": null,
            "_view_module": "@jupyter-widgets/base",
            "_view_module_version": "1.2.0",
            "_view_name": "LayoutView",
            "align_content": null,
            "align_items": null,
            "align_self": null,
            "border": null,
            "bottom": null,
            "display": null,
            "flex": null,
            "flex_flow": null,
            "grid_area": null,
            "grid_auto_columns": null,
            "grid_auto_flow": null,
            "grid_auto_rows": null,
            "grid_column": null,
            "grid_gap": null,
            "grid_row": null,
            "grid_template_areas": null,
            "grid_template_columns": null,
            "grid_template_rows": null,
            "height": null,
            "justify_content": null,
            "justify_items": null,
            "left": null,
            "margin": null,
            "max_height": null,
            "max_width": null,
            "min_height": null,
            "min_width": null,
            "object_fit": null,
            "object_position": null,
            "order": null,
            "overflow": null,
            "overflow_x": null,
            "overflow_y": null,
            "padding": null,
            "right": null,
            "top": null,
            "visibility": null,
            "width": null
          }
        },
        "3e66ecc2dadd4792802f3fc582ef1f63": {
          "model_module": "@jupyter-widgets/base",
          "model_module_version": "1.2.0",
          "model_name": "LayoutModel",
          "state": {
            "_model_module": "@jupyter-widgets/base",
            "_model_module_version": "1.2.0",
            "_model_name": "LayoutModel",
            "_view_count": null,
            "_view_module": "@jupyter-widgets/base",
            "_view_module_version": "1.2.0",
            "_view_name": "LayoutView",
            "align_content": null,
            "align_items": null,
            "align_self": null,
            "border": null,
            "bottom": null,
            "display": "inline-flex",
            "flex": null,
            "flex_flow": "row wrap",
            "grid_area": null,
            "grid_auto_columns": null,
            "grid_auto_flow": null,
            "grid_auto_rows": null,
            "grid_column": null,
            "grid_gap": null,
            "grid_row": null,
            "grid_template_areas": null,
            "grid_template_columns": null,
            "grid_template_rows": null,
            "height": null,
            "justify_content": null,
            "justify_items": null,
            "left": null,
            "margin": null,
            "max_height": null,
            "max_width": null,
            "min_height": null,
            "min_width": null,
            "object_fit": null,
            "object_position": null,
            "order": null,
            "overflow": null,
            "overflow_x": null,
            "overflow_y": null,
            "padding": null,
            "right": null,
            "top": null,
            "visibility": null,
            "width": "100%"
          }
        },
        "45389124aca94ff197e1f603329411d2": {
          "model_module": "@jupyter-widgets/base",
          "model_module_version": "1.2.0",
          "model_name": "LayoutModel",
          "state": {
            "_model_module": "@jupyter-widgets/base",
            "_model_module_version": "1.2.0",
            "_model_name": "LayoutModel",
            "_view_count": null,
            "_view_module": "@jupyter-widgets/base",
            "_view_module_version": "1.2.0",
            "_view_name": "LayoutView",
            "align_content": null,
            "align_items": null,
            "align_self": null,
            "border": null,
            "bottom": null,
            "display": "inline-flex",
            "flex": null,
            "flex_flow": "row wrap",
            "grid_area": null,
            "grid_auto_columns": null,
            "grid_auto_flow": null,
            "grid_auto_rows": null,
            "grid_column": null,
            "grid_gap": null,
            "grid_row": null,
            "grid_template_areas": null,
            "grid_template_columns": null,
            "grid_template_rows": null,
            "height": null,
            "justify_content": null,
            "justify_items": null,
            "left": null,
            "margin": null,
            "max_height": null,
            "max_width": null,
            "min_height": null,
            "min_width": null,
            "object_fit": null,
            "object_position": null,
            "order": null,
            "overflow": null,
            "overflow_x": null,
            "overflow_y": null,
            "padding": null,
            "right": null,
            "top": null,
            "visibility": null,
            "width": "100%"
          }
        },
        "47a176ad9d304f489e26352d674eb1ca": {
          "model_module": "@jupyter-widgets/controls",
          "model_module_version": "1.5.0",
          "model_name": "HTMLModel",
          "state": {
            "_dom_classes": [],
            "_model_module": "@jupyter-widgets/controls",
            "_model_module_version": "1.5.0",
            "_model_name": "HTMLModel",
            "_view_count": null,
            "_view_module": "@jupyter-widgets/controls",
            "_view_module_version": "1.5.0",
            "_view_name": "HTMLView",
            "description": "",
            "description_tooltip": null,
            "layout": "IPY_MODEL_54f46137703e46c5ae4109d27e9bd93c",
            "placeholder": "​",
            "style": "IPY_MODEL_e04557440ca5404f88e09134a64b81d4",
            "value": " 118/118 [00:17&lt;00:00,  6.63it/s]"
          }
        },
        "4aa89bf1707b40819888393239f19582": {
          "model_module": "@jupyter-widgets/controls",
          "model_module_version": "1.5.0",
          "model_name": "HTMLModel",
          "state": {
            "_dom_classes": [],
            "_model_module": "@jupyter-widgets/controls",
            "_model_module_version": "1.5.0",
            "_model_name": "HTMLModel",
            "_view_count": null,
            "_view_module": "@jupyter-widgets/controls",
            "_view_module_version": "1.5.0",
            "_view_name": "HTMLView",
            "description": "",
            "description_tooltip": null,
            "layout": "IPY_MODEL_7345441a0751489fbabcbeca5333b393",
            "placeholder": "​",
            "style": "IPY_MODEL_7d038673c1a74026a161f16946196417",
            "value": "Predicting DataLoader 0: 100%"
          }
        },
        "4fc384dcad8f4de7ba8a75528ce62df4": {
          "model_module": "@jupyter-widgets/controls",
          "model_module_version": "1.5.0",
          "model_name": "HBoxModel",
          "state": {
            "_dom_classes": [],
            "_model_module": "@jupyter-widgets/controls",
            "_model_module_version": "1.5.0",
            "_model_name": "HBoxModel",
            "_view_count": null,
            "_view_module": "@jupyter-widgets/controls",
            "_view_module_version": "1.5.0",
            "_view_name": "HBoxView",
            "box_style": "",
            "children": [
              "IPY_MODEL_5b5c2ad61c414e38b7c666e146756da8",
              "IPY_MODEL_58ece64922d4407abba11e136732c7aa",
              "IPY_MODEL_0ded2fe754ed4285bb2deb45e0b06e32"
            ],
            "layout": "IPY_MODEL_3e66ecc2dadd4792802f3fc582ef1f63"
          }
        },
        "54f46137703e46c5ae4109d27e9bd93c": {
          "model_module": "@jupyter-widgets/base",
          "model_module_version": "1.2.0",
          "model_name": "LayoutModel",
          "state": {
            "_model_module": "@jupyter-widgets/base",
            "_model_module_version": "1.2.0",
            "_model_name": "LayoutModel",
            "_view_count": null,
            "_view_module": "@jupyter-widgets/base",
            "_view_module_version": "1.2.0",
            "_view_name": "LayoutView",
            "align_content": null,
            "align_items": null,
            "align_self": null,
            "border": null,
            "bottom": null,
            "display": null,
            "flex": null,
            "flex_flow": null,
            "grid_area": null,
            "grid_auto_columns": null,
            "grid_auto_flow": null,
            "grid_auto_rows": null,
            "grid_column": null,
            "grid_gap": null,
            "grid_row": null,
            "grid_template_areas": null,
            "grid_template_columns": null,
            "grid_template_rows": null,
            "height": null,
            "justify_content": null,
            "justify_items": null,
            "left": null,
            "margin": null,
            "max_height": null,
            "max_width": null,
            "min_height": null,
            "min_width": null,
            "object_fit": null,
            "object_position": null,
            "order": null,
            "overflow": null,
            "overflow_x": null,
            "overflow_y": null,
            "padding": null,
            "right": null,
            "top": null,
            "visibility": null,
            "width": null
          }
        },
        "58ece64922d4407abba11e136732c7aa": {
          "model_module": "@jupyter-widgets/controls",
          "model_module_version": "1.5.0",
          "model_name": "FloatProgressModel",
          "state": {
            "_dom_classes": [],
            "_model_module": "@jupyter-widgets/controls",
            "_model_module_version": "1.5.0",
            "_model_name": "FloatProgressModel",
            "_view_count": null,
            "_view_module": "@jupyter-widgets/controls",
            "_view_module_version": "1.5.0",
            "_view_name": "ProgressView",
            "bar_style": "success",
            "description": "",
            "description_tooltip": null,
            "layout": "IPY_MODEL_2bf16f7ddf5549a3bb96f304a79c4c33",
            "max": 2002,
            "min": 0,
            "orientation": "horizontal",
            "style": "IPY_MODEL_159ba045313f4c06ae8abfcdbf7549eb",
            "value": 2002
          }
        },
        "5a5a7090d7d642e5a97d206f572d5cbc": {
          "model_module": "@jupyter-widgets/base",
          "model_module_version": "1.2.0",
          "model_name": "LayoutModel",
          "state": {
            "_model_module": "@jupyter-widgets/base",
            "_model_module_version": "1.2.0",
            "_model_name": "LayoutModel",
            "_view_count": null,
            "_view_module": "@jupyter-widgets/base",
            "_view_module_version": "1.2.0",
            "_view_name": "LayoutView",
            "align_content": null,
            "align_items": null,
            "align_self": null,
            "border": null,
            "bottom": null,
            "display": null,
            "flex": "2",
            "flex_flow": null,
            "grid_area": null,
            "grid_auto_columns": null,
            "grid_auto_flow": null,
            "grid_auto_rows": null,
            "grid_column": null,
            "grid_gap": null,
            "grid_row": null,
            "grid_template_areas": null,
            "grid_template_columns": null,
            "grid_template_rows": null,
            "height": null,
            "justify_content": null,
            "justify_items": null,
            "left": null,
            "margin": null,
            "max_height": null,
            "max_width": null,
            "min_height": null,
            "min_width": null,
            "object_fit": null,
            "object_position": null,
            "order": null,
            "overflow": null,
            "overflow_x": null,
            "overflow_y": null,
            "padding": null,
            "right": null,
            "top": null,
            "visibility": null,
            "width": null
          }
        },
        "5b5c2ad61c414e38b7c666e146756da8": {
          "model_module": "@jupyter-widgets/controls",
          "model_module_version": "1.5.0",
          "model_name": "HTMLModel",
          "state": {
            "_dom_classes": [],
            "_model_module": "@jupyter-widgets/controls",
            "_model_module_version": "1.5.0",
            "_model_name": "HTMLModel",
            "_view_count": null,
            "_view_module": "@jupyter-widgets/controls",
            "_view_module_version": "1.5.0",
            "_view_name": "HTMLView",
            "description": "",
            "description_tooltip": null,
            "layout": "IPY_MODEL_812e7d6d09be4600996ac73a90aace8e",
            "placeholder": "​",
            "style": "IPY_MODEL_6041a13ee4f84ed5b3d3e014c74fa0fd",
            "value": "Epoch 63: 100%"
          }
        },
        "6041a13ee4f84ed5b3d3e014c74fa0fd": {
          "model_module": "@jupyter-widgets/controls",
          "model_module_version": "1.5.0",
          "model_name": "DescriptionStyleModel",
          "state": {
            "_model_module": "@jupyter-widgets/controls",
            "_model_module_version": "1.5.0",
            "_model_name": "DescriptionStyleModel",
            "_view_count": null,
            "_view_module": "@jupyter-widgets/base",
            "_view_module_version": "1.2.0",
            "_view_name": "StyleView",
            "description_width": ""
          }
        },
        "6165e012eb6e40f2828c4b9b7add44b6": {
          "model_module": "@jupyter-widgets/controls",
          "model_module_version": "1.5.0",
          "model_name": "HTMLModel",
          "state": {
            "_dom_classes": [],
            "_model_module": "@jupyter-widgets/controls",
            "_model_module_version": "1.5.0",
            "_model_name": "HTMLModel",
            "_view_count": null,
            "_view_module": "@jupyter-widgets/controls",
            "_view_module_version": "1.5.0",
            "_view_name": "HTMLView",
            "description": "",
            "description_tooltip": null,
            "layout": "IPY_MODEL_e915a12d570b4b3fa460ec907d61e95d",
            "placeholder": "​",
            "style": "IPY_MODEL_bade2957afd849929d4813d2e3e2e8dd",
            "value": " 236/236 [00:15&lt;00:00, 15.35it/s, train_loss=0.115]"
          }
        },
        "70b992f598ad46a584a54ea8b43da091": {
          "model_module": "@jupyter-widgets/controls",
          "model_module_version": "1.5.0",
          "model_name": "FloatProgressModel",
          "state": {
            "_dom_classes": [],
            "_model_module": "@jupyter-widgets/controls",
            "_model_module_version": "1.5.0",
            "_model_name": "FloatProgressModel",
            "_view_count": null,
            "_view_module": "@jupyter-widgets/controls",
            "_view_module_version": "1.5.0",
            "_view_name": "ProgressView",
            "bar_style": "success",
            "description": "",
            "description_tooltip": null,
            "layout": "IPY_MODEL_7f1a413b779f49ffaa69732904c70fc4",
            "max": 236,
            "min": 0,
            "orientation": "horizontal",
            "style": "IPY_MODEL_9cdbd11eced341c597d1240262bc13ab",
            "value": 236
          }
        },
        "7345441a0751489fbabcbeca5333b393": {
          "model_module": "@jupyter-widgets/base",
          "model_module_version": "1.2.0",
          "model_name": "LayoutModel",
          "state": {
            "_model_module": "@jupyter-widgets/base",
            "_model_module_version": "1.2.0",
            "_model_name": "LayoutModel",
            "_view_count": null,
            "_view_module": "@jupyter-widgets/base",
            "_view_module_version": "1.2.0",
            "_view_name": "LayoutView",
            "align_content": null,
            "align_items": null,
            "align_self": null,
            "border": null,
            "bottom": null,
            "display": null,
            "flex": null,
            "flex_flow": null,
            "grid_area": null,
            "grid_auto_columns": null,
            "grid_auto_flow": null,
            "grid_auto_rows": null,
            "grid_column": null,
            "grid_gap": null,
            "grid_row": null,
            "grid_template_areas": null,
            "grid_template_columns": null,
            "grid_template_rows": null,
            "height": null,
            "justify_content": null,
            "justify_items": null,
            "left": null,
            "margin": null,
            "max_height": null,
            "max_width": null,
            "min_height": null,
            "min_width": null,
            "object_fit": null,
            "object_position": null,
            "order": null,
            "overflow": null,
            "overflow_x": null,
            "overflow_y": null,
            "padding": null,
            "right": null,
            "top": null,
            "visibility": null,
            "width": null
          }
        },
        "74ddc16521a04c05ad2cd5a404b44d4e": {
          "model_module": "@jupyter-widgets/controls",
          "model_module_version": "1.5.0",
          "model_name": "HBoxModel",
          "state": {
            "_dom_classes": [],
            "_model_module": "@jupyter-widgets/controls",
            "_model_module_version": "1.5.0",
            "_model_name": "HBoxModel",
            "_view_count": null,
            "_view_module": "@jupyter-widgets/controls",
            "_view_module_version": "1.5.0",
            "_view_name": "HBoxView",
            "box_style": "",
            "children": [
              "IPY_MODEL_4aa89bf1707b40819888393239f19582",
              "IPY_MODEL_fa2a4cb6268f41cea8e6ffc1afede0ff",
              "IPY_MODEL_47a176ad9d304f489e26352d674eb1ca"
            ],
            "layout": "IPY_MODEL_ac20092d4b6242d58fbaeece097e169c"
          }
        },
        "78b21348e19043d88f927379fbe73765": {
          "model_module": "@jupyter-widgets/base",
          "model_module_version": "1.2.0",
          "model_name": "LayoutModel",
          "state": {
            "_model_module": "@jupyter-widgets/base",
            "_model_module_version": "1.2.0",
            "_model_name": "LayoutModel",
            "_view_count": null,
            "_view_module": "@jupyter-widgets/base",
            "_view_module_version": "1.2.0",
            "_view_name": "LayoutView",
            "align_content": null,
            "align_items": null,
            "align_self": null,
            "border": null,
            "bottom": null,
            "display": null,
            "flex": null,
            "flex_flow": null,
            "grid_area": null,
            "grid_auto_columns": null,
            "grid_auto_flow": null,
            "grid_auto_rows": null,
            "grid_column": null,
            "grid_gap": null,
            "grid_row": null,
            "grid_template_areas": null,
            "grid_template_columns": null,
            "grid_template_rows": null,
            "height": null,
            "justify_content": null,
            "justify_items": null,
            "left": null,
            "margin": null,
            "max_height": null,
            "max_width": null,
            "min_height": null,
            "min_width": null,
            "object_fit": null,
            "object_position": null,
            "order": null,
            "overflow": null,
            "overflow_x": null,
            "overflow_y": null,
            "padding": null,
            "right": null,
            "top": null,
            "visibility": null,
            "width": null
          }
        },
        "78cf3d147ffc4dcca28ca46fb702d7db": {
          "model_module": "@jupyter-widgets/controls",
          "model_module_version": "1.5.0",
          "model_name": "DescriptionStyleModel",
          "state": {
            "_model_module": "@jupyter-widgets/controls",
            "_model_module_version": "1.5.0",
            "_model_name": "DescriptionStyleModel",
            "_view_count": null,
            "_view_module": "@jupyter-widgets/base",
            "_view_module_version": "1.2.0",
            "_view_name": "StyleView",
            "description_width": ""
          }
        },
        "7d038673c1a74026a161f16946196417": {
          "model_module": "@jupyter-widgets/controls",
          "model_module_version": "1.5.0",
          "model_name": "DescriptionStyleModel",
          "state": {
            "_model_module": "@jupyter-widgets/controls",
            "_model_module_version": "1.5.0",
            "_model_name": "DescriptionStyleModel",
            "_view_count": null,
            "_view_module": "@jupyter-widgets/base",
            "_view_module_version": "1.2.0",
            "_view_name": "StyleView",
            "description_width": ""
          }
        },
        "7f1a413b779f49ffaa69732904c70fc4": {
          "model_module": "@jupyter-widgets/base",
          "model_module_version": "1.2.0",
          "model_name": "LayoutModel",
          "state": {
            "_model_module": "@jupyter-widgets/base",
            "_model_module_version": "1.2.0",
            "_model_name": "LayoutModel",
            "_view_count": null,
            "_view_module": "@jupyter-widgets/base",
            "_view_module_version": "1.2.0",
            "_view_name": "LayoutView",
            "align_content": null,
            "align_items": null,
            "align_self": null,
            "border": null,
            "bottom": null,
            "display": null,
            "flex": "2",
            "flex_flow": null,
            "grid_area": null,
            "grid_auto_columns": null,
            "grid_auto_flow": null,
            "grid_auto_rows": null,
            "grid_column": null,
            "grid_gap": null,
            "grid_row": null,
            "grid_template_areas": null,
            "grid_template_columns": null,
            "grid_template_rows": null,
            "height": null,
            "justify_content": null,
            "justify_items": null,
            "left": null,
            "margin": null,
            "max_height": null,
            "max_width": null,
            "min_height": null,
            "min_width": null,
            "object_fit": null,
            "object_position": null,
            "order": null,
            "overflow": null,
            "overflow_x": null,
            "overflow_y": null,
            "padding": null,
            "right": null,
            "top": null,
            "visibility": null,
            "width": null
          }
        },
        "7f8805dd4b34423284a2942156d5247b": {
          "model_module": "@jupyter-widgets/base",
          "model_module_version": "1.2.0",
          "model_name": "LayoutModel",
          "state": {
            "_model_module": "@jupyter-widgets/base",
            "_model_module_version": "1.2.0",
            "_model_name": "LayoutModel",
            "_view_count": null,
            "_view_module": "@jupyter-widgets/base",
            "_view_module_version": "1.2.0",
            "_view_name": "LayoutView",
            "align_content": null,
            "align_items": null,
            "align_self": null,
            "border": null,
            "bottom": null,
            "display": null,
            "flex": null,
            "flex_flow": null,
            "grid_area": null,
            "grid_auto_columns": null,
            "grid_auto_flow": null,
            "grid_auto_rows": null,
            "grid_column": null,
            "grid_gap": null,
            "grid_row": null,
            "grid_template_areas": null,
            "grid_template_columns": null,
            "grid_template_rows": null,
            "height": null,
            "justify_content": null,
            "justify_items": null,
            "left": null,
            "margin": null,
            "max_height": null,
            "max_width": null,
            "min_height": null,
            "min_width": null,
            "object_fit": null,
            "object_position": null,
            "order": null,
            "overflow": null,
            "overflow_x": null,
            "overflow_y": null,
            "padding": null,
            "right": null,
            "top": null,
            "visibility": null,
            "width": null
          }
        },
        "812e7d6d09be4600996ac73a90aace8e": {
          "model_module": "@jupyter-widgets/base",
          "model_module_version": "1.2.0",
          "model_name": "LayoutModel",
          "state": {
            "_model_module": "@jupyter-widgets/base",
            "_model_module_version": "1.2.0",
            "_model_name": "LayoutModel",
            "_view_count": null,
            "_view_module": "@jupyter-widgets/base",
            "_view_module_version": "1.2.0",
            "_view_name": "LayoutView",
            "align_content": null,
            "align_items": null,
            "align_self": null,
            "border": null,
            "bottom": null,
            "display": null,
            "flex": null,
            "flex_flow": null,
            "grid_area": null,
            "grid_auto_columns": null,
            "grid_auto_flow": null,
            "grid_auto_rows": null,
            "grid_column": null,
            "grid_gap": null,
            "grid_row": null,
            "grid_template_areas": null,
            "grid_template_columns": null,
            "grid_template_rows": null,
            "height": null,
            "justify_content": null,
            "justify_items": null,
            "left": null,
            "margin": null,
            "max_height": null,
            "max_width": null,
            "min_height": null,
            "min_width": null,
            "object_fit": null,
            "object_position": null,
            "order": null,
            "overflow": null,
            "overflow_x": null,
            "overflow_y": null,
            "padding": null,
            "right": null,
            "top": null,
            "visibility": null,
            "width": null
          }
        },
        "9ad0654953f840a9b80a520f6fd71cd9": {
          "model_module": "@jupyter-widgets/controls",
          "model_module_version": "1.5.0",
          "model_name": "DescriptionStyleModel",
          "state": {
            "_model_module": "@jupyter-widgets/controls",
            "_model_module_version": "1.5.0",
            "_model_name": "DescriptionStyleModel",
            "_view_count": null,
            "_view_module": "@jupyter-widgets/base",
            "_view_module_version": "1.2.0",
            "_view_name": "StyleView",
            "description_width": ""
          }
        },
        "9cdbd11eced341c597d1240262bc13ab": {
          "model_module": "@jupyter-widgets/controls",
          "model_module_version": "1.5.0",
          "model_name": "ProgressStyleModel",
          "state": {
            "_model_module": "@jupyter-widgets/controls",
            "_model_module_version": "1.5.0",
            "_model_name": "ProgressStyleModel",
            "_view_count": null,
            "_view_module": "@jupyter-widgets/base",
            "_view_module_version": "1.2.0",
            "_view_name": "StyleView",
            "bar_color": null,
            "description_width": ""
          }
        },
        "a406d552a303428ab8a6b85ef369aca3": {
          "model_module": "@jupyter-widgets/controls",
          "model_module_version": "1.5.0",
          "model_name": "DescriptionStyleModel",
          "state": {
            "_model_module": "@jupyter-widgets/controls",
            "_model_module_version": "1.5.0",
            "_model_name": "DescriptionStyleModel",
            "_view_count": null,
            "_view_module": "@jupyter-widgets/base",
            "_view_module_version": "1.2.0",
            "_view_name": "StyleView",
            "description_width": ""
          }
        },
        "a7352fb4b76a4bed9bcd4ba7d91751e0": {
          "model_module": "@jupyter-widgets/base",
          "model_module_version": "1.2.0",
          "model_name": "LayoutModel",
          "state": {
            "_model_module": "@jupyter-widgets/base",
            "_model_module_version": "1.2.0",
            "_model_name": "LayoutModel",
            "_view_count": null,
            "_view_module": "@jupyter-widgets/base",
            "_view_module_version": "1.2.0",
            "_view_name": "LayoutView",
            "align_content": null,
            "align_items": null,
            "align_self": null,
            "border": null,
            "bottom": null,
            "display": null,
            "flex": null,
            "flex_flow": null,
            "grid_area": null,
            "grid_auto_columns": null,
            "grid_auto_flow": null,
            "grid_auto_rows": null,
            "grid_column": null,
            "grid_gap": null,
            "grid_row": null,
            "grid_template_areas": null,
            "grid_template_columns": null,
            "grid_template_rows": null,
            "height": null,
            "justify_content": null,
            "justify_items": null,
            "left": null,
            "margin": null,
            "max_height": null,
            "max_width": null,
            "min_height": null,
            "min_width": null,
            "object_fit": null,
            "object_position": null,
            "order": null,
            "overflow": null,
            "overflow_x": null,
            "overflow_y": null,
            "padding": null,
            "right": null,
            "top": null,
            "visibility": null,
            "width": null
          }
        },
        "ac20092d4b6242d58fbaeece097e169c": {
          "model_module": "@jupyter-widgets/base",
          "model_module_version": "1.2.0",
          "model_name": "LayoutModel",
          "state": {
            "_model_module": "@jupyter-widgets/base",
            "_model_module_version": "1.2.0",
            "_model_name": "LayoutModel",
            "_view_count": null,
            "_view_module": "@jupyter-widgets/base",
            "_view_module_version": "1.2.0",
            "_view_name": "LayoutView",
            "align_content": null,
            "align_items": null,
            "align_self": null,
            "border": null,
            "bottom": null,
            "display": "inline-flex",
            "flex": null,
            "flex_flow": "row wrap",
            "grid_area": null,
            "grid_auto_columns": null,
            "grid_auto_flow": null,
            "grid_auto_rows": null,
            "grid_column": null,
            "grid_gap": null,
            "grid_row": null,
            "grid_template_areas": null,
            "grid_template_columns": null,
            "grid_template_rows": null,
            "height": null,
            "justify_content": null,
            "justify_items": null,
            "left": null,
            "margin": null,
            "max_height": null,
            "max_width": null,
            "min_height": null,
            "min_width": null,
            "object_fit": null,
            "object_position": null,
            "order": null,
            "overflow": null,
            "overflow_x": null,
            "overflow_y": null,
            "padding": null,
            "right": null,
            "top": null,
            "visibility": null,
            "width": "100%"
          }
        },
        "af228417816d4931b46f7d3b9b3d0261": {
          "model_module": "@jupyter-widgets/controls",
          "model_module_version": "1.5.0",
          "model_name": "ProgressStyleModel",
          "state": {
            "_model_module": "@jupyter-widgets/controls",
            "_model_module_version": "1.5.0",
            "_model_name": "ProgressStyleModel",
            "_view_count": null,
            "_view_module": "@jupyter-widgets/base",
            "_view_module_version": "1.2.0",
            "_view_name": "StyleView",
            "bar_color": null,
            "description_width": ""
          }
        },
        "b0e881b29eb24001913981557a44ee1f": {
          "model_module": "@jupyter-widgets/controls",
          "model_module_version": "1.5.0",
          "model_name": "ProgressStyleModel",
          "state": {
            "_model_module": "@jupyter-widgets/controls",
            "_model_module_version": "1.5.0",
            "_model_name": "ProgressStyleModel",
            "_view_count": null,
            "_view_module": "@jupyter-widgets/base",
            "_view_module_version": "1.2.0",
            "_view_name": "StyleView",
            "bar_color": null,
            "description_width": ""
          }
        },
        "bade2957afd849929d4813d2e3e2e8dd": {
          "model_module": "@jupyter-widgets/controls",
          "model_module_version": "1.5.0",
          "model_name": "DescriptionStyleModel",
          "state": {
            "_model_module": "@jupyter-widgets/controls",
            "_model_module_version": "1.5.0",
            "_model_name": "DescriptionStyleModel",
            "_view_count": null,
            "_view_module": "@jupyter-widgets/base",
            "_view_module_version": "1.2.0",
            "_view_name": "StyleView",
            "description_width": ""
          }
        },
        "c9604d4e2fbb42369488443e08d7bde5": {
          "model_module": "@jupyter-widgets/controls",
          "model_module_version": "1.5.0",
          "model_name": "HTMLModel",
          "state": {
            "_dom_classes": [],
            "_model_module": "@jupyter-widgets/controls",
            "_model_module_version": "1.5.0",
            "_model_name": "HTMLModel",
            "_view_count": null,
            "_view_module": "@jupyter-widgets/controls",
            "_view_module_version": "1.5.0",
            "_view_name": "HTMLView",
            "description": "",
            "description_tooltip": null,
            "layout": "IPY_MODEL_78b21348e19043d88f927379fbe73765",
            "placeholder": "​",
            "style": "IPY_MODEL_78cf3d147ffc4dcca28ca46fb702d7db",
            "value": "Epoch 79: 100%"
          }
        },
        "d29686566f4b44bd922295fd05023c6f": {
          "model_module": "@jupyter-widgets/controls",
          "model_module_version": "1.5.0",
          "model_name": "HBoxModel",
          "state": {
            "_dom_classes": [],
            "_model_module": "@jupyter-widgets/controls",
            "_model_module_version": "1.5.0",
            "_model_name": "HBoxModel",
            "_view_count": null,
            "_view_module": "@jupyter-widgets/controls",
            "_view_module_version": "1.5.0",
            "_view_name": "HBoxView",
            "box_style": "",
            "children": [
              "IPY_MODEL_c9604d4e2fbb42369488443e08d7bde5",
              "IPY_MODEL_1c34f91d34bd44cca626a1f98bfa243a",
              "IPY_MODEL_6165e012eb6e40f2828c4b9b7add44b6"
            ],
            "layout": "IPY_MODEL_45389124aca94ff197e1f603329411d2"
          }
        },
        "e04557440ca5404f88e09134a64b81d4": {
          "model_module": "@jupyter-widgets/controls",
          "model_module_version": "1.5.0",
          "model_name": "DescriptionStyleModel",
          "state": {
            "_model_module": "@jupyter-widgets/controls",
            "_model_module_version": "1.5.0",
            "_model_name": "DescriptionStyleModel",
            "_view_count": null,
            "_view_module": "@jupyter-widgets/base",
            "_view_module_version": "1.2.0",
            "_view_name": "StyleView",
            "description_width": ""
          }
        },
        "e5408ac0bcfc4fb495dd2836c684e83a": {
          "model_module": "@jupyter-widgets/base",
          "model_module_version": "1.2.0",
          "model_name": "LayoutModel",
          "state": {
            "_model_module": "@jupyter-widgets/base",
            "_model_module_version": "1.2.0",
            "_model_name": "LayoutModel",
            "_view_count": null,
            "_view_module": "@jupyter-widgets/base",
            "_view_module_version": "1.2.0",
            "_view_name": "LayoutView",
            "align_content": null,
            "align_items": null,
            "align_self": null,
            "border": null,
            "bottom": null,
            "display": null,
            "flex": "2",
            "flex_flow": null,
            "grid_area": null,
            "grid_auto_columns": null,
            "grid_auto_flow": null,
            "grid_auto_rows": null,
            "grid_column": null,
            "grid_gap": null,
            "grid_row": null,
            "grid_template_areas": null,
            "grid_template_columns": null,
            "grid_template_rows": null,
            "height": null,
            "justify_content": null,
            "justify_items": null,
            "left": null,
            "margin": null,
            "max_height": null,
            "max_width": null,
            "min_height": null,
            "min_width": null,
            "object_fit": null,
            "object_position": null,
            "order": null,
            "overflow": null,
            "overflow_x": null,
            "overflow_y": null,
            "padding": null,
            "right": null,
            "top": null,
            "visibility": null,
            "width": null
          }
        },
        "e915a12d570b4b3fa460ec907d61e95d": {
          "model_module": "@jupyter-widgets/base",
          "model_module_version": "1.2.0",
          "model_name": "LayoutModel",
          "state": {
            "_model_module": "@jupyter-widgets/base",
            "_model_module_version": "1.2.0",
            "_model_name": "LayoutModel",
            "_view_count": null,
            "_view_module": "@jupyter-widgets/base",
            "_view_module_version": "1.2.0",
            "_view_name": "LayoutView",
            "align_content": null,
            "align_items": null,
            "align_self": null,
            "border": null,
            "bottom": null,
            "display": null,
            "flex": null,
            "flex_flow": null,
            "grid_area": null,
            "grid_auto_columns": null,
            "grid_auto_flow": null,
            "grid_auto_rows": null,
            "grid_column": null,
            "grid_gap": null,
            "grid_row": null,
            "grid_template_areas": null,
            "grid_template_columns": null,
            "grid_template_rows": null,
            "height": null,
            "justify_content": null,
            "justify_items": null,
            "left": null,
            "margin": null,
            "max_height": null,
            "max_width": null,
            "min_height": null,
            "min_width": null,
            "object_fit": null,
            "object_position": null,
            "order": null,
            "overflow": null,
            "overflow_x": null,
            "overflow_y": null,
            "padding": null,
            "right": null,
            "top": null,
            "visibility": null,
            "width": null
          }
        },
        "fa2a4cb6268f41cea8e6ffc1afede0ff": {
          "model_module": "@jupyter-widgets/controls",
          "model_module_version": "1.5.0",
          "model_name": "FloatProgressModel",
          "state": {
            "_dom_classes": [],
            "_model_module": "@jupyter-widgets/controls",
            "_model_module_version": "1.5.0",
            "_model_name": "FloatProgressModel",
            "_view_count": null,
            "_view_module": "@jupyter-widgets/controls",
            "_view_module_version": "1.5.0",
            "_view_name": "ProgressView",
            "bar_style": "success",
            "description": "",
            "description_tooltip": null,
            "layout": "IPY_MODEL_5a5a7090d7d642e5a97d206f572d5cbc",
            "max": 118,
            "min": 0,
            "orientation": "horizontal",
            "style": "IPY_MODEL_af228417816d4931b46f7d3b9b3d0261",
            "value": 118
          }
        },
        "fd0df63f9eb64b889c9d6fe7b51f44fe": {
          "model_module": "@jupyter-widgets/controls",
          "model_module_version": "1.5.0",
          "model_name": "DescriptionStyleModel",
          "state": {
            "_model_module": "@jupyter-widgets/controls",
            "_model_module_version": "1.5.0",
            "_model_name": "DescriptionStyleModel",
            "_view_count": null,
            "_view_module": "@jupyter-widgets/base",
            "_view_module_version": "1.2.0",
            "_view_name": "StyleView",
            "description_width": ""
          }
        }
      }
    }
  },
  "nbformat": 4,
  "nbformat_minor": 0
}
